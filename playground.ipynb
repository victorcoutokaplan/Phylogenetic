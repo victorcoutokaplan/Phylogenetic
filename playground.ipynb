{
 "cells": [
  {
   "cell_type": "code",
   "execution_count": 1,
   "id": "7ac936bb",
   "metadata": {},
   "outputs": [],
   "source": [
    "import MakingSequences\n",
    "import makingPairwiseDistancesOurMethod\n",
    "import makingFinalReconstructedTreeOurMethod\n",
    "import makingOtherMethodTree\n",
    "import comparingTrees\n",
    "import time"
   ]
  },
  {
   "cell_type": "code",
   "execution_count": 2,
   "id": "7aafd811",
   "metadata": {},
   "outputs": [],
   "source": [
    "seqLenInput = 1e7\n",
    "initial_size_Var=100\n",
    "# time_Var = 200_000\n",
    "mu_Var = 1e-8\n",
    "recombination_rate=1e-8"
   ]
  },
  {
   "cell_type": "code",
   "execution_count": 3,
   "id": "356dc663",
   "metadata": {},
   "outputs": [],
   "source": [
    "birth_rate = 1000.0\n",
    "death_rate = 500.0\n",
    "n_populations = 5\n",
    "extra_populations = 5 # for \"GSA\" sampling scheme"
   ]
  },
  {
   "cell_type": "code",
   "execution_count": 6,
   "id": "14a2812a",
   "metadata": {},
   "outputs": [
    {
     "name": "stdout",
     "output_type": "stream",
     "text": [
      "Demography\n",
      "╟  Populations\n",
      "║  ┌────────────────────────────────────────────────────────────────────────────────────────────────┐\n",
      "║  │ id │name   │description  │initial_size  │ growth_rate │  default_sampling_time│extra_metadata  │\n",
      "║  ├────────────────────────────────────────────────────────────────────────────────────────────────┤\n",
      "║  │ 0  │T3     │             │100.0         │      0      │                      0│{}              │\n",
      "║  │ 1  │T2     │             │100.0         │      0      │                      0│{}              │\n",
      "║  │ 2  │T1     │             │100.0         │      0      │                      0│{}              │\n",
      "║  │ 3  │T5     │             │100.0         │      0      │                      0│{}              │\n",
      "║  │ 4  │T4     │             │100.0         │      0      │                      0│{}              │\n",
      "║  │ 5  │pop_5  │             │100.0         │      0      │                2.7e+04│{}              │\n",
      "║  │ 6  │pop_6  │             │100.0         │      0      │                1.3e+04│{}              │\n",
      "║  │ 7  │pop_7  │             │100.0         │      0      │                8.8e+04│{}              │\n",
      "║  │ 8  │pop_8  │             │100.0         │      0      │                1.6e+05│{}              │\n",
      "║  └────────────────────────────────────────────────────────────────────────────────────────────────┘\n",
      "╟  Migration Matrix\n",
      "║  ┌────────────────────────────────────────────────────────────────┐\n",
      "║  │       │ T3 │ T2 │ T1 │ T5 │ T4 │ pop_5 │ pop_6 │ pop_7 │ pop_8 │\n",
      "║  ├────────────────────────────────────────────────────────────────┤\n",
      "║  │     T3│ 0  │ 0  │ 0  │ 0  │ 0  │   0   │   0   │   0   │   0   │\n",
      "║  │     T2│ 0  │ 0  │ 0  │ 0  │ 0  │   0   │   0   │   0   │   0   │\n",
      "║  │     T1│ 0  │ 0  │ 0  │ 0  │ 0  │   0   │   0   │   0   │   0   │\n",
      "║  │     T5│ 0  │ 0  │ 0  │ 0  │ 0  │   0   │   0   │   0   │   0   │\n",
      "║  │     T4│ 0  │ 0  │ 0  │ 0  │ 0  │   0   │   0   │   0   │   0   │\n",
      "║  │  pop_5│ 0  │ 0  │ 0  │ 0  │ 0  │   0   │   0   │   0   │   0   │\n",
      "║  │  pop_6│ 0  │ 0  │ 0  │ 0  │ 0  │   0   │   0   │   0   │   0   │\n",
      "║  │  pop_7│ 0  │ 0  │ 0  │ 0  │ 0  │   0   │   0   │   0   │   0   │\n",
      "║  │  pop_8│ 0  │ 0  │ 0  │ 0  │ 0  │   0   │   0   │   0   │   0   │\n",
      "║  └────────────────────────────────────────────────────────────────┘\n",
      "╟  Events\n",
      "║  ┌────────────────────────────────────────────────────────────────────────────────────────┐\n",
      "║  │       time│type        │parameters            │effect                                  │\n",
      "║  ├────────────────────────────────────────────────────────────────────────────────────────┤\n",
      "║  │  1.276e+04│Population  │derived=[T5, T4],     │Moves all lineages from derived         │\n",
      "║  │           │Split       │ancestral=pop_6       │populations 'T5' and 'T4' to the        │\n",
      "║  │           │            │                      │ancestral 'pop_6' population. Also set  │\n",
      "║  │           │            │                      │the derived populations to inactive,    │\n",
      "║  │           │            │                      │and all migration rates to and from     │\n",
      "║  │           │            │                      │the derived populations to zero.        │\n",
      "║  │┈┈┈┈┈┈┈┈┈┈┈┈┈┈┈┈┈┈┈┈┈┈┈┈┈┈┈┈┈┈┈┈┈┈┈┈┈┈┈┈┈┈┈┈┈┈┈┈┈┈┈┈┈┈┈┈┈┈┈┈┈┈┈┈┈┈┈┈┈┈┈┈┈┈┈┈┈┈┈┈┈┈┈┈┈┈┈┈│\n",
      "║  │   2.69e+04│Population  │derived=[T2, T1],     │Moves all lineages from derived         │\n",
      "║  │           │Split       │ancestral=pop_5       │populations 'T2' and 'T1' to the        │\n",
      "║  │           │            │                      │ancestral 'pop_5' population. Also set  │\n",
      "║  │           │            │                      │the derived populations to inactive,    │\n",
      "║  │           │            │                      │and all migration rates to and from     │\n",
      "║  │           │            │                      │the derived populations to zero.        │\n",
      "║  │┈┈┈┈┈┈┈┈┈┈┈┈┈┈┈┈┈┈┈┈┈┈┈┈┈┈┈┈┈┈┈┈┈┈┈┈┈┈┈┈┈┈┈┈┈┈┈┈┈┈┈┈┈┈┈┈┈┈┈┈┈┈┈┈┈┈┈┈┈┈┈┈┈┈┈┈┈┈┈┈┈┈┈┈┈┈┈┈│\n",
      "║  │  8.832e+04│Population  │derived=[pop_5,       │Moves all lineages from derived         │\n",
      "║  │           │Split       │pop_6],               │populations 'pop_5' and 'pop_6' to the  │\n",
      "║  │           │            │ancestral=pop_7       │ancestral 'pop_7' population. Also set  │\n",
      "║  │           │            │                      │the derived populations to inactive,    │\n",
      "║  │           │            │                      │and all migration rates to and from     │\n",
      "║  │           │            │                      │the derived populations to zero.        │\n",
      "║  │┈┈┈┈┈┈┈┈┈┈┈┈┈┈┈┈┈┈┈┈┈┈┈┈┈┈┈┈┈┈┈┈┈┈┈┈┈┈┈┈┈┈┈┈┈┈┈┈┈┈┈┈┈┈┈┈┈┈┈┈┈┈┈┈┈┈┈┈┈┈┈┈┈┈┈┈┈┈┈┈┈┈┈┈┈┈┈┈│\n",
      "║  │  1.566e+05│Population  │derived=[T3, pop_7],  │Moves all lineages from derived         │\n",
      "║  │           │Split       │ancestral=pop_8       │populations 'T3' and 'pop_7' to the     │\n",
      "║  │           │            │                      │ancestral 'pop_8' population. Also set  │\n",
      "║  │           │            │                      │the derived populations to inactive,    │\n",
      "║  │           │            │                      │and all migration rates to and from     │\n",
      "║  │           │            │                      │the derived populations to zero.        │\n",
      "║  └────────────────────────────────────────────────────────────────────────────────────────┘\n",
      "\n",
      "{0: 'T3', 1: 'T2', 2: 'T1', 3: 'T5', 4: 'T4'}\n",
      "0.41131054957707724\n"
     ]
    }
   ],
   "source": [
    "st = time.time()\n",
    "seqs, tree = MakingSequences.makeSequencesFromScratch(birth_rate, death_rate, n_populations, extra_populations, seqLenInput, initial_size_Var, mu_Var, recombination_rate)\n",
    "print((time.time()-st)/60)"
   ]
  },
  {
   "cell_type": "code",
   "execution_count": null,
   "id": "70ed1ace",
   "metadata": {},
   "outputs": [],
   "source": []
  },
  {
   "cell_type": "code",
   "execution_count": null,
   "id": "cda043a6",
   "metadata": {},
   "outputs": [],
   "source": []
  },
  {
   "cell_type": "code",
   "execution_count": null,
   "id": "5c442687",
   "metadata": {},
   "outputs": [],
   "source": []
  },
  {
   "cell_type": "code",
   "execution_count": null,
   "id": "2595fd54",
   "metadata": {},
   "outputs": [
    {
     "name": "stdout",
     "output_type": "stream",
     "text": [
      "in getting kmer vectors, working on k: 9 seq 0\n",
      "in getting kmer vectors, working on k: 9 seq 1\n",
      "in getting kmer vectors, working on k: 9 seq 2\n",
      "in getting kmer vectors, working on k: 9 seq 3\n",
      "in getting kmer vectors, working on k: 9 seq 4\n",
      "in getting kmer vectors, working on k: 10 seq 0\n",
      "in getting kmer vectors, working on k: 10 seq 1\n",
      "in getting kmer vectors, working on k: 10 seq 2\n",
      "in getting kmer vectors, working on k: 10 seq 3\n",
      "in getting kmer vectors, working on k: 10 seq 4\n",
      "in getting kmer vectors, working on k: 11 seq 0\n",
      "in getting kmer vectors, working on k: 11 seq 1\n",
      "in getting kmer vectors, working on k: 11 seq 2\n",
      "in getting kmer vectors, working on k: 11 seq 3\n",
      "in getting kmer vectors, working on k: 11 seq 4\n",
      "in getting kmer vectors, working on k: 12 seq 0\n"
     ]
    }
   ],
   "source": [
    "st = time.time()\n",
    "mats = makingFinalReconstructedTreeOurMethod.makeManyMatricesOfDistances(10, seqs)\n",
    "print((time.time()-st)/60)"
   ]
  },
  {
   "cell_type": "code",
   "execution_count": null,
   "id": "bf194ed1",
   "metadata": {},
   "outputs": [],
   "source": [
    "finalDistMat = makingFinalReconstructedTreeOurMethod.makeFinalDistMatrixFromSmallerOnes(mats)"
   ]
  },
  {
   "cell_type": "code",
   "execution_count": 11,
   "id": "815c599e",
   "metadata": {},
   "outputs": [
    {
     "data": {
      "text/html": [
       "<div>\n",
       "<style scoped>\n",
       "    .dataframe tbody tr th:only-of-type {\n",
       "        vertical-align: middle;\n",
       "    }\n",
       "\n",
       "    .dataframe tbody tr th {\n",
       "        vertical-align: top;\n",
       "    }\n",
       "\n",
       "    .dataframe thead th {\n",
       "        text-align: right;\n",
       "    }\n",
       "</style>\n",
       "<table border=\"1\" class=\"dataframe\">\n",
       "  <thead>\n",
       "    <tr style=\"text-align: right;\">\n",
       "      <th></th>\n",
       "      <th>0</th>\n",
       "      <th>1</th>\n",
       "      <th>2</th>\n",
       "      <th>3</th>\n",
       "      <th>4</th>\n",
       "    </tr>\n",
       "  </thead>\n",
       "  <tbody>\n",
       "    <tr>\n",
       "      <th>0</th>\n",
       "      <td>0.000000</td>\n",
       "      <td>0.000251</td>\n",
       "      <td>0.000441</td>\n",
       "      <td>0.000396</td>\n",
       "      <td>0.000803</td>\n",
       "    </tr>\n",
       "    <tr>\n",
       "      <th>1</th>\n",
       "      <td>0.000251</td>\n",
       "      <td>0.000000</td>\n",
       "      <td>0.000377</td>\n",
       "      <td>0.000444</td>\n",
       "      <td>0.000564</td>\n",
       "    </tr>\n",
       "    <tr>\n",
       "      <th>2</th>\n",
       "      <td>0.000441</td>\n",
       "      <td>0.000377</td>\n",
       "      <td>0.000000</td>\n",
       "      <td>0.000370</td>\n",
       "      <td>0.000660</td>\n",
       "    </tr>\n",
       "    <tr>\n",
       "      <th>3</th>\n",
       "      <td>0.000396</td>\n",
       "      <td>0.000444</td>\n",
       "      <td>0.000370</td>\n",
       "      <td>0.000000</td>\n",
       "      <td>0.000693</td>\n",
       "    </tr>\n",
       "    <tr>\n",
       "      <th>4</th>\n",
       "      <td>0.000803</td>\n",
       "      <td>0.000564</td>\n",
       "      <td>0.000660</td>\n",
       "      <td>0.000693</td>\n",
       "      <td>0.000000</td>\n",
       "    </tr>\n",
       "  </tbody>\n",
       "</table>\n",
       "</div>"
      ],
      "text/plain": [
       "          0         1         2         3         4\n",
       "0  0.000000  0.000251  0.000441  0.000396  0.000803\n",
       "1  0.000251  0.000000  0.000377  0.000444  0.000564\n",
       "2  0.000441  0.000377  0.000000  0.000370  0.000660\n",
       "3  0.000396  0.000444  0.000370  0.000000  0.000693\n",
       "4  0.000803  0.000564  0.000660  0.000693  0.000000"
      ]
     },
     "execution_count": 11,
     "metadata": {},
     "output_type": "execute_result"
    }
   ],
   "source": [
    "import numpy as np\n",
    "finalDistMat\n",
    "average = np.average(finalDistMat)\n",
    "for i in range(len(finalDistMat[0])):\n",
    "    for j in range(len(finalDistMat[0])):\n",
    "        if i != j:\n",
    "            if finalDistMat[i][j] == 0.0:\n",
    "                finalDistMat[i][j] += average\n",
    "finalDistMat"
   ]
  },
  {
   "cell_type": "code",
   "execution_count": 26,
   "id": "3bf92513",
   "metadata": {},
   "outputs": [
    {
     "data": {
      "text/html": [
       "<div>\n",
       "<style scoped>\n",
       "    .dataframe tbody tr th:only-of-type {\n",
       "        vertical-align: middle;\n",
       "    }\n",
       "\n",
       "    .dataframe tbody tr th {\n",
       "        vertical-align: top;\n",
       "    }\n",
       "\n",
       "    .dataframe thead th {\n",
       "        text-align: right;\n",
       "    }\n",
       "</style>\n",
       "<table border=\"1\" class=\"dataframe\">\n",
       "  <thead>\n",
       "    <tr style=\"text-align: right;\">\n",
       "      <th></th>\n",
       "      <th>0</th>\n",
       "      <th>1</th>\n",
       "      <th>2</th>\n",
       "      <th>3</th>\n",
       "      <th>4</th>\n",
       "    </tr>\n",
       "  </thead>\n",
       "  <tbody>\n",
       "    <tr>\n",
       "      <th>0</th>\n",
       "      <td>0.000000</td>\n",
       "      <td>0.000501</td>\n",
       "      <td>0.000883</td>\n",
       "      <td>0.000791</td>\n",
       "      <td>0.001605</td>\n",
       "    </tr>\n",
       "    <tr>\n",
       "      <th>1</th>\n",
       "      <td>0.000501</td>\n",
       "      <td>0.000000</td>\n",
       "      <td>0.000755</td>\n",
       "      <td>0.000888</td>\n",
       "      <td>0.001129</td>\n",
       "    </tr>\n",
       "    <tr>\n",
       "      <th>2</th>\n",
       "      <td>0.000883</td>\n",
       "      <td>0.000755</td>\n",
       "      <td>0.000000</td>\n",
       "      <td>0.000741</td>\n",
       "      <td>0.001320</td>\n",
       "    </tr>\n",
       "    <tr>\n",
       "      <th>3</th>\n",
       "      <td>0.000791</td>\n",
       "      <td>0.000888</td>\n",
       "      <td>0.000741</td>\n",
       "      <td>0.000000</td>\n",
       "      <td>0.001386</td>\n",
       "    </tr>\n",
       "    <tr>\n",
       "      <th>4</th>\n",
       "      <td>0.001605</td>\n",
       "      <td>0.001129</td>\n",
       "      <td>0.001320</td>\n",
       "      <td>0.001386</td>\n",
       "      <td>0.000000</td>\n",
       "    </tr>\n",
       "  </tbody>\n",
       "</table>\n",
       "</div>"
      ],
      "text/plain": [
       "          0         1         2         3         4\n",
       "0  0.000000  0.000501  0.000883  0.000791  0.001605\n",
       "1  0.000501  0.000000  0.000755  0.000888  0.001129\n",
       "2  0.000883  0.000755  0.000000  0.000741  0.001320\n",
       "3  0.000791  0.000888  0.000741  0.000000  0.001386\n",
       "4  0.001605  0.001129  0.001320  0.001386  0.000000"
      ]
     },
     "execution_count": 26,
     "metadata": {},
     "output_type": "execute_result"
    }
   ],
   "source": [
    "finalDistMat*2"
   ]
  },
  {
   "cell_type": "code",
   "execution_count": 23,
   "id": "8cfb20e2",
   "metadata": {
    "scrolled": true
   },
   "outputs": [
    {
     "name": "stdout",
     "output_type": "stream",
     "text": [
      "[&U] (T5:17426.554218113255,(T1:39211.368914145874,(T3:94537.48878611736,(T4:33522.15481820746,T2:16610.455748307362):17108.361388777346):3713.661514224135):17426.554218113255);\n",
      "\n",
      "/--------------------------------------------------------------------------- T5\n",
      "+                                                                              \n",
      "|                  /-------------------------------------------------------- T1\n",
      "\\------------------+                                                           \n",
      "                   |                  /------------------------------------- T3\n",
      "                   \\------------------+                                        \n",
      "                                      |                  /------------------ T4\n",
      "                                      \\------------------+                     \n",
      "                                                         \\------------------ T2\n",
      "                                                                               \n",
      "                                                                               \n"
     ]
    }
   ],
   "source": [
    "our_tree = makingFinalReconstructedTreeOurMethod.makeTree(seqs, mu_Var , (finalDistMat*2))\n",
    "\n",
    "\n",
    "print(our_tree.as_string(\"newick\"))\n",
    "our_tree.print_plot()"
   ]
  },
  {
   "cell_type": "code",
   "execution_count": null,
   "id": "926aabef",
   "metadata": {},
   "outputs": [],
   "source": []
  },
  {
   "cell_type": "code",
   "execution_count": null,
   "id": "2195c130",
   "metadata": {},
   "outputs": [],
   "source": []
  },
  {
   "cell_type": "code",
   "execution_count": null,
   "id": "261f0fb4",
   "metadata": {},
   "outputs": [],
   "source": []
  },
  {
   "cell_type": "code",
   "execution_count": 15,
   "id": "f1ee3793",
   "metadata": {},
   "outputs": [
    {
     "name": "stdout",
     "output_type": "stream",
     "text": [
      "T4\t0\n",
      "T2\t0.0006837750000000531\t0\n",
      "T5\t0.0008627749999999823\t0.0008663249999999456\t0\n",
      "T1\t0.0008588750000000367\t0.0008622499999999533\t0.0001875000000000071\t0\n",
      "T3\t0.0015962499999999658\t0.0015998499999999582\t0.0016019750000000332\t0.001597900000000041\t0\n",
      "\tT4\tT2\tT5\tT1\tT3\n"
     ]
    }
   ],
   "source": [
    "theirTree = makingOtherMethodTree.inferTreeFromSeqs(seqs, mu_Var)"
   ]
  },
  {
   "cell_type": "code",
   "execution_count": 16,
   "id": "d5d5187e",
   "metadata": {},
   "outputs": [
    {
     "name": "stdout",
     "output_type": "stream",
     "text": [
      "                                                  /------------------------- T2\n",
      "/-------------------------------------------------+                            \n",
      "|                                                 \\------------------------- T4\n",
      "+                                                                              \n",
      "|                        /-------------------------------------------------- T3\n",
      "\\------------------------+                                                     \n",
      "                         |                        /------------------------- T5\n",
      "                         \\------------------------+                            \n",
      "                                                  \\------------------------- T1\n",
      "                                                                               \n",
      "                                                                               \n",
      "((T2:34365.31250000097,T4:34012.187500004344):4422.343749996283,(T3:116771.56250000097,(T5:9575.833333332524,T1:9174.166666668187):33847.18750000237):4422.343749996283)\n"
     ]
    }
   ],
   "source": [
    "theirTree.print_plot()\n",
    "print(str(theirTree))"
   ]
  },
  {
   "cell_type": "code",
   "execution_count": null,
   "id": "a4e8b1c5",
   "metadata": {},
   "outputs": [],
   "source": []
  },
  {
   "cell_type": "code",
   "execution_count": 13,
   "id": "23422f34",
   "metadata": {},
   "outputs": [
    {
     "name": "stdout",
     "output_type": "stream",
     "text": [
      "(((T4:33893.09336373573,T2:33893.09336373573):8952.776937659539,(T5:9332.09193210266,T1:9332.09193210266):33513.77836929261):37304.89560273798,T3:80150.76590413325):117282.94688582307\n",
      "                                                  /------------------------- T4\n",
      "                         /------------------------+                            \n",
      "                         |                        \\------------------------- T2\n",
      "/------------------------+                                                     \n",
      "|                        |                        /------------------------- T5\n",
      "+                        \\------------------------+                            \n",
      "|                                                 \\------------------------- T1\n",
      "|                                                                              \n",
      "\\--------------------------------------------------------------------------- T3\n",
      "                                                                               \n",
      "                                                                               \n"
     ]
    }
   ],
   "source": [
    "print(str(tree))\n",
    "tree.print_plot()"
   ]
  },
  {
   "cell_type": "code",
   "execution_count": null,
   "id": "386aa7af",
   "metadata": {},
   "outputs": [],
   "source": []
  },
  {
   "cell_type": "code",
   "execution_count": null,
   "id": "098a5734",
   "metadata": {},
   "outputs": [],
   "source": []
  },
  {
   "cell_type": "code",
   "execution_count": null,
   "id": "67ca5fb5",
   "metadata": {},
   "outputs": [],
   "source": []
  },
  {
   "cell_type": "code",
   "execution_count": 17,
   "id": "3025e5bc",
   "metadata": {},
   "outputs": [
    {
     "name": "stdout",
     "output_type": "stream",
     "text": [
      "==== REAL\n",
      "Distance between 'T1' and 'T2': 85691.74060279054\n",
      "Distance between 'T1' and 'T3': 160301.5318082665\n",
      "Distance between 'T1' and 'T4': 85691.74060279054\n",
      "Distance between 'T1' and 'T5': 18664.18386420532\n",
      "Distance between 'T2' and 'T3': 160301.5318082665\n",
      "Distance between 'T2' and 'T4': 67786.18672747146\n",
      "Distance between 'T2' and 'T5': 85691.74060279054\n",
      "Distance between 'T3' and 'T4': 160301.5318082665\n",
      "Distance between 'T3' and 'T5': 160301.5318082665\n",
      "Distance between 'T4' and 'T5': 85691.74060279054\n",
      "====\n",
      "==== THEM\n",
      "Distance between 'T4' and 'T2': 68377.50000000531\n",
      "Distance between 'T4' and 'T5': 86279.89583333182\n",
      "Distance between 'T4' and 'T1': 85878.22916666747\n",
      "Distance between 'T4' and 'T3': 159628.43749999788\n",
      "Distance between 'T2' and 'T5': 86633.02083332844\n",
      "Distance between 'T2' and 'T1': 86231.3541666641\n",
      "Distance between 'T2' and 'T3': 159981.5624999945\n",
      "Distance between 'T5' and 'T1': 18750.000000000713\n",
      "Distance between 'T5' and 'T3': 160194.58333333588\n",
      "Distance between 'T1' and 'T3': 159792.91666667152\n",
      "====\n",
      "==== US\n",
      "Distance between 'T4' and 'T2': 25066.30528325741\n",
      "Distance between 'T4' and 'T5': 44598.64307871772\n",
      "Distance between 'T4' and 'T1': 46777.773317677405\n",
      "Distance between 'T4' and 'T3': 72584.00249655108\n",
      "Distance between 'T2' and 'T5': 36142.79354376768\n",
      "Distance between 'T2' and 'T1': 38321.92378272736\n",
      "Distance between 'T2' and 'T3': 64128.15296160104\n",
      "Distance between 'T5' and 'T1': 37032.23867518619\n",
      "Distance between 'T5' and 'T3': 66552.129368284\n",
      "Distance between 'T1' and 'T3': 68731.25960724369\n",
      "====\n"
     ]
    }
   ],
   "source": [
    "print('==== REAL')\n",
    "pdc = tree.phylogenetic_distance_matrix()\n",
    "for i, t1 in enumerate(tree.taxon_namespace[:-1]):\n",
    "    for t2 in tree.taxon_namespace[i+1:]:\n",
    "        print(\"Distance between '%s' and '%s': %s\" % (t1.label, t2.label, pdc(t1, t2)))\n",
    "print('====')\n",
    "print('==== THEM')\n",
    "pdc = theirTree.phylogenetic_distance_matrix()\n",
    "for i, t1 in enumerate(theirTree.taxon_namespace[:-1]):\n",
    "    for t2 in theirTree.taxon_namespace[i+1:]:\n",
    "        print(\"Distance between '%s' and '%s': %s\" % (t1.label, t2.label, pdc(t1, t2)))\n",
    "print('====')\n",
    "print('==== US')\n",
    "pdc = our_tree.phylogenetic_distance_matrix()\n",
    "for i, t1 in enumerate(our_tree.taxon_namespace[:-1]):\n",
    "    for t2 in our_tree.taxon_namespace[i+1:]:\n",
    "        print(\"Distance between '%s' and '%s': %s\" % (t1.label, t2.label, pdc(t1, t2)))\n",
    "print('====')"
   ]
  },
  {
   "cell_type": "code",
   "execution_count": null,
   "id": "475d93a4",
   "metadata": {},
   "outputs": [],
   "source": []
  },
  {
   "cell_type": "code",
   "execution_count": null,
   "id": "ead4b712",
   "metadata": {},
   "outputs": [],
   "source": []
  },
  {
   "cell_type": "code",
   "execution_count": null,
   "id": "565359fd",
   "metadata": {},
   "outputs": [],
   "source": []
  },
  {
   "cell_type": "code",
   "execution_count": 162,
   "id": "1fd41548",
   "metadata": {},
   "outputs": [],
   "source": [
    "\n",
    "for edge in our_tree.postorder_edge_iter():\n",
    "    if edge.length != None:\n",
    "        edge.length /= 200"
   ]
  },
  {
   "cell_type": "code",
   "execution_count": 163,
   "id": "0c169842",
   "metadata": {},
   "outputs": [
    {
     "name": "stdout",
     "output_type": "stream",
     "text": [
      "7.0 1.75 165807.60534179208 148990.15906985686 1.4964587022336173\n"
     ]
    },
    {
     "data": {
      "text/plain": [
       "(7.0, 1.75, 165807.60534179208, 148990.15906985686, 1.4964587022336173)"
      ]
     },
     "execution_count": 163,
     "metadata": {},
     "output_type": "execute_result"
    }
   ],
   "source": [
    "comparingTrees.computeDistancesOfTrees(theirTree, tree, n_populations)"
   ]
  },
  {
   "cell_type": "code",
   "execution_count": 164,
   "id": "c8106ee5",
   "metadata": {},
   "outputs": [
    {
     "name": "stdout",
     "output_type": "stream",
     "text": [
      "7.0 1.75 143447.72056300173 117265.09262800806 1.2036716063815682\n"
     ]
    },
    {
     "data": {
      "text/plain": [
       "(7.0, 1.75, 143447.72056300173, 117265.09262800806, 1.2036716063815682)"
      ]
     },
     "execution_count": 164,
     "metadata": {},
     "output_type": "execute_result"
    }
   ],
   "source": [
    "comparingTrees.computeDistancesOfTrees(tree, our_tree, n_populations)"
   ]
  },
  {
   "cell_type": "code",
   "execution_count": null,
   "id": "cfd99da1",
   "metadata": {},
   "outputs": [],
   "source": []
  }
 ],
 "metadata": {
  "kernelspec": {
   "display_name": "Python 3",
   "language": "python",
   "name": "python3"
  },
  "language_info": {
   "codemirror_mode": {
    "name": "ipython",
    "version": 3
   },
   "file_extension": ".py",
   "mimetype": "text/x-python",
   "name": "python",
   "nbconvert_exporter": "python",
   "pygments_lexer": "ipython3",
   "version": "3.8.8"
  }
 },
 "nbformat": 4,
 "nbformat_minor": 5
}
