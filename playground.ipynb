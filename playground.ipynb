{
 "cells": [
  {
   "cell_type": "code",
   "execution_count": 1,
   "id": "7ac936bb",
   "metadata": {},
   "outputs": [],
   "source": [
    "import MakingSequences\n",
    "import makingPairwiseDistancesOurMethod\n",
    "import makingFinalReconstructedTreeOurMethod\n",
    "import makingOtherMethodTree"
   ]
  },
  {
   "cell_type": "code",
   "execution_count": 2,
   "id": "7aafd811",
   "metadata": {},
   "outputs": [],
   "source": [
    "seqLenInput = 1e7\n",
    "initial_size_Var=100\n",
    "# time_Var = 200_000\n",
    "mu_Var = 1e-8\n",
    "recombination_rate=1e-8"
   ]
  },
  {
   "cell_type": "code",
   "execution_count": 3,
   "id": "356dc663",
   "metadata": {},
   "outputs": [],
   "source": [
    "birth_rate = 1000.0\n",
    "death_rate = 500.0\n",
    "n_populations = 5\n",
    "extra_populations = 5 # for \"GSA\" sampling scheme"
   ]
  },
  {
   "cell_type": "code",
   "execution_count": 4,
   "id": "14a2812a",
   "metadata": {},
   "outputs": [
    {
     "name": "stdout",
     "output_type": "stream",
     "text": [
      "Demography\n",
      "╟  Populations\n",
      "║  ┌────────────────────────────────────────────────────────────────────────────────────────────────┐\n",
      "║  │ id │name   │description  │initial_size  │ growth_rate │  default_sampling_time│extra_metadata  │\n",
      "║  ├────────────────────────────────────────────────────────────────────────────────────────────────┤\n",
      "║  │ 0  │T5     │             │100.0         │      0      │                      0│{}              │\n",
      "║  │ 1  │T1     │             │100.0         │      0      │                      0│{}              │\n",
      "║  │ 2  │T2     │             │100.0         │      0      │                      0│{}              │\n",
      "║  │ 3  │T4     │             │100.0         │      0      │                      0│{}              │\n",
      "║  │ 4  │T3     │             │100.0         │      0      │                      0│{}              │\n",
      "║  │ 5  │pop_5  │             │100.0         │      0      │                1.1e+04│{}              │\n",
      "║  │ 6  │pop_6  │             │100.0         │      0      │                  2e+04│{}              │\n",
      "║  │ 7  │pop_7  │             │100.0         │      0      │                9.8e+04│{}              │\n",
      "║  │ 8  │pop_8  │             │100.0         │      0      │                2.3e+05│{}              │\n",
      "║  └────────────────────────────────────────────────────────────────────────────────────────────────┘\n",
      "╟  Migration Matrix\n",
      "║  ┌────────────────────────────────────────────────────────────────┐\n",
      "║  │       │ T5 │ T1 │ T2 │ T4 │ T3 │ pop_5 │ pop_6 │ pop_7 │ pop_8 │\n",
      "║  ├────────────────────────────────────────────────────────────────┤\n",
      "║  │     T5│ 0  │ 0  │ 0  │ 0  │ 0  │   0   │   0   │   0   │   0   │\n",
      "║  │     T1│ 0  │ 0  │ 0  │ 0  │ 0  │   0   │   0   │   0   │   0   │\n",
      "║  │     T2│ 0  │ 0  │ 0  │ 0  │ 0  │   0   │   0   │   0   │   0   │\n",
      "║  │     T4│ 0  │ 0  │ 0  │ 0  │ 0  │   0   │   0   │   0   │   0   │\n",
      "║  │     T3│ 0  │ 0  │ 0  │ 0  │ 0  │   0   │   0   │   0   │   0   │\n",
      "║  │  pop_5│ 0  │ 0  │ 0  │ 0  │ 0  │   0   │   0   │   0   │   0   │\n",
      "║  │  pop_6│ 0  │ 0  │ 0  │ 0  │ 0  │   0   │   0   │   0   │   0   │\n",
      "║  │  pop_7│ 0  │ 0  │ 0  │ 0  │ 0  │   0   │   0   │   0   │   0   │\n",
      "║  │  pop_8│ 0  │ 0  │ 0  │ 0  │ 0  │   0   │   0   │   0   │   0   │\n",
      "║  └────────────────────────────────────────────────────────────────┘\n",
      "╟  Events\n",
      "║  ┌────────────────────────────────────────────────────────────────────────────────────────┐\n",
      "║  │       time│type        │parameters            │effect                                  │\n",
      "║  ├────────────────────────────────────────────────────────────────────────────────────────┤\n",
      "║  │  1.101e+04│Population  │derived=[T2, T4],     │Moves all lineages from derived         │\n",
      "║  │           │Split       │ancestral=pop_5       │populations 'T2' and 'T4' to the        │\n",
      "║  │           │            │                      │ancestral 'pop_5' population. Also set  │\n",
      "║  │           │            │                      │the derived populations to inactive,    │\n",
      "║  │           │            │                      │and all migration rates to and from     │\n",
      "║  │           │            │                      │the derived populations to zero.        │\n",
      "║  │┈┈┈┈┈┈┈┈┈┈┈┈┈┈┈┈┈┈┈┈┈┈┈┈┈┈┈┈┈┈┈┈┈┈┈┈┈┈┈┈┈┈┈┈┈┈┈┈┈┈┈┈┈┈┈┈┈┈┈┈┈┈┈┈┈┈┈┈┈┈┈┈┈┈┈┈┈┈┈┈┈┈┈┈┈┈┈┈│\n",
      "║  │  2.022e+04│Population  │derived=[T1, pop_5],  │Moves all lineages from derived         │\n",
      "║  │           │Split       │ancestral=pop_6       │populations 'T1' and 'pop_5' to the     │\n",
      "║  │           │            │                      │ancestral 'pop_6' population. Also set  │\n",
      "║  │           │            │                      │the derived populations to inactive,    │\n",
      "║  │           │            │                      │and all migration rates to and from     │\n",
      "║  │           │            │                      │the derived populations to zero.        │\n",
      "║  │┈┈┈┈┈┈┈┈┈┈┈┈┈┈┈┈┈┈┈┈┈┈┈┈┈┈┈┈┈┈┈┈┈┈┈┈┈┈┈┈┈┈┈┈┈┈┈┈┈┈┈┈┈┈┈┈┈┈┈┈┈┈┈┈┈┈┈┈┈┈┈┈┈┈┈┈┈┈┈┈┈┈┈┈┈┈┈┈│\n",
      "║  │  9.838e+04│Population  │derived=[T5, pop_6],  │Moves all lineages from derived         │\n",
      "║  │           │Split       │ancestral=pop_7       │populations 'T5' and 'pop_6' to the     │\n",
      "║  │           │            │                      │ancestral 'pop_7' population. Also set  │\n",
      "║  │           │            │                      │the derived populations to inactive,    │\n",
      "║  │           │            │                      │and all migration rates to and from     │\n",
      "║  │           │            │                      │the derived populations to zero.        │\n",
      "║  │┈┈┈┈┈┈┈┈┈┈┈┈┈┈┈┈┈┈┈┈┈┈┈┈┈┈┈┈┈┈┈┈┈┈┈┈┈┈┈┈┈┈┈┈┈┈┈┈┈┈┈┈┈┈┈┈┈┈┈┈┈┈┈┈┈┈┈┈┈┈┈┈┈┈┈┈┈┈┈┈┈┈┈┈┈┈┈┈│\n",
      "║  │  2.269e+05│Population  │derived=[pop_7, T3],  │Moves all lineages from derived         │\n",
      "║  │           │Split       │ancestral=pop_8       │populations 'pop_7' and 'T3' to the     │\n",
      "║  │           │            │                      │ancestral 'pop_8' population. Also set  │\n",
      "║  │           │            │                      │the derived populations to inactive,    │\n",
      "║  │           │            │                      │and all migration rates to and from     │\n",
      "║  │           │            │                      │the derived populations to zero.        │\n",
      "║  └────────────────────────────────────────────────────────────────────────────────────────┘\n",
      "\n"
     ]
    }
   ],
   "source": [
    "seqs, tree = MakingSequences.makeSequencesFromScratch(birth_rate, death_rate, n_populations, extra_populations, seqLenInput, initial_size_Var, mu_Var, recombination_rate)"
   ]
  },
  {
   "cell_type": "code",
   "execution_count": null,
   "id": "70ed1ace",
   "metadata": {},
   "outputs": [],
   "source": []
  },
  {
   "cell_type": "code",
   "execution_count": null,
   "id": "cda043a6",
   "metadata": {},
   "outputs": [],
   "source": []
  },
  {
   "cell_type": "code",
   "execution_count": null,
   "id": "23e064d4",
   "metadata": {},
   "outputs": [],
   "source": [
    "print(tree)\n",
    "print('====')\n",
    "pdc = tree.phylogenetic_distance_matrix()\n",
    "for i, t1 in enumerate(tree.taxon_namespace[:-1]):\n",
    "    for t2 in tree.taxon_namespace[i+1:]:\n",
    "        print(\"Distance between '%s' and '%s': %s\" % (t1.label, t2.label, pdc(t1, t2)))\n",
    "print('====')\n",
    "tree.print_plot()"
   ]
  },
  {
   "cell_type": "code",
   "execution_count": null,
   "id": "252b4922",
   "metadata": {},
   "outputs": [],
   "source": []
  },
  {
   "cell_type": "code",
   "execution_count": null,
   "id": "5c442687",
   "metadata": {},
   "outputs": [],
   "source": []
  },
  {
   "cell_type": "code",
   "execution_count": null,
   "id": "19c19c4e",
   "metadata": {},
   "outputs": [
    {
     "name": "stdout",
     "output_type": "stream",
     "text": [
      "in getting kmer vectors, working on k: 9 seq 0\n",
      "in getting kmer vectors, working on k: 9 seq 1\n",
      "in getting kmer vectors, working on k: 9 seq 2\n",
      "in getting kmer vectors, working on k: 9 seq 3\n",
      "in getting kmer vectors, working on k: 9 seq 4\n",
      "in getting kmer vectors, working on k: 10 seq 0\n",
      "in getting kmer vectors, working on k: 10 seq 1\n",
      "in getting kmer vectors, working on k: 10 seq 2\n",
      "in getting kmer vectors, working on k: 10 seq 3\n",
      "in getting kmer vectors, working on k: 10 seq 4\n",
      "in getting kmer vectors, working on k: 11 seq 0\n",
      "in getting kmer vectors, working on k: 11 seq 1\n",
      "in getting kmer vectors, working on k: 11 seq 2\n",
      "in getting kmer vectors, working on k: 11 seq 3\n",
      "in getting kmer vectors, working on k: 11 seq 4\n",
      "in getting kmer vectors, working on k: 12 seq 0\n"
     ]
    }
   ],
   "source": [
    "lenSeq = len(seqs['T1'])\n",
    "mats = []\n",
    "\n",
    "number_cuts = 10\n",
    "\n",
    "for i in range(number_cuts):\n",
    "    cutSeqs = {}\n",
    "    for key in seqs.keys():\n",
    "        cutSeqs[key] = seqs[key][int(i * lenSeq/number_cuts) : int((i+1)*lenSeq/number_cuts)]\n",
    "    ourMatrix = makingPairwiseDistancesOurMethod.makeTimeAndSizeMatrix(cutSeqs, seqLenInput/number_cuts)\n",
    "    mats.append(ourMatrix)"
   ]
  },
  {
   "cell_type": "code",
   "execution_count": null,
   "id": "d4c12664",
   "metadata": {},
   "outputs": [],
   "source": [
    "import pandas as pd\n",
    "import numpy as np\n",
    "\n",
    "countMat = np.zeros([5,5])\n",
    "\n",
    "for mat in mats:\n",
    "    distMat = mat[0]\n",
    "    for i in range(len(mats)):\n",
    "        for j in range(len(mats)):\n",
    "            if distMat[i][j] > -0.05:\n",
    "                countMat[i][j] += 1\n",
    "                \n",
    "print(countMat)\n",
    "\n",
    "finalDistMat = np.zeros([5,5])\n",
    "\n",
    "for mat in mats:\n",
    "    distMat = mat[0]\n",
    "    for i in range(len(mats)):\n",
    "        for j in range(len(mats)):\n",
    "            if distMat[i][j] > 0:\n",
    "                finalDistMat[i][j] += distMat[i][j] / countMat[i][j]\n",
    "\n",
    "finalDistMat\n",
    "df = pd.DataFrame(finalDistMat)\n",
    "df"
   ]
  },
  {
   "cell_type": "code",
   "execution_count": null,
   "id": "8cfb20e2",
   "metadata": {
    "scrolled": true
   },
   "outputs": [],
   "source": [
    "# nj_tree = makingFinalReconstructedTreeOurMethod.makeTree(ourMatrix[0])\n",
    "# print(nj_tree.as_string(\"newick\"))\n",
    "# nj_tree.print_plot()"
   ]
  },
  {
   "cell_type": "code",
   "execution_count": null,
   "id": "926aabef",
   "metadata": {},
   "outputs": [],
   "source": []
  },
  {
   "cell_type": "code",
   "execution_count": null,
   "id": "b600278e",
   "metadata": {},
   "outputs": [],
   "source": []
  },
  {
   "cell_type": "code",
   "execution_count": null,
   "id": "2195c130",
   "metadata": {},
   "outputs": [],
   "source": []
  },
  {
   "cell_type": "code",
   "execution_count": null,
   "id": "261f0fb4",
   "metadata": {},
   "outputs": [],
   "source": []
  },
  {
   "cell_type": "code",
   "execution_count": null,
   "id": "f1ee3793",
   "metadata": {},
   "outputs": [],
   "source": [
    "theirTree = makingOtherMethodTree.inferTreeFromSeqs(seqs, mu_Var)"
   ]
  },
  {
   "cell_type": "code",
   "execution_count": null,
   "id": "d5d5187e",
   "metadata": {},
   "outputs": [],
   "source": [
    "theirTree.print_plot()\n",
    "print(str(theirTree))"
   ]
  },
  {
   "cell_type": "code",
   "execution_count": null,
   "id": "23422f34",
   "metadata": {},
   "outputs": [],
   "source": [
    "print(str(tree))\n",
    "tree.print_plot()"
   ]
  },
  {
   "cell_type": "code",
   "execution_count": null,
   "id": "386aa7af",
   "metadata": {},
   "outputs": [],
   "source": []
  },
  {
   "cell_type": "code",
   "execution_count": null,
   "id": "098a5734",
   "metadata": {},
   "outputs": [],
   "source": []
  },
  {
   "cell_type": "code",
   "execution_count": null,
   "id": "67ca5fb5",
   "metadata": {},
   "outputs": [],
   "source": []
  },
  {
   "cell_type": "code",
   "execution_count": null,
   "id": "3025e5bc",
   "metadata": {},
   "outputs": [],
   "source": []
  },
  {
   "cell_type": "code",
   "execution_count": null,
   "id": "475d93a4",
   "metadata": {},
   "outputs": [],
   "source": []
  },
  {
   "cell_type": "code",
   "execution_count": null,
   "id": "ead4b712",
   "metadata": {},
   "outputs": [],
   "source": []
  },
  {
   "cell_type": "code",
   "execution_count": null,
   "id": "664073cc",
   "metadata": {},
   "outputs": [],
   "source": [
    "reference_tree = tree\n",
    "comparison_tree = theirTree"
   ]
  },
  {
   "cell_type": "code",
   "execution_count": null,
   "id": "6cf42bf0",
   "metadata": {},
   "outputs": [],
   "source": [
    "import collections\n",
    "import dendropy\n",
    "import math\n",
    "import numpy\n",
    " \n",
    "\n",
    "\n",
    "reference_tree.encode_bipartitions()\n",
    "comparison_tree.encode_bipartitions()\n",
    " \n",
    "ref_edge_lengths = collections.defaultdict(float)\n",
    "cmp_edge_lengths = collections.defaultdict(float)\n",
    " \n",
    "combined_splits = set()\n",
    " \n",
    "reference_tree_length = 0.0\n",
    " \n",
    "for ref_edge in reference_tree.postorder_edge_iter():\n",
    "    if ref_edge.head_node != reference_tree.seed_node: # ignore root edge\n",
    "        ref_edge_lengths[ref_edge.bipartition.split_bitmask] += ref_edge.length\n",
    "        combined_splits.add(ref_edge.bipartition.split_bitmask)\n",
    "        reference_tree_length += ref_edge.length\n",
    "\n",
    "for cmp_edge in comparison_tree.postorder_edge_iter():\n",
    "    if cmp_edge.head_node != comparison_tree.seed_node: # ignore root edge\n",
    "        cmp_edge_lengths[cmp_edge.bipartition.split_bitmask] += cmp_edge.length\n",
    "        combined_splits.add(cmp_edge.bipartition.split_bitmask)\n",
    "\n",
    "n_combined_splits = len(combined_splits)\n",
    " \n",
    "rf_components = numpy.zeros(n_combined_splits)\n",
    "weighted_rf_components = numpy.zeros(n_combined_splits)\n",
    "branch_score_components = numpy.zeros(n_combined_splits)\n",
    " \n",
    "i = 0\n",
    " \n",
    "for split_bitmask in combined_splits:\n",
    "    if split_bitmask not in cmp_edge_lengths: # only in reference tree\n",
    "        rf_components[i] += 1.0\n",
    "        weighted_rf_components[i] += ref_edge_lengths[split_bitmask]\n",
    "        branch_score_components[i] += ref_edge_lengths[split_bitmask]\n",
    "    elif split_bitmask not in ref_edge_lengths: # only in comparison tree\n",
    "        rf_components[i] += 1.0\n",
    "        weighted_rf_components[i] += cmp_edge_lengths[split_bitmask]\n",
    "        branch_score_components[i] += cmp_edge_lengths[split_bitmask]\n",
    "    else: # in both\n",
    "        branch_score_components[i] += abs(ref_edge_lengths[split_bitmask] - cmp_edge_lengths[split_bitmask])\n",
    " \n",
    "    i += 1\n",
    "\n",
    "rf_distance = numpy.sum(rf_components)\n",
    "normalized_rf_distance = rf_distance / float((n_populations - 3) * 2)\n",
    "weighted_rf_distance = numpy.sum(weighted_rf_components)\n",
    "euclidean_branch_score = numpy.sqrt(numpy.sum(branch_score_components * branch_score_components))\n",
    "normalized_branch_score = numpy.sum(branch_score_components) / reference_tree_length\n",
    " \n",
    "# print(reference_tree)\n",
    "# print(comparison_tree)\n",
    " \n",
    "print(\n",
    "    rf_distance,\n",
    "    normalized_rf_distance,\n",
    "    weighted_rf_distance,\n",
    "    euclidean_branch_score,\n",
    "    normalized_branch_score)"
   ]
  },
  {
   "cell_type": "code",
   "execution_count": null,
   "id": "97117420",
   "metadata": {},
   "outputs": [],
   "source": []
  }
 ],
 "metadata": {
  "kernelspec": {
   "display_name": "Python 3",
   "language": "python",
   "name": "python3"
  },
  "language_info": {
   "codemirror_mode": {
    "name": "ipython",
    "version": 3
   },
   "file_extension": ".py",
   "mimetype": "text/x-python",
   "name": "python",
   "nbconvert_exporter": "python",
   "pygments_lexer": "ipython3",
   "version": "3.8.8"
  }
 },
 "nbformat": 4,
 "nbformat_minor": 5
}
