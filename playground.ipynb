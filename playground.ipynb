{
 "cells": [
  {
   "cell_type": "code",
   "execution_count": null,
   "id": "7ac936bb",
   "metadata": {},
   "outputs": [],
   "source": [
    "import dendropy.calculate.treecompare\n",
    "import MakingSequences\n",
    "import makingPairwiseDistancesOurMethod\n",
    "import makingFinalReconstructedTreeOurMethod\n",
    "import makingOtherMethodTree\n",
    "import comparingTrees\n",
    "import time"
   ]
  },
  {
   "cell_type": "code",
   "execution_count": null,
   "id": "7aafd811",
   "metadata": {},
   "outputs": [],
   "source": [
    "seqLenInput = 1e7\n",
    "initial_size_Var=100\n",
    "# time_Var = 200_000\n",
    "mu_Var = 1e-8\n",
    "recombination_rate=1e-8"
   ]
  },
  {
   "cell_type": "code",
   "execution_count": null,
   "id": "356dc663",
   "metadata": {},
   "outputs": [],
   "source": [
    "birth_rate = 1000.0\n",
    "death_rate = 500.0\n",
    "n_populations = 5\n",
    "extra_populations = 5 # for \"GSA\" sampling scheme"
   ]
  },
  {
   "cell_type": "code",
   "execution_count": null,
   "id": "c9d68743",
   "metadata": {},
   "outputs": [],
   "source": []
  },
  {
   "cell_type": "code",
   "execution_count": null,
   "id": "14a2812a",
   "metadata": {},
   "outputs": [],
   "source": [
    "st = time.time()\n",
    "seqs, tree = MakingSequences.makeSequencesFromScratch(birth_rate, death_rate, n_populations, extra_populations, seqLenInput, initial_size_Var, mu_Var, recombination_rate)\n",
    "print((time.time()-st)/60)"
   ]
  },
  {
   "cell_type": "code",
   "execution_count": null,
   "id": "70ed1ace",
   "metadata": {},
   "outputs": [],
   "source": []
  },
  {
   "cell_type": "code",
   "execution_count": null,
   "id": "cda043a6",
   "metadata": {},
   "outputs": [],
   "source": []
  },
  {
   "cell_type": "code",
   "execution_count": null,
   "id": "5c442687",
   "metadata": {},
   "outputs": [],
   "source": []
  },
  {
   "cell_type": "code",
   "execution_count": null,
   "id": "2595fd54",
   "metadata": {},
   "outputs": [],
   "source": [
    "st = time.time()\n",
    "mats = makingFinalReconstructedTreeOurMethod.makeManyMatricesOfDistances(10, seqs)\n",
    "print((time.time()-st)/60)"
   ]
  },
  {
   "cell_type": "code",
   "execution_count": null,
   "id": "bf194ed1",
   "metadata": {},
   "outputs": [],
   "source": [
    "finalDistMat = makingFinalReconstructedTreeOurMethod.makeFinalDistMatrixFromSmallerOnes(mats)"
   ]
  },
  {
   "cell_type": "code",
   "execution_count": null,
   "id": "815c599e",
   "metadata": {},
   "outputs": [],
   "source": [
    "import numpy as np\n",
    "print(finalDistMat)\n",
    "average = np.average(finalDistMat)\n",
    "for i in range(len(finalDistMat[0])):\n",
    "    for j in range(len(finalDistMat[0])):\n",
    "        if i != j:\n",
    "            if finalDistMat[i][j] == 0.0:\n",
    "                finalDistMat[i][j] += average\n",
    "finalDistMat"
   ]
  },
  {
   "cell_type": "code",
   "execution_count": null,
   "id": "894c7276",
   "metadata": {},
   "outputs": [],
   "source": []
  },
  {
   "cell_type": "code",
   "execution_count": null,
   "id": "8cfb20e2",
   "metadata": {
    "scrolled": true
   },
   "outputs": [],
   "source": [
    "# our_tree = makingFinalReconstructedTreeOurMethod.makeTree(seqs, mu_Var , (finalDistMat*2))\n",
    "\n",
    "\n",
    "# print(our_tree.as_string(\"newick\"))\n",
    "# our_tree.print_plot()\n"
   ]
  },
  {
   "cell_type": "code",
   "execution_count": null,
   "id": "f1ee3793",
   "metadata": {},
   "outputs": [],
   "source": [
    "theirTree = makingOtherMethodTree.inferTreeFromSeqs(seqs, mu_Var)"
   ]
  },
  {
   "cell_type": "code",
   "execution_count": null,
   "id": "68966804",
   "metadata": {},
   "outputs": [],
   "source": [
    "theirTreeMatrix = np.array(pd.read_csv('otherMethodDistanceMatrix.csv').drop(columns='Unnamed: 0'))"
   ]
  },
  {
   "cell_type": "code",
   "execution_count": null,
   "id": "386aa7af",
   "metadata": {},
   "outputs": [],
   "source": [
    "trueDistDict = tree.phylogenetic_distance_matrix().as_data_table()._data\n",
    "trueDistMat = np.zeros((5,5))\n",
    "for pair1 in trueDistDict:\n",
    "    for pair2 in trueDistDict:\n",
    "        ind1 = list(seqs.keys()).index(pair1)\n",
    "        ind2 = list(seqs.keys()).index(pair2)  \n",
    "        trueDistMat[ind1][ind2]  = trueDistDict[pair1][pair2]\n",
    "\n",
    "import pandas as pd      \n",
    "print(pd.DataFrame(trueDistMat*mu_Var))"
   ]
  },
  {
   "cell_type": "code",
   "execution_count": null,
   "id": "d13fec8e",
   "metadata": {},
   "outputs": [],
   "source": []
  },
  {
   "cell_type": "code",
   "execution_count": null,
   "id": "098a5734",
   "metadata": {},
   "outputs": [],
   "source": [
    "np.linalg.norm(finalDistMat*2 - trueDistMat*mu_Var)"
   ]
  },
  {
   "cell_type": "code",
   "execution_count": null,
   "id": "d27d8f75",
   "metadata": {},
   "outputs": [],
   "source": [
    "np.linalg.norm(theirTreeMatrix - trueDistMat*mu_Var)"
   ]
  },
  {
   "cell_type": "code",
   "execution_count": null,
   "id": "b76e08d5",
   "metadata": {},
   "outputs": [],
   "source": []
  },
  {
   "cell_type": "code",
   "execution_count": null,
   "id": "8fcceb70",
   "metadata": {},
   "outputs": [],
   "source": []
  },
  {
   "cell_type": "code",
   "execution_count": null,
   "id": "c16392b1",
   "metadata": {},
   "outputs": [],
   "source": []
  },
  {
   "cell_type": "code",
   "execution_count": null,
   "id": "0b6bdb7e",
   "metadata": {},
   "outputs": [],
   "source": []
  },
  {
   "cell_type": "code",
   "execution_count": null,
   "id": "bbf3d7f6",
   "metadata": {},
   "outputs": [],
   "source": []
  },
  {
   "cell_type": "code",
   "execution_count": null,
   "id": "8be70443",
   "metadata": {},
   "outputs": [],
   "source": []
  },
  {
   "cell_type": "code",
   "execution_count": null,
   "id": "e9ed4ba1",
   "metadata": {},
   "outputs": [],
   "source": []
  },
  {
   "cell_type": "code",
   "execution_count": null,
   "id": "eeccfd76",
   "metadata": {},
   "outputs": [],
   "source": []
  },
  {
   "cell_type": "code",
   "execution_count": null,
   "id": "717780ed",
   "metadata": {},
   "outputs": [],
   "source": []
  },
  {
   "cell_type": "code",
   "execution_count": null,
   "id": "3025e5bc",
   "metadata": {},
   "outputs": [],
   "source": [
    "# print('==== REAL')\n",
    "# pdc = tree.phylogenetic_distance_matrix()\n",
    "# for i, t1 in enumerate(tree.taxon_namespace[:-1]):\n",
    "#     for t2 in tree.taxon_namespace[i+1:]:\n",
    "#         print(\"Distance between '%s' and '%s': %s\" % (t1.label, t2.label, pdc(t1, t2)))\n",
    "# print('====')\n",
    "# print('==== THEM')\n",
    "# pdc = theirTree.phylogenetic_distance_matrix()\n",
    "# for i, t1 in enumerate(theirTree.taxon_namespace[:-1]):\n",
    "#     for t2 in theirTree.taxon_namespace[i+1:]:\n",
    "#         print(\"Distance between '%s' and '%s': %s\" % (t1.label, t2.label, pdc(t1, t2)))\n",
    "# print('====')\n",
    "# print('==== US')\n",
    "# pdc = our_tree.phylogenetic_distance_matrix()\n",
    "# for i, t1 in enumerate(our_tree.taxon_namespace[:-1]):\n",
    "#     for t2 in our_tree.taxon_namespace[i+1:]:\n",
    "#         print(\"Distance between '%s' and '%s': %s\" % (t1.label, t2.label, pdc(t1, t2)))\n",
    "# print('====')"
   ]
  },
  {
   "cell_type": "code",
   "execution_count": null,
   "id": "475d93a4",
   "metadata": {},
   "outputs": [],
   "source": []
  },
  {
   "cell_type": "code",
   "execution_count": null,
   "id": "ead4b712",
   "metadata": {},
   "outputs": [],
   "source": []
  },
  {
   "cell_type": "code",
   "execution_count": null,
   "id": "565359fd",
   "metadata": {},
   "outputs": [],
   "source": [
    "# from dendropy import Tree"
   ]
  },
  {
   "cell_type": "code",
   "execution_count": null,
   "id": "1fd41548",
   "metadata": {},
   "outputs": [],
   "source": [
    "\n",
    "# for edge in our_tree_2.postorder_edge_iter():\n",
    "#     if edge.length != None:\n",
    "#         edge.length *= 100"
   ]
  },
  {
   "cell_type": "code",
   "execution_count": null,
   "id": "0c169842",
   "metadata": {},
   "outputs": [],
   "source": [
    "# comparingTrees.computeDistancesOfTrees(theirTree, tree, n_populations)"
   ]
  },
  {
   "cell_type": "code",
   "execution_count": null,
   "id": "c8106ee5",
   "metadata": {},
   "outputs": [],
   "source": [
    "# comparingTrees.computeDistancesOfTrees(tree, our_tree, n_populations)"
   ]
  },
  {
   "cell_type": "code",
   "execution_count": null,
   "id": "cfd99da1",
   "metadata": {},
   "outputs": [],
   "source": [
    "# print(dendropy.calculate.treecompare.robinson_foulds_distance(theirTree_2, tree))\n",
    "# print(dendropy.calculate.treecompare.robinson_foulds_distance(our_tree_2, tree))\n",
    "# "
   ]
  },
  {
   "cell_type": "code",
   "execution_count": null,
   "id": "d50c7eff",
   "metadata": {},
   "outputs": [],
   "source": [
    "# tree.taxon_namespace"
   ]
  },
  {
   "cell_type": "code",
   "execution_count": null,
   "id": "15876824",
   "metadata": {},
   "outputs": [],
   "source": [
    "# our_tree.taxon_namespace"
   ]
  },
  {
   "cell_type": "code",
   "execution_count": null,
   "id": "f8ac397a",
   "metadata": {},
   "outputs": [],
   "source": [
    "# tns = tree.taxon_namespace"
   ]
  },
  {
   "cell_type": "code",
   "execution_count": null,
   "id": "74837fe5",
   "metadata": {},
   "outputs": [],
   "source": [
    "# our_tree.taxon_namespace = tns"
   ]
  },
  {
   "cell_type": "code",
   "execution_count": null,
   "id": "f7e9e288",
   "metadata": {},
   "outputs": [],
   "source": [
    "# our_tree.taxon_namespace\n",
    "# "
   ]
  },
  {
   "cell_type": "code",
   "execution_count": null,
   "id": "e0be1def",
   "metadata": {},
   "outputs": [],
   "source": [
    "# tree.taxon_namespace"
   ]
  },
  {
   "cell_type": "code",
   "execution_count": null,
   "id": "4be84d0e",
   "metadata": {},
   "outputs": [],
   "source": [
    "# our_tree_2 = Tree(our_tree, taxon_namespace=tns)"
   ]
  },
  {
   "cell_type": "code",
   "execution_count": null,
   "id": "71217d1c",
   "metadata": {},
   "outputs": [],
   "source": [
    "# print(str(our_tree_2))"
   ]
  },
  {
   "cell_type": "code",
   "execution_count": null,
   "id": "e8044443",
   "metadata": {},
   "outputs": [],
   "source": [
    "# theirTree_2 = Tree(theirTree, taxon_namespace=tns)"
   ]
  },
  {
   "cell_type": "code",
   "execution_count": null,
   "id": "b2049c00",
   "metadata": {},
   "outputs": [],
   "source": [
    "# theirTree.print_plot()\n",
    "# theirTree_2.print_plot()\n",
    "# print(theirTree.as_string('newick'))\n",
    "# print(theirTree_2.as_string('newick'))\n",
    "\n",
    "# ((T2:280025.0000000018,T3:37135.00000000341):6029.999999999231,(T1:24814.999999998865,(T4:8975.000000001804,T5:8824.999999999343):15869.999999996997):6029.999999999231)"
   ]
  },
  {
   "cell_type": "code",
   "execution_count": null,
   "id": "23060c14",
   "metadata": {},
   "outputs": [],
   "source": [
    "# theirTree.print_plot()"
   ]
  },
  {
   "cell_type": "code",
   "execution_count": null,
   "id": "7316b8dd",
   "metadata": {},
   "outputs": [],
   "source": [
    "# print(theirTree is not theirTree_2)"
   ]
  },
  {
   "cell_type": "code",
   "execution_count": null,
   "id": "2c3e4500",
   "metadata": {},
   "outputs": [],
   "source": []
  }
 ],
 "metadata": {
  "kernelspec": {
   "display_name": "Python 3",
   "language": "python",
   "name": "python3"
  },
  "language_info": {
   "codemirror_mode": {
    "name": "ipython",
    "version": 3
   },
   "file_extension": ".py",
   "mimetype": "text/x-python",
   "name": "python",
   "nbconvert_exporter": "python",
   "pygments_lexer": "ipython3",
   "version": "3.8.8"
  }
 },
 "nbformat": 4,
 "nbformat_minor": 5
}
