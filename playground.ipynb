{
 "cells": [
  {
   "cell_type": "code",
   "execution_count": 1,
   "id": "7ac936bb",
   "metadata": {},
   "outputs": [],
   "source": [
    "import dendropy.calculate.treecompare\n",
    "\n",
    "import MakingSequences\n",
    "import makingPairwiseDistancesOurMethod\n",
    "import makingFinalReconstructedTreeOurMethod\n",
    "import makingOtherMethodTree\n",
    "import comparingTrees\n",
    "import time\n"
   ]
  },
  {
   "cell_type": "code",
   "execution_count": 2,
   "id": "7aafd811",
   "metadata": {},
   "outputs": [],
   "source": [
    "seqLenInput = 1e7\n",
    "initial_size_Var=100\n",
    "# time_Var = 200_000\n",
    "mu_Var = 1e-8\n",
    "recombination_rate=1e-8"
   ]
  },
  {
   "cell_type": "code",
   "execution_count": 3,
   "id": "356dc663",
   "metadata": {},
   "outputs": [],
   "source": [
    "birth_rate = 1000.0\n",
    "death_rate = 500.0\n",
    "n_populations = 5\n",
    "extra_populations = 5 # for \"GSA\" sampling scheme"
   ]
  },
  {
   "cell_type": "code",
   "execution_count": 4,
   "id": "14a2812a",
   "metadata": {},
   "outputs": [
    {
     "name": "stdout",
     "output_type": "stream",
     "text": [
      "Demography\n",
      "╟  Populations\n",
      "║  ┌────────────────────────────────────────────────────────────────────────────────────────────────┐\n",
      "║  │ id │name   │description  │initial_size  │ growth_rate │  default_sampling_time│extra_metadata  │\n",
      "║  ├────────────────────────────────────────────────────────────────────────────────────────────────┤\n",
      "║  │ 0  │T2     │             │100.0         │      0      │                      0│{}              │\n",
      "║  │ 1  │T1     │             │100.0         │      0      │                      0│{}              │\n",
      "║  │ 2  │T4     │             │100.0         │      0      │                      0│{}              │\n",
      "║  │ 3  │T5     │             │100.0         │      0      │                      0│{}              │\n",
      "║  │ 4  │T3     │             │100.0         │      0      │                      0│{}              │\n",
      "║  │ 5  │pop_5  │             │100.0         │      0      │                8.9e+03│{}              │\n",
      "║  │ 6  │pop_6  │             │100.0         │      0      │                2.5e+04│{}              │\n",
      "║  │ 7  │pop_7  │             │100.0         │      0      │                3.7e+04│{}              │\n",
      "║  │ 8  │pop_8  │             │100.0         │      0      │                1.6e+05│{}              │\n",
      "║  └────────────────────────────────────────────────────────────────────────────────────────────────┘\n",
      "╟  Migration Matrix\n",
      "║  ┌────────────────────────────────────────────────────────────────┐\n",
      "║  │       │ T2 │ T1 │ T4 │ T5 │ T3 │ pop_5 │ pop_6 │ pop_7 │ pop_8 │\n",
      "║  ├────────────────────────────────────────────────────────────────┤\n",
      "║  │     T2│ 0  │ 0  │ 0  │ 0  │ 0  │   0   │   0   │   0   │   0   │\n",
      "║  │     T1│ 0  │ 0  │ 0  │ 0  │ 0  │   0   │   0   │   0   │   0   │\n",
      "║  │     T4│ 0  │ 0  │ 0  │ 0  │ 0  │   0   │   0   │   0   │   0   │\n",
      "║  │     T5│ 0  │ 0  │ 0  │ 0  │ 0  │   0   │   0   │   0   │   0   │\n",
      "║  │     T3│ 0  │ 0  │ 0  │ 0  │ 0  │   0   │   0   │   0   │   0   │\n",
      "║  │  pop_5│ 0  │ 0  │ 0  │ 0  │ 0  │   0   │   0   │   0   │   0   │\n",
      "║  │  pop_6│ 0  │ 0  │ 0  │ 0  │ 0  │   0   │   0   │   0   │   0   │\n",
      "║  │  pop_7│ 0  │ 0  │ 0  │ 0  │ 0  │   0   │   0   │   0   │   0   │\n",
      "║  │  pop_8│ 0  │ 0  │ 0  │ 0  │ 0  │   0   │   0   │   0   │   0   │\n",
      "║  └────────────────────────────────────────────────────────────────┘\n",
      "╟  Events\n",
      "║  ┌────────────────────────────────────────────────────────────────────────────────────────┐\n",
      "║  │       time│type        │parameters            │effect                                  │\n",
      "║  ├────────────────────────────────────────────────────────────────────────────────────────┤\n",
      "║  │       8871│Population  │derived=[T4, T5],     │Moves all lineages from derived         │\n",
      "║  │           │Split       │ancestral=pop_5       │populations 'T4' and 'T5' to the        │\n",
      "║  │           │            │                      │ancestral 'pop_5' population. Also set  │\n",
      "║  │           │            │                      │the derived populations to inactive,    │\n",
      "║  │           │            │                      │and all migration rates to and from     │\n",
      "║  │           │            │                      │the derived populations to zero.        │\n",
      "║  │┈┈┈┈┈┈┈┈┈┈┈┈┈┈┈┈┈┈┈┈┈┈┈┈┈┈┈┈┈┈┈┈┈┈┈┈┈┈┈┈┈┈┈┈┈┈┈┈┈┈┈┈┈┈┈┈┈┈┈┈┈┈┈┈┈┈┈┈┈┈┈┈┈┈┈┈┈┈┈┈┈┈┈┈┈┈┈┈│\n",
      "║  │  2.493e+04│Population  │derived=[T1, pop_5],  │Moves all lineages from derived         │\n",
      "║  │           │Split       │ancestral=pop_6       │populations 'T1' and 'pop_5' to the     │\n",
      "║  │           │            │                      │ancestral 'pop_6' population. Also set  │\n",
      "║  │           │            │                      │the derived populations to inactive,    │\n",
      "║  │           │            │                      │and all migration rates to and from     │\n",
      "║  │           │            │                      │the derived populations to zero.        │\n",
      "║  │┈┈┈┈┈┈┈┈┈┈┈┈┈┈┈┈┈┈┈┈┈┈┈┈┈┈┈┈┈┈┈┈┈┈┈┈┈┈┈┈┈┈┈┈┈┈┈┈┈┈┈┈┈┈┈┈┈┈┈┈┈┈┈┈┈┈┈┈┈┈┈┈┈┈┈┈┈┈┈┈┈┈┈┈┈┈┈┈│\n",
      "║  │  3.735e+04│Population  │derived=[pop_6, T3],  │Moves all lineages from derived         │\n",
      "║  │           │Split       │ancestral=pop_7       │populations 'pop_6' and 'T3' to the     │\n",
      "║  │           │            │                      │ancestral 'pop_7' population. Also set  │\n",
      "║  │           │            │                      │the derived populations to inactive,    │\n",
      "║  │           │            │                      │and all migration rates to and from     │\n",
      "║  │           │            │                      │the derived populations to zero.        │\n",
      "║  │┈┈┈┈┈┈┈┈┈┈┈┈┈┈┈┈┈┈┈┈┈┈┈┈┈┈┈┈┈┈┈┈┈┈┈┈┈┈┈┈┈┈┈┈┈┈┈┈┈┈┈┈┈┈┈┈┈┈┈┈┈┈┈┈┈┈┈┈┈┈┈┈┈┈┈┈┈┈┈┈┈┈┈┈┈┈┈┈│\n",
      "║  │   1.58e+05│Population  │derived=[T2, pop_7],  │Moves all lineages from derived         │\n",
      "║  │           │Split       │ancestral=pop_8       │populations 'T2' and 'pop_7' to the     │\n",
      "║  │           │            │                      │ancestral 'pop_8' population. Also set  │\n",
      "║  │           │            │                      │the derived populations to inactive,    │\n",
      "║  │           │            │                      │and all migration rates to and from     │\n",
      "║  │           │            │                      │the derived populations to zero.        │\n",
      "║  └────────────────────────────────────────────────────────────────────────────────────────┘\n",
      "\n",
      "{0: 'T2', 1: 'T1', 2: 'T4', 3: 'T5', 4: 'T3'}\n",
      "0.1578906019528707\n"
     ]
    }
   ],
   "source": [
    "st = time.time()\n",
    "seqs, tree = MakingSequences.makeSequencesFromScratch(birth_rate, death_rate, n_populations, extra_populations, seqLenInput, initial_size_Var, mu_Var, recombination_rate)\n",
    "print((time.time()-st)/60)"
   ]
  },
  {
   "cell_type": "code",
   "execution_count": null,
   "id": "70ed1ace",
   "metadata": {},
   "outputs": [],
   "source": []
  },
  {
   "cell_type": "code",
   "execution_count": null,
   "id": "cda043a6",
   "metadata": {},
   "outputs": [],
   "source": []
  },
  {
   "cell_type": "code",
   "execution_count": null,
   "id": "5c442687",
   "metadata": {},
   "outputs": [],
   "source": []
  },
  {
   "cell_type": "code",
   "execution_count": 5,
   "id": "2595fd54",
   "metadata": {},
   "outputs": [
    {
     "name": "stdout",
     "output_type": "stream",
     "text": [
      "in getting kmer vectors, working on k: 9 seq 0\n",
      "in getting kmer vectors, working on k: 9 seq 1\n",
      "in getting kmer vectors, working on k: 9 seq 2\n",
      "in getting kmer vectors, working on k: 9 seq 3\n",
      "in getting kmer vectors, working on k: 9 seq 4\n",
      "in getting kmer vectors, working on k: 10 seq 0\n",
      "in getting kmer vectors, working on k: 10 seq 1\n",
      "in getting kmer vectors, working on k: 10 seq 2\n",
      "in getting kmer vectors, working on k: 10 seq 3\n",
      "in getting kmer vectors, working on k: 10 seq 4\n",
      "in getting kmer vectors, working on k: 11 seq 0\n",
      "in getting kmer vectors, working on k: 11 seq 1\n",
      "in getting kmer vectors, working on k: 11 seq 2\n",
      "in getting kmer vectors, working on k: 11 seq 3\n",
      "in getting kmer vectors, working on k: 11 seq 4\n",
      "in getting kmer vectors, working on k: 12 seq 0\n",
      "in getting kmer vectors, working on k: 12 seq 1\n",
      "in getting kmer vectors, working on k: 12 seq 2\n",
      "in getting kmer vectors, working on k: 12 seq 3\n",
      "in getting kmer vectors, working on k: 12 seq 4\n",
      "working on inferring 0 1\n"
     ]
    },
    {
     "name": "stderr",
     "output_type": "stream",
     "text": [
      "/Users/teddygilman/PycharmProjects/CAAM476HW1/venv/lib/python3.9/site-packages/scipy/optimize/_minpack_py.py:178: RuntimeWarning: The iteration is not making good progress, as measured by the \n",
      "  improvement from the last ten iterations.\n",
      "  warnings.warn(msg, RuntimeWarning)\n"
     ]
    },
    {
     "name": "stdout",
     "output_type": "stream",
     "text": [
      "working on inferring 0 2\n"
     ]
    },
    {
     "name": "stderr",
     "output_type": "stream",
     "text": [
      "/Users/teddygilman/PycharmProjects/CAAM476HW1/venv/lib/python3.9/site-packages/scipy/optimize/_minpack_py.py:178: RuntimeWarning: The iteration is not making good progress, as measured by the \n",
      "  improvement from the last ten iterations.\n",
      "  warnings.warn(msg, RuntimeWarning)\n"
     ]
    },
    {
     "name": "stdout",
     "output_type": "stream",
     "text": [
      "working on inferring 0 3\n"
     ]
    },
    {
     "name": "stderr",
     "output_type": "stream",
     "text": [
      "/Users/teddygilman/PycharmProjects/CAAM476HW1/venv/lib/python3.9/site-packages/scipy/optimize/_minpack_py.py:178: RuntimeWarning: The iteration is not making good progress, as measured by the \n",
      "  improvement from the last ten iterations.\n",
      "  warnings.warn(msg, RuntimeWarning)\n"
     ]
    },
    {
     "name": "stdout",
     "output_type": "stream",
     "text": [
      "working on inferring 0 4\n"
     ]
    },
    {
     "name": "stderr",
     "output_type": "stream",
     "text": [
      "/Users/teddygilman/PycharmProjects/CAAM476HW1/venv/lib/python3.9/site-packages/scipy/optimize/_minpack_py.py:178: RuntimeWarning: The iteration is not making good progress, as measured by the \n",
      "  improvement from the last ten iterations.\n",
      "  warnings.warn(msg, RuntimeWarning)\n"
     ]
    },
    {
     "name": "stdout",
     "output_type": "stream",
     "text": [
      "working on inferring 1 2\n"
     ]
    },
    {
     "name": "stderr",
     "output_type": "stream",
     "text": [
      "/Users/teddygilman/PycharmProjects/CAAM476HW1/venv/lib/python3.9/site-packages/scipy/optimize/_minpack_py.py:178: RuntimeWarning: The iteration is not making good progress, as measured by the \n",
      "  improvement from the last ten iterations.\n",
      "  warnings.warn(msg, RuntimeWarning)\n"
     ]
    },
    {
     "name": "stdout",
     "output_type": "stream",
     "text": [
      "working on inferring 1 3\n",
      "working on inferring 1 4\n",
      "working on inferring 2 3\n"
     ]
    },
    {
     "name": "stderr",
     "output_type": "stream",
     "text": [
      "/Users/teddygilman/PycharmProjects/CAAM476HW1/venv/lib/python3.9/site-packages/scipy/optimize/_minpack_py.py:178: RuntimeWarning: The iteration is not making good progress, as measured by the \n",
      "  improvement from the last ten iterations.\n",
      "  warnings.warn(msg, RuntimeWarning)\n"
     ]
    },
    {
     "name": "stdout",
     "output_type": "stream",
     "text": [
      "working on inferring 2 4\n",
      "working on inferring 3 4\n",
      "in getting kmer vectors, working on k: 9 seq 0\n",
      "in getting kmer vectors, working on k: 9 seq 1\n",
      "in getting kmer vectors, working on k: 9 seq 2\n",
      "in getting kmer vectors, working on k: 9 seq 3\n",
      "in getting kmer vectors, working on k: 9 seq 4\n",
      "in getting kmer vectors, working on k: 10 seq 0\n",
      "in getting kmer vectors, working on k: 10 seq 1\n",
      "in getting kmer vectors, working on k: 10 seq 2\n",
      "in getting kmer vectors, working on k: 10 seq 3\n",
      "in getting kmer vectors, working on k: 10 seq 4\n",
      "in getting kmer vectors, working on k: 11 seq 0\n",
      "in getting kmer vectors, working on k: 11 seq 1\n",
      "in getting kmer vectors, working on k: 11 seq 2\n",
      "in getting kmer vectors, working on k: 11 seq 3\n",
      "in getting kmer vectors, working on k: 11 seq 4\n",
      "in getting kmer vectors, working on k: 12 seq 0\n",
      "in getting kmer vectors, working on k: 12 seq 1\n",
      "in getting kmer vectors, working on k: 12 seq 2\n",
      "in getting kmer vectors, working on k: 12 seq 3\n",
      "in getting kmer vectors, working on k: 12 seq 4\n",
      "working on inferring 0 1\n"
     ]
    },
    {
     "name": "stderr",
     "output_type": "stream",
     "text": [
      "/Users/teddygilman/PycharmProjects/CAAM476HW1/venv/lib/python3.9/site-packages/scipy/optimize/_minpack_py.py:178: RuntimeWarning: The iteration is not making good progress, as measured by the \n",
      "  improvement from the last ten iterations.\n",
      "  warnings.warn(msg, RuntimeWarning)\n"
     ]
    },
    {
     "name": "stdout",
     "output_type": "stream",
     "text": [
      "working on inferring 0 2\n"
     ]
    },
    {
     "name": "stderr",
     "output_type": "stream",
     "text": [
      "/Users/teddygilman/PycharmProjects/CAAM476HW1/venv/lib/python3.9/site-packages/scipy/optimize/_minpack_py.py:178: RuntimeWarning: The iteration is not making good progress, as measured by the \n",
      "  improvement from the last ten iterations.\n",
      "  warnings.warn(msg, RuntimeWarning)\n"
     ]
    },
    {
     "name": "stdout",
     "output_type": "stream",
     "text": [
      "working on inferring 0 3\n"
     ]
    },
    {
     "name": "stderr",
     "output_type": "stream",
     "text": [
      "/Users/teddygilman/PycharmProjects/CAAM476HW1/venv/lib/python3.9/site-packages/scipy/optimize/_minpack_py.py:178: RuntimeWarning: The iteration is not making good progress, as measured by the \n",
      "  improvement from the last ten iterations.\n",
      "  warnings.warn(msg, RuntimeWarning)\n"
     ]
    },
    {
     "name": "stdout",
     "output_type": "stream",
     "text": [
      "working on inferring 0 4\n"
     ]
    },
    {
     "name": "stderr",
     "output_type": "stream",
     "text": [
      "/Users/teddygilman/PycharmProjects/CAAM476HW1/venv/lib/python3.9/site-packages/scipy/optimize/_minpack_py.py:178: RuntimeWarning: The iteration is not making good progress, as measured by the \n",
      "  improvement from the last ten iterations.\n",
      "  warnings.warn(msg, RuntimeWarning)\n"
     ]
    },
    {
     "name": "stdout",
     "output_type": "stream",
     "text": [
      "working on inferring 1 2\n"
     ]
    },
    {
     "name": "stderr",
     "output_type": "stream",
     "text": [
      "/Users/teddygilman/PycharmProjects/CAAM476HW1/venv/lib/python3.9/site-packages/scipy/optimize/_minpack_py.py:178: RuntimeWarning: The iteration is not making good progress, as measured by the \n",
      "  improvement from the last ten iterations.\n",
      "  warnings.warn(msg, RuntimeWarning)\n"
     ]
    },
    {
     "name": "stdout",
     "output_type": "stream",
     "text": [
      "working on inferring 1 3\n"
     ]
    },
    {
     "name": "stderr",
     "output_type": "stream",
     "text": [
      "/Users/teddygilman/PycharmProjects/CAAM476HW1/venv/lib/python3.9/site-packages/scipy/optimize/_minpack_py.py:178: RuntimeWarning: The iteration is not making good progress, as measured by the \n",
      "  improvement from the last ten iterations.\n",
      "  warnings.warn(msg, RuntimeWarning)\n"
     ]
    },
    {
     "name": "stdout",
     "output_type": "stream",
     "text": [
      "working on inferring 1 4\n",
      "working on inferring 2 3\n"
     ]
    },
    {
     "name": "stderr",
     "output_type": "stream",
     "text": [
      "/Users/teddygilman/PycharmProjects/CAAM476HW1/venv/lib/python3.9/site-packages/scipy/optimize/_minpack_py.py:178: RuntimeWarning: The iteration is not making good progress, as measured by the \n",
      "  improvement from the last ten iterations.\n",
      "  warnings.warn(msg, RuntimeWarning)\n"
     ]
    },
    {
     "name": "stdout",
     "output_type": "stream",
     "text": [
      "working on inferring 2 4\n",
      "working on inferring 3 4\n",
      "in getting kmer vectors, working on k: 9 seq 0\n",
      "in getting kmer vectors, working on k: 9 seq 1\n",
      "in getting kmer vectors, working on k: 9 seq 2\n",
      "in getting kmer vectors, working on k: 9 seq 3\n",
      "in getting kmer vectors, working on k: 9 seq 4\n",
      "in getting kmer vectors, working on k: 10 seq 0\n",
      "in getting kmer vectors, working on k: 10 seq 1\n",
      "in getting kmer vectors, working on k: 10 seq 2\n",
      "in getting kmer vectors, working on k: 10 seq 3\n",
      "in getting kmer vectors, working on k: 10 seq 4\n",
      "in getting kmer vectors, working on k: 11 seq 0\n",
      "in getting kmer vectors, working on k: 11 seq 1\n",
      "in getting kmer vectors, working on k: 11 seq 2\n",
      "in getting kmer vectors, working on k: 11 seq 3\n",
      "in getting kmer vectors, working on k: 11 seq 4\n",
      "in getting kmer vectors, working on k: 12 seq 0\n",
      "in getting kmer vectors, working on k: 12 seq 1\n",
      "in getting kmer vectors, working on k: 12 seq 2\n",
      "in getting kmer vectors, working on k: 12 seq 3\n",
      "in getting kmer vectors, working on k: 12 seq 4\n",
      "working on inferring 0 1\n"
     ]
    },
    {
     "name": "stderr",
     "output_type": "stream",
     "text": [
      "/Users/teddygilman/PycharmProjects/CAAM476HW1/venv/lib/python3.9/site-packages/scipy/optimize/_minpack_py.py:178: RuntimeWarning: The iteration is not making good progress, as measured by the \n",
      "  improvement from the last ten iterations.\n",
      "  warnings.warn(msg, RuntimeWarning)\n"
     ]
    },
    {
     "name": "stdout",
     "output_type": "stream",
     "text": [
      "working on inferring 0 2\n"
     ]
    },
    {
     "name": "stderr",
     "output_type": "stream",
     "text": [
      "/Users/teddygilman/PycharmProjects/CAAM476HW1/venv/lib/python3.9/site-packages/scipy/optimize/_minpack_py.py:178: RuntimeWarning: The iteration is not making good progress, as measured by the \n",
      "  improvement from the last ten iterations.\n",
      "  warnings.warn(msg, RuntimeWarning)\n"
     ]
    },
    {
     "name": "stdout",
     "output_type": "stream",
     "text": [
      "working on inferring 0 3\n"
     ]
    },
    {
     "name": "stderr",
     "output_type": "stream",
     "text": [
      "/Users/teddygilman/PycharmProjects/CAAM476HW1/venv/lib/python3.9/site-packages/scipy/optimize/_minpack_py.py:178: RuntimeWarning: The iteration is not making good progress, as measured by the \n",
      "  improvement from the last ten iterations.\n",
      "  warnings.warn(msg, RuntimeWarning)\n"
     ]
    },
    {
     "name": "stdout",
     "output_type": "stream",
     "text": [
      "working on inferring 0 4\n"
     ]
    },
    {
     "name": "stderr",
     "output_type": "stream",
     "text": [
      "/Users/teddygilman/PycharmProjects/CAAM476HW1/venv/lib/python3.9/site-packages/scipy/optimize/_minpack_py.py:178: RuntimeWarning: The iteration is not making good progress, as measured by the \n",
      "  improvement from the last ten iterations.\n",
      "  warnings.warn(msg, RuntimeWarning)\n"
     ]
    },
    {
     "name": "stdout",
     "output_type": "stream",
     "text": [
      "working on inferring 1 2\n"
     ]
    },
    {
     "name": "stderr",
     "output_type": "stream",
     "text": [
      "/Users/teddygilman/PycharmProjects/CAAM476HW1/venv/lib/python3.9/site-packages/scipy/optimize/_minpack_py.py:178: RuntimeWarning: The iteration is not making good progress, as measured by the \n",
      "  improvement from the last ten iterations.\n",
      "  warnings.warn(msg, RuntimeWarning)\n"
     ]
    },
    {
     "name": "stdout",
     "output_type": "stream",
     "text": [
      "working on inferring 1 3\n",
      "working on inferring 1 4\n",
      "working on inferring 2 3\n"
     ]
    },
    {
     "name": "stderr",
     "output_type": "stream",
     "text": [
      "/Users/teddygilman/PycharmProjects/CAAM476HW1/venv/lib/python3.9/site-packages/scipy/optimize/_minpack_py.py:178: RuntimeWarning: The iteration is not making good progress, as measured by the \n",
      "  improvement from the last ten iterations.\n",
      "  warnings.warn(msg, RuntimeWarning)\n"
     ]
    },
    {
     "name": "stdout",
     "output_type": "stream",
     "text": [
      "working on inferring 2 4\n",
      "working on inferring 3 4\n",
      "in getting kmer vectors, working on k: 9 seq 0\n",
      "in getting kmer vectors, working on k: 9 seq 1\n",
      "in getting kmer vectors, working on k: 9 seq 2\n",
      "in getting kmer vectors, working on k: 9 seq 3\n",
      "in getting kmer vectors, working on k: 9 seq 4\n",
      "in getting kmer vectors, working on k: 10 seq 0\n",
      "in getting kmer vectors, working on k: 10 seq 1\n",
      "in getting kmer vectors, working on k: 10 seq 2\n",
      "in getting kmer vectors, working on k: 10 seq 3\n",
      "in getting kmer vectors, working on k: 10 seq 4\n",
      "in getting kmer vectors, working on k: 11 seq 0\n",
      "in getting kmer vectors, working on k: 11 seq 1\n",
      "in getting kmer vectors, working on k: 11 seq 2\n",
      "in getting kmer vectors, working on k: 11 seq 3\n",
      "in getting kmer vectors, working on k: 11 seq 4\n",
      "in getting kmer vectors, working on k: 12 seq 0\n",
      "in getting kmer vectors, working on k: 12 seq 1\n",
      "in getting kmer vectors, working on k: 12 seq 2\n",
      "in getting kmer vectors, working on k: 12 seq 3\n",
      "in getting kmer vectors, working on k: 12 seq 4\n",
      "working on inferring 0 1\n"
     ]
    },
    {
     "name": "stderr",
     "output_type": "stream",
     "text": [
      "/Users/teddygilman/PycharmProjects/CAAM476HW1/venv/lib/python3.9/site-packages/scipy/optimize/_minpack_py.py:178: RuntimeWarning: The iteration is not making good progress, as measured by the \n",
      "  improvement from the last ten iterations.\n",
      "  warnings.warn(msg, RuntimeWarning)\n"
     ]
    },
    {
     "name": "stdout",
     "output_type": "stream",
     "text": [
      "working on inferring 0 2\n"
     ]
    },
    {
     "name": "stderr",
     "output_type": "stream",
     "text": [
      "/Users/teddygilman/PycharmProjects/CAAM476HW1/venv/lib/python3.9/site-packages/scipy/optimize/_minpack_py.py:178: RuntimeWarning: The iteration is not making good progress, as measured by the \n",
      "  improvement from the last ten iterations.\n",
      "  warnings.warn(msg, RuntimeWarning)\n"
     ]
    },
    {
     "name": "stdout",
     "output_type": "stream",
     "text": [
      "working on inferring 0 3\n"
     ]
    },
    {
     "name": "stderr",
     "output_type": "stream",
     "text": [
      "/Users/teddygilman/PycharmProjects/CAAM476HW1/venv/lib/python3.9/site-packages/scipy/optimize/_minpack_py.py:178: RuntimeWarning: The iteration is not making good progress, as measured by the \n",
      "  improvement from the last ten iterations.\n",
      "  warnings.warn(msg, RuntimeWarning)\n"
     ]
    },
    {
     "name": "stdout",
     "output_type": "stream",
     "text": [
      "working on inferring 0 4\n"
     ]
    },
    {
     "name": "stderr",
     "output_type": "stream",
     "text": [
      "/Users/teddygilman/PycharmProjects/CAAM476HW1/venv/lib/python3.9/site-packages/scipy/optimize/_minpack_py.py:178: RuntimeWarning: The iteration is not making good progress, as measured by the \n",
      "  improvement from the last ten iterations.\n",
      "  warnings.warn(msg, RuntimeWarning)\n"
     ]
    },
    {
     "name": "stdout",
     "output_type": "stream",
     "text": [
      "working on inferring 1 2\n",
      "working on inferring 1 3\n"
     ]
    },
    {
     "name": "stderr",
     "output_type": "stream",
     "text": [
      "/Users/teddygilman/PycharmProjects/CAAM476HW1/venv/lib/python3.9/site-packages/scipy/optimize/_minpack_py.py:178: RuntimeWarning: The iteration is not making good progress, as measured by the \n",
      "  improvement from the last ten iterations.\n",
      "  warnings.warn(msg, RuntimeWarning)\n"
     ]
    },
    {
     "name": "stdout",
     "output_type": "stream",
     "text": [
      "working on inferring 1 4\n",
      "working on inferring 2 3\n"
     ]
    },
    {
     "name": "stderr",
     "output_type": "stream",
     "text": [
      "/Users/teddygilman/PycharmProjects/CAAM476HW1/venv/lib/python3.9/site-packages/scipy/optimize/_minpack_py.py:178: RuntimeWarning: The iteration is not making good progress, as measured by the \n",
      "  improvement from the last ten iterations.\n",
      "  warnings.warn(msg, RuntimeWarning)\n"
     ]
    },
    {
     "name": "stdout",
     "output_type": "stream",
     "text": [
      "working on inferring 2 4\n",
      "working on inferring 3 4\n",
      "in getting kmer vectors, working on k: 9 seq 0\n",
      "in getting kmer vectors, working on k: 9 seq 1\n",
      "in getting kmer vectors, working on k: 9 seq 2\n",
      "in getting kmer vectors, working on k: 9 seq 3\n",
      "in getting kmer vectors, working on k: 9 seq 4\n",
      "in getting kmer vectors, working on k: 10 seq 0\n",
      "in getting kmer vectors, working on k: 10 seq 1\n",
      "in getting kmer vectors, working on k: 10 seq 2\n",
      "in getting kmer vectors, working on k: 10 seq 3\n",
      "in getting kmer vectors, working on k: 10 seq 4\n",
      "in getting kmer vectors, working on k: 11 seq 0\n",
      "in getting kmer vectors, working on k: 11 seq 1\n",
      "in getting kmer vectors, working on k: 11 seq 2\n",
      "in getting kmer vectors, working on k: 11 seq 3\n",
      "in getting kmer vectors, working on k: 11 seq 4\n",
      "in getting kmer vectors, working on k: 12 seq 0\n",
      "in getting kmer vectors, working on k: 12 seq 1\n",
      "in getting kmer vectors, working on k: 12 seq 2\n",
      "in getting kmer vectors, working on k: 12 seq 3\n",
      "in getting kmer vectors, working on k: 12 seq 4\n",
      "working on inferring 0 1\n"
     ]
    },
    {
     "name": "stderr",
     "output_type": "stream",
     "text": [
      "/Users/teddygilman/PycharmProjects/CAAM476HW1/venv/lib/python3.9/site-packages/scipy/optimize/_minpack_py.py:178: RuntimeWarning: The iteration is not making good progress, as measured by the \n",
      "  improvement from the last ten iterations.\n",
      "  warnings.warn(msg, RuntimeWarning)\n"
     ]
    },
    {
     "name": "stdout",
     "output_type": "stream",
     "text": [
      "working on inferring 0 2\n"
     ]
    },
    {
     "name": "stderr",
     "output_type": "stream",
     "text": [
      "/Users/teddygilman/PycharmProjects/CAAM476HW1/venv/lib/python3.9/site-packages/scipy/optimize/_minpack_py.py:178: RuntimeWarning: The iteration is not making good progress, as measured by the \n",
      "  improvement from the last ten iterations.\n",
      "  warnings.warn(msg, RuntimeWarning)\n"
     ]
    },
    {
     "name": "stdout",
     "output_type": "stream",
     "text": [
      "working on inferring 0 3\n"
     ]
    },
    {
     "name": "stderr",
     "output_type": "stream",
     "text": [
      "/Users/teddygilman/PycharmProjects/CAAM476HW1/venv/lib/python3.9/site-packages/scipy/optimize/_minpack_py.py:178: RuntimeWarning: The iteration is not making good progress, as measured by the \n",
      "  improvement from the last ten iterations.\n",
      "  warnings.warn(msg, RuntimeWarning)\n"
     ]
    },
    {
     "name": "stdout",
     "output_type": "stream",
     "text": [
      "working on inferring 0 4\n",
      "working on inferring 1 2\n"
     ]
    },
    {
     "name": "stderr",
     "output_type": "stream",
     "text": [
      "/Users/teddygilman/PycharmProjects/CAAM476HW1/venv/lib/python3.9/site-packages/scipy/optimize/_minpack_py.py:178: RuntimeWarning: The iteration is not making good progress, as measured by the \n",
      "  improvement from the last ten iterations.\n",
      "  warnings.warn(msg, RuntimeWarning)\n"
     ]
    },
    {
     "name": "stdout",
     "output_type": "stream",
     "text": [
      "working on inferring 1 3\n"
     ]
    },
    {
     "name": "stderr",
     "output_type": "stream",
     "text": [
      "/Users/teddygilman/PycharmProjects/CAAM476HW1/venv/lib/python3.9/site-packages/scipy/optimize/_minpack_py.py:178: RuntimeWarning: The iteration is not making good progress, as measured by the \n",
      "  improvement from the last ten iterations.\n",
      "  warnings.warn(msg, RuntimeWarning)\n"
     ]
    },
    {
     "name": "stdout",
     "output_type": "stream",
     "text": [
      "working on inferring 1 4\n",
      "working on inferring 2 3\n"
     ]
    },
    {
     "name": "stderr",
     "output_type": "stream",
     "text": [
      "/Users/teddygilman/PycharmProjects/CAAM476HW1/venv/lib/python3.9/site-packages/scipy/optimize/_minpack_py.py:178: RuntimeWarning: The iteration is not making good progress, as measured by the \n",
      "  improvement from the last ten iterations.\n",
      "  warnings.warn(msg, RuntimeWarning)\n"
     ]
    },
    {
     "name": "stdout",
     "output_type": "stream",
     "text": [
      "working on inferring 2 4\n",
      "working on inferring 3 4\n",
      "in getting kmer vectors, working on k: 9 seq 0\n",
      "in getting kmer vectors, working on k: 9 seq 1\n",
      "in getting kmer vectors, working on k: 9 seq 2\n",
      "in getting kmer vectors, working on k: 9 seq 3\n",
      "in getting kmer vectors, working on k: 9 seq 4\n",
      "in getting kmer vectors, working on k: 10 seq 0\n",
      "in getting kmer vectors, working on k: 10 seq 1\n",
      "in getting kmer vectors, working on k: 10 seq 2\n",
      "in getting kmer vectors, working on k: 10 seq 3\n",
      "in getting kmer vectors, working on k: 10 seq 4\n",
      "in getting kmer vectors, working on k: 11 seq 0\n",
      "in getting kmer vectors, working on k: 11 seq 1\n",
      "in getting kmer vectors, working on k: 11 seq 2\n",
      "in getting kmer vectors, working on k: 11 seq 3\n",
      "in getting kmer vectors, working on k: 11 seq 4\n",
      "in getting kmer vectors, working on k: 12 seq 0\n",
      "in getting kmer vectors, working on k: 12 seq 1\n",
      "in getting kmer vectors, working on k: 12 seq 2\n",
      "in getting kmer vectors, working on k: 12 seq 3\n",
      "in getting kmer vectors, working on k: 12 seq 4\n",
      "working on inferring 0 1\n"
     ]
    },
    {
     "name": "stderr",
     "output_type": "stream",
     "text": [
      "/Users/teddygilman/PycharmProjects/CAAM476HW1/venv/lib/python3.9/site-packages/scipy/optimize/_minpack_py.py:178: RuntimeWarning: The iteration is not making good progress, as measured by the \n",
      "  improvement from the last ten iterations.\n",
      "  warnings.warn(msg, RuntimeWarning)\n"
     ]
    },
    {
     "name": "stdout",
     "output_type": "stream",
     "text": [
      "working on inferring 0 2\n"
     ]
    },
    {
     "name": "stderr",
     "output_type": "stream",
     "text": [
      "/Users/teddygilman/PycharmProjects/CAAM476HW1/venv/lib/python3.9/site-packages/scipy/optimize/_minpack_py.py:178: RuntimeWarning: The iteration is not making good progress, as measured by the \n",
      "  improvement from the last ten iterations.\n",
      "  warnings.warn(msg, RuntimeWarning)\n"
     ]
    },
    {
     "name": "stdout",
     "output_type": "stream",
     "text": [
      "working on inferring 0 3\n"
     ]
    },
    {
     "name": "stderr",
     "output_type": "stream",
     "text": [
      "/Users/teddygilman/PycharmProjects/CAAM476HW1/venv/lib/python3.9/site-packages/scipy/optimize/_minpack_py.py:178: RuntimeWarning: The iteration is not making good progress, as measured by the \n",
      "  improvement from the last ten iterations.\n",
      "  warnings.warn(msg, RuntimeWarning)\n"
     ]
    },
    {
     "name": "stdout",
     "output_type": "stream",
     "text": [
      "working on inferring 0 4\n"
     ]
    },
    {
     "name": "stderr",
     "output_type": "stream",
     "text": [
      "/Users/teddygilman/PycharmProjects/CAAM476HW1/venv/lib/python3.9/site-packages/scipy/optimize/_minpack_py.py:178: RuntimeWarning: The iteration is not making good progress, as measured by the \n",
      "  improvement from the last ten iterations.\n",
      "  warnings.warn(msg, RuntimeWarning)\n"
     ]
    },
    {
     "name": "stdout",
     "output_type": "stream",
     "text": [
      "working on inferring 1 2\n"
     ]
    },
    {
     "name": "stderr",
     "output_type": "stream",
     "text": [
      "/Users/teddygilman/PycharmProjects/CAAM476HW1/venv/lib/python3.9/site-packages/scipy/optimize/_minpack_py.py:178: RuntimeWarning: The iteration is not making good progress, as measured by the \n",
      "  improvement from the last ten iterations.\n",
      "  warnings.warn(msg, RuntimeWarning)\n"
     ]
    },
    {
     "name": "stdout",
     "output_type": "stream",
     "text": [
      "working on inferring 1 3\n"
     ]
    },
    {
     "name": "stderr",
     "output_type": "stream",
     "text": [
      "/Users/teddygilman/PycharmProjects/CAAM476HW1/venv/lib/python3.9/site-packages/scipy/optimize/_minpack_py.py:178: RuntimeWarning: The iteration is not making good progress, as measured by the \n",
      "  improvement from the last ten iterations.\n",
      "  warnings.warn(msg, RuntimeWarning)\n"
     ]
    },
    {
     "name": "stdout",
     "output_type": "stream",
     "text": [
      "working on inferring 1 4\n",
      "working on inferring 2 3\n"
     ]
    },
    {
     "name": "stderr",
     "output_type": "stream",
     "text": [
      "/Users/teddygilman/PycharmProjects/CAAM476HW1/venv/lib/python3.9/site-packages/scipy/optimize/_minpack_py.py:178: RuntimeWarning: The iteration is not making good progress, as measured by the \n",
      "  improvement from the last ten iterations.\n",
      "  warnings.warn(msg, RuntimeWarning)\n"
     ]
    },
    {
     "name": "stdout",
     "output_type": "stream",
     "text": [
      "working on inferring 2 4\n",
      "working on inferring 3 4\n",
      "in getting kmer vectors, working on k: 9 seq 0\n",
      "in getting kmer vectors, working on k: 9 seq 1\n",
      "in getting kmer vectors, working on k: 9 seq 2\n",
      "in getting kmer vectors, working on k: 9 seq 3\n",
      "in getting kmer vectors, working on k: 9 seq 4\n",
      "in getting kmer vectors, working on k: 10 seq 0\n",
      "in getting kmer vectors, working on k: 10 seq 1\n",
      "in getting kmer vectors, working on k: 10 seq 2\n",
      "in getting kmer vectors, working on k: 10 seq 3\n",
      "in getting kmer vectors, working on k: 10 seq 4\n",
      "in getting kmer vectors, working on k: 11 seq 0\n",
      "in getting kmer vectors, working on k: 11 seq 1\n",
      "in getting kmer vectors, working on k: 11 seq 2\n",
      "in getting kmer vectors, working on k: 11 seq 3\n",
      "in getting kmer vectors, working on k: 11 seq 4\n",
      "in getting kmer vectors, working on k: 12 seq 0\n",
      "in getting kmer vectors, working on k: 12 seq 1\n",
      "in getting kmer vectors, working on k: 12 seq 2\n",
      "in getting kmer vectors, working on k: 12 seq 3\n",
      "in getting kmer vectors, working on k: 12 seq 4\n",
      "working on inferring 0 1\n"
     ]
    },
    {
     "name": "stderr",
     "output_type": "stream",
     "text": [
      "/Users/teddygilman/PycharmProjects/CAAM476HW1/venv/lib/python3.9/site-packages/scipy/optimize/_minpack_py.py:178: RuntimeWarning: The iteration is not making good progress, as measured by the \n",
      "  improvement from the last ten iterations.\n",
      "  warnings.warn(msg, RuntimeWarning)\n"
     ]
    },
    {
     "name": "stdout",
     "output_type": "stream",
     "text": [
      "working on inferring 0 2\n"
     ]
    },
    {
     "name": "stderr",
     "output_type": "stream",
     "text": [
      "/Users/teddygilman/PycharmProjects/CAAM476HW1/venv/lib/python3.9/site-packages/scipy/optimize/_minpack_py.py:178: RuntimeWarning: The iteration is not making good progress, as measured by the \n",
      "  improvement from the last ten iterations.\n",
      "  warnings.warn(msg, RuntimeWarning)\n"
     ]
    },
    {
     "name": "stdout",
     "output_type": "stream",
     "text": [
      "working on inferring 0 3\n"
     ]
    },
    {
     "name": "stderr",
     "output_type": "stream",
     "text": [
      "/Users/teddygilman/PycharmProjects/CAAM476HW1/venv/lib/python3.9/site-packages/scipy/optimize/_minpack_py.py:178: RuntimeWarning: The iteration is not making good progress, as measured by the \n",
      "  improvement from the last ten iterations.\n",
      "  warnings.warn(msg, RuntimeWarning)\n"
     ]
    },
    {
     "name": "stdout",
     "output_type": "stream",
     "text": [
      "working on inferring 0 4\n"
     ]
    },
    {
     "name": "stderr",
     "output_type": "stream",
     "text": [
      "/Users/teddygilman/PycharmProjects/CAAM476HW1/venv/lib/python3.9/site-packages/scipy/optimize/_minpack_py.py:178: RuntimeWarning: The iteration is not making good progress, as measured by the \n",
      "  improvement from the last ten iterations.\n",
      "  warnings.warn(msg, RuntimeWarning)\n"
     ]
    },
    {
     "name": "stdout",
     "output_type": "stream",
     "text": [
      "working on inferring 1 2\n"
     ]
    },
    {
     "name": "stderr",
     "output_type": "stream",
     "text": [
      "/Users/teddygilman/PycharmProjects/CAAM476HW1/venv/lib/python3.9/site-packages/scipy/optimize/_minpack_py.py:178: RuntimeWarning: The iteration is not making good progress, as measured by the \n",
      "  improvement from the last ten iterations.\n",
      "  warnings.warn(msg, RuntimeWarning)\n"
     ]
    },
    {
     "name": "stdout",
     "output_type": "stream",
     "text": [
      "working on inferring 1 3\n"
     ]
    },
    {
     "name": "stderr",
     "output_type": "stream",
     "text": [
      "/Users/teddygilman/PycharmProjects/CAAM476HW1/venv/lib/python3.9/site-packages/scipy/optimize/_minpack_py.py:178: RuntimeWarning: The iteration is not making good progress, as measured by the \n",
      "  improvement from the last ten iterations.\n",
      "  warnings.warn(msg, RuntimeWarning)\n"
     ]
    },
    {
     "name": "stdout",
     "output_type": "stream",
     "text": [
      "working on inferring 1 4\n",
      "working on inferring 2 3\n"
     ]
    },
    {
     "name": "stderr",
     "output_type": "stream",
     "text": [
      "/Users/teddygilman/PycharmProjects/CAAM476HW1/venv/lib/python3.9/site-packages/scipy/optimize/_minpack_py.py:178: RuntimeWarning: The iteration is not making good progress, as measured by the \n",
      "  improvement from the last ten iterations.\n",
      "  warnings.warn(msg, RuntimeWarning)\n"
     ]
    },
    {
     "name": "stdout",
     "output_type": "stream",
     "text": [
      "working on inferring 2 4\n",
      "working on inferring 3 4\n",
      "in getting kmer vectors, working on k: 9 seq 0\n",
      "in getting kmer vectors, working on k: 9 seq 1\n",
      "in getting kmer vectors, working on k: 9 seq 2\n",
      "in getting kmer vectors, working on k: 9 seq 3\n",
      "in getting kmer vectors, working on k: 9 seq 4\n",
      "in getting kmer vectors, working on k: 10 seq 0\n",
      "in getting kmer vectors, working on k: 10 seq 1\n",
      "in getting kmer vectors, working on k: 10 seq 2\n",
      "in getting kmer vectors, working on k: 10 seq 3\n",
      "in getting kmer vectors, working on k: 10 seq 4\n",
      "in getting kmer vectors, working on k: 11 seq 0\n",
      "in getting kmer vectors, working on k: 11 seq 1\n",
      "in getting kmer vectors, working on k: 11 seq 2\n",
      "in getting kmer vectors, working on k: 11 seq 3\n",
      "in getting kmer vectors, working on k: 11 seq 4\n",
      "in getting kmer vectors, working on k: 12 seq 0\n",
      "in getting kmer vectors, working on k: 12 seq 1\n",
      "in getting kmer vectors, working on k: 12 seq 2\n",
      "in getting kmer vectors, working on k: 12 seq 3\n",
      "in getting kmer vectors, working on k: 12 seq 4\n",
      "working on inferring 0 1\n"
     ]
    },
    {
     "name": "stderr",
     "output_type": "stream",
     "text": [
      "/Users/teddygilman/PycharmProjects/CAAM476HW1/venv/lib/python3.9/site-packages/scipy/optimize/_minpack_py.py:178: RuntimeWarning: The iteration is not making good progress, as measured by the \n",
      "  improvement from the last ten iterations.\n",
      "  warnings.warn(msg, RuntimeWarning)\n"
     ]
    },
    {
     "name": "stdout",
     "output_type": "stream",
     "text": [
      "working on inferring 0 2\n"
     ]
    },
    {
     "name": "stderr",
     "output_type": "stream",
     "text": [
      "/Users/teddygilman/PycharmProjects/CAAM476HW1/venv/lib/python3.9/site-packages/scipy/optimize/_minpack_py.py:178: RuntimeWarning: The iteration is not making good progress, as measured by the \n",
      "  improvement from the last ten iterations.\n",
      "  warnings.warn(msg, RuntimeWarning)\n"
     ]
    },
    {
     "name": "stdout",
     "output_type": "stream",
     "text": [
      "working on inferring 0 3\n"
     ]
    },
    {
     "name": "stderr",
     "output_type": "stream",
     "text": [
      "/Users/teddygilman/PycharmProjects/CAAM476HW1/venv/lib/python3.9/site-packages/scipy/optimize/_minpack_py.py:178: RuntimeWarning: The iteration is not making good progress, as measured by the \n",
      "  improvement from the last ten iterations.\n",
      "  warnings.warn(msg, RuntimeWarning)\n"
     ]
    },
    {
     "name": "stdout",
     "output_type": "stream",
     "text": [
      "working on inferring 0 4\n",
      "working on inferring 1 2\n",
      "working on inferring 1 3\n"
     ]
    },
    {
     "name": "stderr",
     "output_type": "stream",
     "text": [
      "/Users/teddygilman/PycharmProjects/CAAM476HW1/venv/lib/python3.9/site-packages/scipy/optimize/_minpack_py.py:178: RuntimeWarning: The iteration is not making good progress, as measured by the \n",
      "  improvement from the last ten iterations.\n",
      "  warnings.warn(msg, RuntimeWarning)\n"
     ]
    },
    {
     "name": "stdout",
     "output_type": "stream",
     "text": [
      "working on inferring 1 4\n",
      "working on inferring 2 3\n"
     ]
    },
    {
     "name": "stderr",
     "output_type": "stream",
     "text": [
      "/Users/teddygilman/PycharmProjects/CAAM476HW1/venv/lib/python3.9/site-packages/scipy/optimize/_minpack_py.py:178: RuntimeWarning: The iteration is not making good progress, as measured by the \n",
      "  improvement from the last ten iterations.\n",
      "  warnings.warn(msg, RuntimeWarning)\n"
     ]
    },
    {
     "name": "stdout",
     "output_type": "stream",
     "text": [
      "working on inferring 2 4\n",
      "working on inferring 3 4\n",
      "in getting kmer vectors, working on k: 9 seq 0\n",
      "in getting kmer vectors, working on k: 9 seq 1\n",
      "in getting kmer vectors, working on k: 9 seq 2\n",
      "in getting kmer vectors, working on k: 9 seq 3\n",
      "in getting kmer vectors, working on k: 9 seq 4\n",
      "in getting kmer vectors, working on k: 10 seq 0\n",
      "in getting kmer vectors, working on k: 10 seq 1\n",
      "in getting kmer vectors, working on k: 10 seq 2\n",
      "in getting kmer vectors, working on k: 10 seq 3\n",
      "in getting kmer vectors, working on k: 10 seq 4\n",
      "in getting kmer vectors, working on k: 11 seq 0\n",
      "in getting kmer vectors, working on k: 11 seq 1\n",
      "in getting kmer vectors, working on k: 11 seq 2\n",
      "in getting kmer vectors, working on k: 11 seq 3\n",
      "in getting kmer vectors, working on k: 11 seq 4\n",
      "in getting kmer vectors, working on k: 12 seq 0\n",
      "in getting kmer vectors, working on k: 12 seq 1\n",
      "in getting kmer vectors, working on k: 12 seq 2\n",
      "in getting kmer vectors, working on k: 12 seq 3\n",
      "in getting kmer vectors, working on k: 12 seq 4\n",
      "working on inferring 0 1\n"
     ]
    },
    {
     "name": "stderr",
     "output_type": "stream",
     "text": [
      "/Users/teddygilman/PycharmProjects/CAAM476HW1/venv/lib/python3.9/site-packages/scipy/optimize/_minpack_py.py:178: RuntimeWarning: The iteration is not making good progress, as measured by the \n",
      "  improvement from the last ten iterations.\n",
      "  warnings.warn(msg, RuntimeWarning)\n"
     ]
    },
    {
     "name": "stdout",
     "output_type": "stream",
     "text": [
      "working on inferring 0 2\n"
     ]
    },
    {
     "name": "stderr",
     "output_type": "stream",
     "text": [
      "/Users/teddygilman/PycharmProjects/CAAM476HW1/venv/lib/python3.9/site-packages/scipy/optimize/_minpack_py.py:178: RuntimeWarning: The iteration is not making good progress, as measured by the \n",
      "  improvement from the last ten iterations.\n",
      "  warnings.warn(msg, RuntimeWarning)\n"
     ]
    },
    {
     "name": "stdout",
     "output_type": "stream",
     "text": [
      "working on inferring 0 3\n",
      "working on inferring 0 4\n"
     ]
    },
    {
     "name": "stderr",
     "output_type": "stream",
     "text": [
      "/Users/teddygilman/PycharmProjects/CAAM476HW1/venv/lib/python3.9/site-packages/scipy/optimize/_minpack_py.py:178: RuntimeWarning: The iteration is not making good progress, as measured by the \n",
      "  improvement from the last ten iterations.\n",
      "  warnings.warn(msg, RuntimeWarning)\n"
     ]
    },
    {
     "name": "stdout",
     "output_type": "stream",
     "text": [
      "working on inferring 1 2\n",
      "working on inferring 1 3\n"
     ]
    },
    {
     "name": "stderr",
     "output_type": "stream",
     "text": [
      "/Users/teddygilman/PycharmProjects/CAAM476HW1/venv/lib/python3.9/site-packages/scipy/optimize/_minpack_py.py:178: RuntimeWarning: The iteration is not making good progress, as measured by the \n",
      "  improvement from the last ten iterations.\n",
      "  warnings.warn(msg, RuntimeWarning)\n"
     ]
    },
    {
     "name": "stdout",
     "output_type": "stream",
     "text": [
      "working on inferring 1 4\n",
      "working on inferring 2 3\n"
     ]
    },
    {
     "name": "stderr",
     "output_type": "stream",
     "text": [
      "/Users/teddygilman/PycharmProjects/CAAM476HW1/venv/lib/python3.9/site-packages/scipy/optimize/_minpack_py.py:178: RuntimeWarning: The iteration is not making good progress, as measured by the \n",
      "  improvement from the last ten iterations.\n",
      "  warnings.warn(msg, RuntimeWarning)\n"
     ]
    },
    {
     "name": "stdout",
     "output_type": "stream",
     "text": [
      "working on inferring 2 4\n",
      "working on inferring 3 4\n",
      "in getting kmer vectors, working on k: 9 seq 0\n",
      "in getting kmer vectors, working on k: 9 seq 1\n",
      "in getting kmer vectors, working on k: 9 seq 2\n",
      "in getting kmer vectors, working on k: 9 seq 3\n",
      "in getting kmer vectors, working on k: 9 seq 4\n",
      "in getting kmer vectors, working on k: 10 seq 0\n",
      "in getting kmer vectors, working on k: 10 seq 1\n",
      "in getting kmer vectors, working on k: 10 seq 2\n",
      "in getting kmer vectors, working on k: 10 seq 3\n",
      "in getting kmer vectors, working on k: 10 seq 4\n",
      "in getting kmer vectors, working on k: 11 seq 0\n",
      "in getting kmer vectors, working on k: 11 seq 1\n",
      "in getting kmer vectors, working on k: 11 seq 2\n",
      "in getting kmer vectors, working on k: 11 seq 3\n",
      "in getting kmer vectors, working on k: 11 seq 4\n",
      "in getting kmer vectors, working on k: 12 seq 0\n",
      "in getting kmer vectors, working on k: 12 seq 1\n",
      "in getting kmer vectors, working on k: 12 seq 2\n",
      "in getting kmer vectors, working on k: 12 seq 3\n",
      "in getting kmer vectors, working on k: 12 seq 4\n",
      "working on inferring 0 1\n"
     ]
    },
    {
     "name": "stderr",
     "output_type": "stream",
     "text": [
      "/Users/teddygilman/PycharmProjects/CAAM476HW1/venv/lib/python3.9/site-packages/scipy/optimize/_minpack_py.py:178: RuntimeWarning: The iteration is not making good progress, as measured by the \n",
      "  improvement from the last ten iterations.\n",
      "  warnings.warn(msg, RuntimeWarning)\n"
     ]
    },
    {
     "name": "stdout",
     "output_type": "stream",
     "text": [
      "working on inferring 0 2\n"
     ]
    },
    {
     "name": "stderr",
     "output_type": "stream",
     "text": [
      "/Users/teddygilman/PycharmProjects/CAAM476HW1/venv/lib/python3.9/site-packages/scipy/optimize/_minpack_py.py:178: RuntimeWarning: The iteration is not making good progress, as measured by the \n",
      "  improvement from the last ten iterations.\n",
      "  warnings.warn(msg, RuntimeWarning)\n"
     ]
    },
    {
     "name": "stdout",
     "output_type": "stream",
     "text": [
      "working on inferring 0 3\n"
     ]
    },
    {
     "name": "stderr",
     "output_type": "stream",
     "text": [
      "/Users/teddygilman/PycharmProjects/CAAM476HW1/venv/lib/python3.9/site-packages/scipy/optimize/_minpack_py.py:178: RuntimeWarning: The iteration is not making good progress, as measured by the \n",
      "  improvement from the last ten iterations.\n",
      "  warnings.warn(msg, RuntimeWarning)\n"
     ]
    },
    {
     "name": "stdout",
     "output_type": "stream",
     "text": [
      "working on inferring 0 4\n"
     ]
    },
    {
     "name": "stderr",
     "output_type": "stream",
     "text": [
      "/Users/teddygilman/PycharmProjects/CAAM476HW1/venv/lib/python3.9/site-packages/scipy/optimize/_minpack_py.py:178: RuntimeWarning: The iteration is not making good progress, as measured by the \n",
      "  improvement from the last ten iterations.\n",
      "  warnings.warn(msg, RuntimeWarning)\n"
     ]
    },
    {
     "name": "stdout",
     "output_type": "stream",
     "text": [
      "working on inferring 1 2\n"
     ]
    },
    {
     "name": "stderr",
     "output_type": "stream",
     "text": [
      "/Users/teddygilman/PycharmProjects/CAAM476HW1/venv/lib/python3.9/site-packages/scipy/optimize/_minpack_py.py:178: RuntimeWarning: The iteration is not making good progress, as measured by the \n",
      "  improvement from the last ten iterations.\n",
      "  warnings.warn(msg, RuntimeWarning)\n"
     ]
    },
    {
     "name": "stdout",
     "output_type": "stream",
     "text": [
      "working on inferring 1 3\n"
     ]
    },
    {
     "name": "stderr",
     "output_type": "stream",
     "text": [
      "/Users/teddygilman/PycharmProjects/CAAM476HW1/venv/lib/python3.9/site-packages/scipy/optimize/_minpack_py.py:178: RuntimeWarning: The iteration is not making good progress, as measured by the \n",
      "  improvement from the last ten iterations.\n",
      "  warnings.warn(msg, RuntimeWarning)\n"
     ]
    },
    {
     "name": "stdout",
     "output_type": "stream",
     "text": [
      "working on inferring 1 4\n",
      "working on inferring 2 3\n"
     ]
    },
    {
     "name": "stderr",
     "output_type": "stream",
     "text": [
      "/Users/teddygilman/PycharmProjects/CAAM476HW1/venv/lib/python3.9/site-packages/scipy/optimize/_minpack_py.py:178: RuntimeWarning: The iteration is not making good progress, as measured by the \n",
      "  improvement from the last ten iterations.\n",
      "  warnings.warn(msg, RuntimeWarning)\n"
     ]
    },
    {
     "name": "stdout",
     "output_type": "stream",
     "text": [
      "working on inferring 2 4\n",
      "working on inferring 3 4\n",
      "13.835626550515492\n"
     ]
    }
   ],
   "source": [
    "st = time.time()\n",
    "mats = makingFinalReconstructedTreeOurMethod.makeManyMatricesOfDistances(10, seqs)\n",
    "print((time.time()-st)/60)"
   ]
  },
  {
   "cell_type": "code",
   "execution_count": 6,
   "id": "bf194ed1",
   "metadata": {},
   "outputs": [
    {
     "name": "stdout",
     "output_type": "stream",
     "text": [
      "[[10.  7.  5.  6.  8.]\n",
      " [ 7. 10.  0.  1.  2.]\n",
      " [ 5.  0. 10.  0.  3.]\n",
      " [ 6.  1.  0. 10.  2.]\n",
      " [ 8.  2.  3.  2. 10.]]\n",
      "fail\n",
      "fail\n"
     ]
    }
   ],
   "source": [
    "finalDistMat = makingFinalReconstructedTreeOurMethod.makeFinalDistMatrixFromSmallerOnes(mats)"
   ]
  },
  {
   "cell_type": "code",
   "execution_count": 7,
   "id": "815c599e",
   "metadata": {},
   "outputs": [
    {
     "data": {
      "text/plain": "          0         1         2         3         4\n0  0.000000  0.001478  0.001585  0.001551  0.001445\n1  0.001478  0.000000  0.000588  0.000275  0.000230\n2  0.001585  0.000588  0.000000  0.000588  0.000351\n3  0.001551  0.000275  0.000588  0.000000  0.000435\n4  0.001445  0.000230  0.000351  0.000435  0.000000",
      "text/html": "<div>\n<style scoped>\n    .dataframe tbody tr th:only-of-type {\n        vertical-align: middle;\n    }\n\n    .dataframe tbody tr th {\n        vertical-align: top;\n    }\n\n    .dataframe thead th {\n        text-align: right;\n    }\n</style>\n<table border=\"1\" class=\"dataframe\">\n  <thead>\n    <tr style=\"text-align: right;\">\n      <th></th>\n      <th>0</th>\n      <th>1</th>\n      <th>2</th>\n      <th>3</th>\n      <th>4</th>\n    </tr>\n  </thead>\n  <tbody>\n    <tr>\n      <th>0</th>\n      <td>0.000000</td>\n      <td>0.001478</td>\n      <td>0.001585</td>\n      <td>0.001551</td>\n      <td>0.001445</td>\n    </tr>\n    <tr>\n      <th>1</th>\n      <td>0.001478</td>\n      <td>0.000000</td>\n      <td>0.000588</td>\n      <td>0.000275</td>\n      <td>0.000230</td>\n    </tr>\n    <tr>\n      <th>2</th>\n      <td>0.001585</td>\n      <td>0.000588</td>\n      <td>0.000000</td>\n      <td>0.000588</td>\n      <td>0.000351</td>\n    </tr>\n    <tr>\n      <th>3</th>\n      <td>0.001551</td>\n      <td>0.000275</td>\n      <td>0.000588</td>\n      <td>0.000000</td>\n      <td>0.000435</td>\n    </tr>\n    <tr>\n      <th>4</th>\n      <td>0.001445</td>\n      <td>0.000230</td>\n      <td>0.000351</td>\n      <td>0.000435</td>\n      <td>0.000000</td>\n    </tr>\n  </tbody>\n</table>\n</div>"
     },
     "execution_count": 7,
     "metadata": {},
     "output_type": "execute_result"
    }
   ],
   "source": [
    "import numpy as np\n",
    "finalDistMat\n",
    "average = np.average(finalDistMat)\n",
    "for i in range(len(finalDistMat[0])):\n",
    "    for j in range(len(finalDistMat[0])):\n",
    "        if i != j:\n",
    "            if finalDistMat[i][j] == 0.0:\n",
    "                finalDistMat[i][j] += average\n",
    "finalDistMat"
   ]
  },
  {
   "cell_type": "code",
   "execution_count": 91,
   "id": "3bf92513",
   "metadata": {},
   "outputs": [
    {
     "data": {
      "text/plain": "          0         1         2         3         4\n0  0.000000  0.002955  0.003170  0.003102  0.002891\n1  0.002955  0.000000  0.001176  0.000550  0.000461\n2  0.003170  0.001176  0.000000  0.001176  0.000701\n3  0.003102  0.000550  0.001176  0.000000  0.000870\n4  0.002891  0.000461  0.000701  0.000870  0.000000",
      "text/html": "<div>\n<style scoped>\n    .dataframe tbody tr th:only-of-type {\n        vertical-align: middle;\n    }\n\n    .dataframe tbody tr th {\n        vertical-align: top;\n    }\n\n    .dataframe thead th {\n        text-align: right;\n    }\n</style>\n<table border=\"1\" class=\"dataframe\">\n  <thead>\n    <tr style=\"text-align: right;\">\n      <th></th>\n      <th>0</th>\n      <th>1</th>\n      <th>2</th>\n      <th>3</th>\n      <th>4</th>\n    </tr>\n  </thead>\n  <tbody>\n    <tr>\n      <th>0</th>\n      <td>0.000000</td>\n      <td>0.002955</td>\n      <td>0.003170</td>\n      <td>0.003102</td>\n      <td>0.002891</td>\n    </tr>\n    <tr>\n      <th>1</th>\n      <td>0.002955</td>\n      <td>0.000000</td>\n      <td>0.001176</td>\n      <td>0.000550</td>\n      <td>0.000461</td>\n    </tr>\n    <tr>\n      <th>2</th>\n      <td>0.003170</td>\n      <td>0.001176</td>\n      <td>0.000000</td>\n      <td>0.001176</td>\n      <td>0.000701</td>\n    </tr>\n    <tr>\n      <th>3</th>\n      <td>0.003102</td>\n      <td>0.000550</td>\n      <td>0.001176</td>\n      <td>0.000000</td>\n      <td>0.000870</td>\n    </tr>\n    <tr>\n      <th>4</th>\n      <td>0.002891</td>\n      <td>0.000461</td>\n      <td>0.000701</td>\n      <td>0.000870</td>\n      <td>0.000000</td>\n    </tr>\n  </tbody>\n</table>\n</div>"
     },
     "execution_count": 91,
     "metadata": {},
     "output_type": "execute_result"
    }
   ],
   "source": [
    "finalDistMat*2"
   ]
  },
  {
   "cell_type": "code",
   "execution_count": 108,
   "id": "8cfb20e2",
   "metadata": {
    "scrolled": true
   },
   "outputs": [
    {
     "name": "stdout",
     "output_type": "stream",
     "text": [
      "[&U] (T2:128464.87292574922,((T5:36755.13930370257,T1:18241.087602119278):18441.883580974536,(T4:54837.65327657218,T3:15303.322518495988):11046.041440632554):128464.87292574922);\n",
      "\n",
      "/--------------------------------------------------------------------------- T2\n",
      "|                                                                              \n",
      "+                                                 /------------------------- T5\n",
      "|                        /------------------------+                            \n",
      "|                        |                        \\------------------------- T1\n",
      "\\------------------------+                                                     \n",
      "                         |                        /------------------------- T4\n",
      "                         \\------------------------+                            \n",
      "                                                  \\------------------------- T3\n",
      "                                                                               \n",
      "                                                                               \n"
     ]
    }
   ],
   "source": [
    "our_tree = makingFinalReconstructedTreeOurMethod.makeTree(seqs, mu_Var , (finalDistMat*2))\n",
    "\n",
    "\n",
    "print(our_tree.as_string(\"newick\"))\n",
    "our_tree.print_plot()\n"
   ]
  },
  {
   "cell_type": "code",
   "execution_count": 109,
   "id": "926aabef",
   "metadata": {},
   "outputs": [
    {
     "data": {
      "text/plain": "[<dendropy.datamodel.treemodel._bipartition.Bipartition at 0x142e95640>,\n <dendropy.datamodel.treemodel._bipartition.Bipartition at 0x142dfd040>,\n <dendropy.datamodel.treemodel._bipartition.Bipartition at 0x142ebccd0>,\n <dendropy.datamodel.treemodel._bipartition.Bipartition at 0x142ebcd90>,\n <dendropy.datamodel.treemodel._bipartition.Bipartition at 0x142ebc460>,\n <dendropy.datamodel.treemodel._bipartition.Bipartition at 0x142ebcd60>,\n <dendropy.datamodel.treemodel._bipartition.Bipartition at 0x142ebcee0>,\n <dendropy.datamodel.treemodel._bipartition.Bipartition at 0x142ebce50>,\n <dendropy.datamodel.treemodel._bipartition.Bipartition at 0x142ebcaf0>]"
     },
     "execution_count": 109,
     "metadata": {},
     "output_type": "execute_result"
    }
   ],
   "source": [
    "our_tree.encode_bipartitions()\n",
    "tree.encode_bipartitions()"
   ]
  },
  {
   "cell_type": "code",
   "execution_count": 125,
   "id": "2195c130",
   "metadata": {},
   "outputs": [
    {
     "name": "stdout",
     "output_type": "stream",
     "text": [
      "[&U] ('T2_test':256929.74585149845,('T5_test':36755.13930370257,'T1_test':18241.087602119278):18441.883580974536,('T4_test':54837.65327657218,'T3_test':15303.322518495988):11046.041440632554);\n",
      "\n",
      "/---------------------------------------------------------------------- T2_test\n",
      "|                                                                              \n",
      "|                                  /----------------------------------- T5_test\n",
      "+----------------------------------+                                           \n",
      "|                                  \\----------------------------------- T1_test\n",
      "|                                                                              \n",
      "|                                  /----------------------------------- T4_test\n",
      "\\----------------------------------+                                           \n",
      "                                   \\----------------------------------- T3_test\n",
      "                                                                               \n",
      "                                                                               \n"
     ]
    }
   ],
   "source": [
    "print(our_tree.as_string(\"newick\"))\n",
    "our_tree.print_plot()"
   ]
  },
  {
   "cell_type": "code",
   "execution_count": 128,
   "id": "261f0fb4",
   "metadata": {},
   "outputs": [],
   "source": [
    "our_tree_2 = Tree(our_tree, taxon_namespace = tree.taxon_namespace)"
   ]
  },
  {
   "cell_type": "code",
   "execution_count": 124,
   "outputs": [],
   "source": [
    "for leaf in our_tree.leaf_node_iter():\n",
    "    leaf.taxon.label = leaf.taxon.label + \"_test\""
   ],
   "metadata": {
    "collapsed": false
   }
  },
  {
   "cell_type": "code",
   "execution_count": 129,
   "outputs": [
    {
     "name": "stdout",
     "output_type": "stream",
     "text": [
      "[&U] ('T2_test':256929.74585149845,('T5_test':36755.13930370257,'T1_test':18241.087602119278):18441.883580974536,('T4_test':54837.65327657218,'T3_test':15303.322518495988):11046.041440632554);\n",
      "\n",
      "/---------------------------------------------------------------------- T2_test\n",
      "|                                                                              \n",
      "|                                  /----------------------------------- T5_test\n",
      "+----------------------------------+                                           \n",
      "|                                  \\----------------------------------- T1_test\n",
      "|                                                                              \n",
      "|                                  /----------------------------------- T4_test\n",
      "\\----------------------------------+                                           \n",
      "                                   \\----------------------------------- T3_test\n",
      "                                                                               \n",
      "                                                                               \n",
      "True\n"
     ]
    }
   ],
   "source": [
    "print(our_tree_2.as_string(\"newick\"))\n",
    "our_tree_2.print_plot()\n",
    "print(our_tree_2.as_string('newick') == our_tree.as_string('newick'))"
   ],
   "metadata": {
    "collapsed": false
   }
  },
  {
   "cell_type": "code",
   "execution_count": 130,
   "outputs": [
    {
     "name": "stdout",
     "output_type": "stream",
     "text": [
      "342668.9403849595\n",
      "7.0 1.75 460513.2633289787 320535.20800531394 1.6840872376188778\n",
      "(7.0, 1.75, 460513.2633289787, 320535.20800531394, 1.6840872376188778)\n",
      "15.0 3.75 798777.919625618 336939.32233207714 2.062836723615695\n",
      "(15.0, 3.75, 798777.919625618, 336939.32233207714, 2.062836723615695)\n"
     ]
    }
   ],
   "source": [
    "print(dendropy.calculate.treecompare.euclidean_distance(tree, our_tree_2))\n",
    "print(comparingTrees.computeDistancesOfTrees(tree, our_tree, 5))\n",
    "print(comparingTrees.computeDistancesOfTrees(tree, our_tree_2, 5))"
   ],
   "metadata": {
    "collapsed": false
   }
  },
  {
   "cell_type": "code",
   "execution_count": 9,
   "id": "f1ee3793",
   "metadata": {},
   "outputs": [
    {
     "name": "stdout",
     "output_type": "stream",
     "text": [
      "T2  0.000000\n",
      "T1  0.003169    0.000000\n",
      "T4  0.003170    0.000497    0.000000\n",
      "T5  0.003168    0.000495    0.000178    0.000000\n",
      "T3  0.003172    0.000740    0.000740    0.000739    0.000000\n",
      "    T2  T1  T4  T5  T3\n"
     ]
    }
   ],
   "source": [
    "theirTree = makingOtherMethodTree.inferTreeFromSeqs(seqs, mu_Var)"
   ]
  },
  {
   "cell_type": "code",
   "execution_count": 11,
   "id": "d5d5187e",
   "metadata": {},
   "outputs": [
    {
     "name": "stdout",
     "output_type": "stream",
     "text": [
      "                                                  /------------------------- T2\n",
      "/-------------------------------------------------+                            \n",
      "|                                                 \\------------------------- T3\n",
      "+                                                                              \n",
      "|                        /-------------------------------------------------- T1\n",
      "\\------------------------+                                                     \n",
      "                         |                        /------------------------- T4\n",
      "                         \\------------------------+                            \n",
      "                                                  \\------------------------- T5\n",
      "                                                                               \n",
      "                                                                               \n",
      "((T2:280025.0000000018,T3:37135.00000000341):6029.999999999231,(T1:24814.999999998865,(T4:8975.000000001804,T5:8824.999999999343):15869.999999996997):6029.999999999231)\n"
     ]
    }
   ],
   "source": [
    "theirTree.print_plot()print(str(theirTree))"
   ]
  },
  {
   "cell_type": "code",
   "execution_count": 139,
   "id": "a4e8b1c5",
   "metadata": {},
   "outputs": [
    {
     "name": "stdout",
     "output_type": "stream",
     "text": [
      "{'T2': {'T2': 0.0, 'T3': 317160.00000000524, 'T4': 316929.99999999907, 'T5': 316779.9999999966, 'T1': 316899.9999999992}, 'T3': {'T2': 317160.00000000524, 'T3': 0.0, 'T4': 74040.00000000068, 'T5': 73889.99999999822, 'T1': 74010.00000000074}, 'T4': {'T2': 316929.99999999907, 'T3': 74040.00000000068, 'T4': 0.0, 'T5': 17800.00000000115, 'T1': 49659.999999997664}, 'T5': {'T2': 316779.9999999966, 'T3': 73889.99999999822, 'T4': 17800.00000000115, 'T5': 0.0, 'T1': 49509.999999995205}, 'T1': {'T2': 316899.9999999992, 'T3': 74010.00000000074, 'T4': 49659.999999997664, 'T5': 49509.999999995205, 'T1': 0.0}}\n"
     ]
    }
   ],
   "source": [
    "print(theirTree.phylogenetic_distance_matrix().as_data_table()._data)"
   ]
  },
  {
   "cell_type": "code",
   "execution_count": 12,
   "id": "23422f34",
   "metadata": {},
   "outputs": [
    {
     "name": "stdout",
     "output_type": "stream",
     "text": [
      "(T2:158038.27636878172,((T1:24928.117063558202,(T4:8870.800976466802,T5:8870.800976466802):16057.316087091402):12419.458210475736,T3:37347.57527403394):120690.70109474778):62401.08789878234\n",
      "/--------------------------------------------------------------------------- T2\n",
      "|                                                                              \n",
      "+                                     /------------------------------------- T1\n",
      "|                  /------------------+                                        \n",
      "|                  |                  |                  /------------------ T4\n",
      "\\------------------+                  \\------------------+                     \n",
      "                   |                                     \\------------------ T5\n",
      "                   |                                                           \n",
      "                   \\-------------------------------------------------------- T3\n",
      "                                                                               \n",
      "                                                                               \n"
     ]
    }
   ],
   "source": [
    "print(str(tree))\n",
    "tree.print_plot()"
   ]
  },
  {
   "cell_type": "code",
   "execution_count": null,
   "id": "386aa7af",
   "metadata": {},
   "outputs": [],
   "source": []
  },
  {
   "cell_type": "code",
   "execution_count": null,
   "id": "098a5734",
   "metadata": {},
   "outputs": [],
   "source": []
  },
  {
   "cell_type": "code",
   "execution_count": null,
   "id": "67ca5fb5",
   "metadata": {},
   "outputs": [],
   "source": []
  },
  {
   "cell_type": "code",
   "execution_count": 17,
   "id": "3025e5bc",
   "metadata": {},
   "outputs": [
    {
     "name": "stdout",
     "output_type": "stream",
     "text": [
      "==== REAL\n",
      "Distance between 'T1' and 'T2': 85691.74060279054\n",
      "Distance between 'T1' and 'T3': 160301.5318082665\n",
      "Distance between 'T1' and 'T4': 85691.74060279054\n",
      "Distance between 'T1' and 'T5': 18664.18386420532\n",
      "Distance between 'T2' and 'T3': 160301.5318082665\n",
      "Distance between 'T2' and 'T4': 67786.18672747146\n",
      "Distance between 'T2' and 'T5': 85691.74060279054\n",
      "Distance between 'T3' and 'T4': 160301.5318082665\n",
      "Distance between 'T3' and 'T5': 160301.5318082665\n",
      "Distance between 'T4' and 'T5': 85691.74060279054\n",
      "====\n",
      "==== THEM\n",
      "Distance between 'T4' and 'T2': 68377.50000000531\n",
      "Distance between 'T4' and 'T5': 86279.89583333182\n",
      "Distance between 'T4' and 'T1': 85878.22916666747\n",
      "Distance between 'T4' and 'T3': 159628.43749999788\n",
      "Distance between 'T2' and 'T5': 86633.02083332844\n",
      "Distance between 'T2' and 'T1': 86231.3541666641\n",
      "Distance between 'T2' and 'T3': 159981.5624999945\n",
      "Distance between 'T5' and 'T1': 18750.000000000713\n",
      "Distance between 'T5' and 'T3': 160194.58333333588\n",
      "Distance between 'T1' and 'T3': 159792.91666667152\n",
      "====\n",
      "==== US\n",
      "Distance between 'T4' and 'T2': 25066.30528325741\n",
      "Distance between 'T4' and 'T5': 44598.64307871772\n",
      "Distance between 'T4' and 'T1': 46777.773317677405\n",
      "Distance between 'T4' and 'T3': 72584.00249655108\n",
      "Distance between 'T2' and 'T5': 36142.79354376768\n",
      "Distance between 'T2' and 'T1': 38321.92378272736\n",
      "Distance between 'T2' and 'T3': 64128.15296160104\n",
      "Distance between 'T5' and 'T1': 37032.23867518619\n",
      "Distance between 'T5' and 'T3': 66552.129368284\n",
      "Distance between 'T1' and 'T3': 68731.25960724369\n",
      "====\n"
     ]
    }
   ],
   "source": [
    "print('==== REAL')\n",
    "pdc = tree.phylogenetic_distance_matrix()\n",
    "for i, t1 in enumerate(tree.taxon_namespace[:-1]):\n",
    "    for t2 in tree.taxon_namespace[i+1:]:\n",
    "        print(\"Distance between '%s' and '%s': %s\" % (t1.label, t2.label, pdc(t1, t2)))\n",
    "print('====')\n",
    "print('==== THEM')\n",
    "pdc = theirTree.phylogenetic_distance_matrix()\n",
    "for i, t1 in enumerate(theirTree.taxon_namespace[:-1]):\n",
    "    for t2 in theirTree.taxon_namespace[i+1:]:\n",
    "        print(\"Distance between '%s' and '%s': %s\" % (t1.label, t2.label, pdc(t1, t2)))\n",
    "print('====')\n",
    "print('==== US')\n",
    "pdc = our_tree.phylogenetic_distance_matrix()\n",
    "for i, t1 in enumerate(our_tree.taxon_namespace[:-1]):\n",
    "    for t2 in our_tree.taxon_namespace[i+1:]:\n",
    "        print(\"Distance between '%s' and '%s': %s\" % (t1.label, t2.label, pdc(t1, t2)))\n",
    "print('====')"
   ]
  },
  {
   "cell_type": "code",
   "execution_count": null,
   "id": "475d93a4",
   "metadata": {},
   "outputs": [],
   "source": []
  },
  {
   "cell_type": "code",
   "execution_count": null,
   "id": "ead4b712",
   "metadata": {},
   "outputs": [],
   "source": []
  },
  {
   "cell_type": "code",
   "execution_count": 39,
   "id": "565359fd",
   "metadata": {},
   "outputs": [],
   "source": [
    "from dendropy import Tree"
   ]
  },
  {
   "cell_type": "code",
   "execution_count": 122,
   "id": "1fd41548",
   "metadata": {},
   "outputs": [],
   "source": [
    "\n",
    "for edge in our_tree_2.postorder_edge_iter():\n",
    "    if edge.length != None:\n",
    "        edge.length *= 100"
   ]
  },
  {
   "cell_type": "code",
   "execution_count": 13,
   "id": "0c169842",
   "metadata": {},
   "outputs": [
    {
     "name": "stdout",
     "output_type": "stream",
     "text": [
      "7.0 1.75 482050.59245587036 337288.22875476227 1.7331642462663317\n"
     ]
    },
    {
     "data": {
      "text/plain": "(7.0, 1.75, 482050.59245587036, 337288.22875476227, 1.7331642462663317)"
     },
     "execution_count": 13,
     "metadata": {},
     "output_type": "execute_result"
    }
   ],
   "source": [
    "comparingTrees.computeDistancesOfTrees(theirTree, tree, n_populations)"
   ]
  },
  {
   "cell_type": "code",
   "execution_count": 26,
   "id": "c8106ee5",
   "metadata": {},
   "outputs": [
    {
     "name": "stdout",
     "output_type": "stream",
     "text": [
      "7.0 1.75 460513.2633289787 320535.20800531394 1.6840872376188778\n"
     ]
    },
    {
     "data": {
      "text/plain": "(7.0, 1.75, 460513.2633289787, 320535.20800531394, 1.6840872376188778)"
     },
     "execution_count": 26,
     "metadata": {},
     "output_type": "execute_result"
    }
   ],
   "source": [
    "comparingTrees.computeDistancesOfTrees(tree, our_tree, n_populations)"
   ]
  },
  {
   "cell_type": "code",
   "execution_count": 89,
   "id": "cfd99da1",
   "metadata": {},
   "outputs": [
    {
     "name": "stdout",
     "output_type": "stream",
     "text": [
      "379850.9792599089\n",
      "479012.60584397777\n"
     ]
    }
   ],
   "source": [
    "print(dendropy.calculate.treecompare.robinson_foulds_distance(theirTree_2, tree))\n",
    "print(dendropy.calculate.treecompare.robinson_foulds_distance(our_tree_2, tree))\n"
   ]
  },
  {
   "cell_type": "code",
   "execution_count": 29,
   "outputs": [
    {
     "data": {
      "text/plain": "<TaxonNamespace 0x142212700 'None': [<Taxon 0x14225f1f0 'T1'>, <Taxon 0x14225f2b0 'T2'>, <Taxon 0x14225fd90 'T3'>, <Taxon 0x14225fe20 'T4'>, <Taxon 0x14225fe50 'T5'>]>"
     },
     "execution_count": 29,
     "metadata": {},
     "output_type": "execute_result"
    }
   ],
   "source": [
    "tree.taxon_namespace"
   ],
   "metadata": {
    "collapsed": false
   }
  },
  {
   "cell_type": "code",
   "execution_count": 30,
   "outputs": [
    {
     "data": {
      "text/plain": "<TaxonNamespace 0x142235df0 'None': [<Taxon 0x14226a1c0 'T2'>, <Taxon 0x14226a700 'T1'>, <Taxon 0x14226a040 'T4'>, <Taxon 0x14226a3a0 'T5'>, <Taxon 0x14226a100 'T3'>]>"
     },
     "execution_count": 30,
     "metadata": {},
     "output_type": "execute_result"
    }
   ],
   "source": [
    "our_tree.taxon_namespace"
   ],
   "metadata": {
    "collapsed": false
   }
  },
  {
   "cell_type": "code",
   "execution_count": 31,
   "outputs": [],
   "source": [
    "tns = tree.taxon_namespace"
   ],
   "metadata": {
    "collapsed": false
   }
  },
  {
   "cell_type": "code",
   "execution_count": 32,
   "outputs": [],
   "source": [
    "our_tree.taxon_namespace = tns"
   ],
   "metadata": {
    "collapsed": false
   }
  },
  {
   "cell_type": "code",
   "execution_count": 38,
   "outputs": [
    {
     "ename": "AttributeError",
     "evalue": "'Tree' object has no attribute 'taxa'",
     "output_type": "error",
     "traceback": [
      "\u001B[0;31m---------------------------------------------------------------------------\u001B[0m",
      "\u001B[0;31mAttributeError\u001B[0m                            Traceback (most recent call last)",
      "Cell \u001B[0;32mIn[38], line 2\u001B[0m\n\u001B[1;32m      1\u001B[0m our_tree\u001B[38;5;241m.\u001B[39mtaxon_namespace\n\u001B[0;32m----> 2\u001B[0m \u001B[43mour_tree\u001B[49m\u001B[38;5;241;43m.\u001B[39;49m\u001B[43mtaxa\u001B[49m\n",
      "\u001B[0;31mAttributeError\u001B[0m: 'Tree' object has no attribute 'taxa'"
     ]
    }
   ],
   "source": [
    "our_tree.taxon_namespace\n"
   ],
   "metadata": {
    "collapsed": false
   }
  },
  {
   "cell_type": "code",
   "execution_count": 37,
   "outputs": [
    {
     "data": {
      "text/plain": "<TaxonNamespace 0x142212700 'None': [<Taxon 0x14225f1f0 'T1'>, <Taxon 0x14225f2b0 'T2'>, <Taxon 0x14225fd90 'T3'>, <Taxon 0x14225fe20 'T4'>, <Taxon 0x14225fe50 'T5'>]>"
     },
     "execution_count": 37,
     "metadata": {},
     "output_type": "execute_result"
    }
   ],
   "source": [
    "tree.taxon_namespace"
   ],
   "metadata": {
    "collapsed": false
   }
  },
  {
   "cell_type": "code",
   "execution_count": 40,
   "outputs": [],
   "source": [
    "our_tree_2 = Tree(our_tree, taxon_namespace=tns)"
   ],
   "metadata": {
    "collapsed": false
   }
  },
  {
   "cell_type": "code",
   "execution_count": 41,
   "outputs": [
    {
     "name": "stdout",
     "output_type": "stream",
     "text": [
      "(T3:15303.322518495977,T4:54837.653276572215,(T2:256929.74585149848,(T1:18241.087602119307,T5:36755.13930370254):18441.883580974518):11046.041440632538)\n"
     ]
    }
   ],
   "source": [
    "print(str(our_tree_2))"
   ],
   "metadata": {
    "collapsed": false
   }
  },
  {
   "cell_type": "code",
   "execution_count": 52,
   "outputs": [],
   "source": [
    "theirTree_2 = Tree(theirTree, taxon_namespace=tns)"
   ],
   "metadata": {
    "collapsed": false
   }
  },
  {
   "cell_type": "code",
   "execution_count": 54,
   "outputs": [
    {
     "name": "stdout",
     "output_type": "stream",
     "text": [
      "                                      /------------------------------------- T2\n",
      "/-------------------------------------+                                        \n",
      "|                                     \\------------------------------------- T3\n",
      "|                                                                              \n",
      "+--------------------------------------------------------------------------- T1\n",
      "|                                                                              \n",
      "|                                     /------------------------------------- T4\n",
      "\\-------------------------------------+                                        \n",
      "                                      \\------------------------------------- T5\n",
      "                                                                               \n",
      "                                                                               \n",
      "                                      /------------------------------------- T2\n",
      "/-------------------------------------+                                        \n",
      "|                                     \\------------------------------------- T3\n",
      "|                                                                              \n",
      "+--------------------------------------------------------------------------- T1\n",
      "|                                                                              \n",
      "|                                     /------------------------------------- T4\n",
      "\\-------------------------------------+                                        \n",
      "                                      \\------------------------------------- T5\n",
      "                                                                               \n",
      "                                                                               \n",
      "[&U] ((T2:280025.0000000018,T3:37135.00000000341):12059.999999998461,T1:24814.999999998865,(T4:8975.000000001804,T5:8824.999999999343):15869.999999996997);\n",
      "\n",
      "[&U] ((T2:280025.0000000018,T3:37135.00000000341):12059.999999998461,T1:24814.999999998865,(T4:8975.000000001804,T5:8824.999999999343):15869.999999996997);\n",
      "\n"
     ]
    }
   ],
   "source": [
    "theirTree.print_plot()\n",
    "theirTree_2.print_plot()\n",
    "print(theirTree.as_string('newick'))\n",
    "print(theirTree_2.as_string('newick'))\n",
    "\n",
    "((T2:280025.0000000018,T3:37135.00000000341):6029.999999999231,(T1:24814.999999998865,(T4:8975.000000001804,T5:8824.999999999343):15869.999999996997):6029.999999999231)"
   ],
   "metadata": {
    "collapsed": false
   }
  },
  {
   "cell_type": "code",
   "execution_count": 55,
   "outputs": [
    {
     "name": "stdout",
     "output_type": "stream",
     "text": [
      "                                      /------------------------------------- T2\n",
      "/-------------------------------------+                                        \n",
      "|                                     \\------------------------------------- T3\n",
      "|                                                                              \n",
      "+--------------------------------------------------------------------------- T1\n",
      "|                                                                              \n",
      "|                                     /------------------------------------- T4\n",
      "\\-------------------------------------+                                        \n",
      "                                      \\------------------------------------- T5\n",
      "                                                                               \n",
      "                                                                               \n"
     ]
    }
   ],
   "source": [
    "theirTree.print_plot()"
   ],
   "metadata": {
    "collapsed": false
   }
  },
  {
   "cell_type": "code",
   "execution_count": 58,
   "outputs": [
    {
     "name": "stdout",
     "output_type": "stream",
     "text": [
      "True\n"
     ]
    }
   ],
   "source": [
    "print(theirTree is not theirTree_2)"
   ],
   "metadata": {
    "collapsed": false
   }
  },
  {
   "cell_type": "code",
   "execution_count": null,
   "outputs": [],
   "source": [],
   "metadata": {
    "collapsed": false
   }
  }
 ],
 "metadata": {
  "kernelspec": {
   "display_name": "Python 3",
   "language": "python",
   "name": "python3"
  },
  "language_info": {
   "codemirror_mode": {
    "name": "ipython",
    "version": 3
   },
   "file_extension": ".py",
   "mimetype": "text/x-python",
   "name": "python",
   "nbconvert_exporter": "python",
   "pygments_lexer": "ipython3",
   "version": "3.8.8"
  }
 },
 "nbformat": 4,
 "nbformat_minor": 5
}
