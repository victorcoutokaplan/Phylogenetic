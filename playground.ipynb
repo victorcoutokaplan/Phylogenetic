{
 "cells": [
  {
   "cell_type": "code",
   "execution_count": 1,
   "id": "7ac936bb",
   "metadata": {},
   "outputs": [],
   "source": [
    "import dendropy.calculate.treecompare\n",
    "import MakingSequences\n",
    "import makingPairwiseDistancesOurMethod\n",
    "import makingFinalReconstructedTreeOurMethod\n",
    "import makingOtherMethodTree\n",
    "import comparingTrees\n",
    "import time"
   ]
  },
  {
   "cell_type": "code",
   "execution_count": 2,
   "id": "7aafd811",
   "metadata": {},
   "outputs": [],
   "source": [
    "seqLenInput = 1e7\n",
    "initial_size_Var=100\n",
    "# time_Var = 200_000\n",
    "mu_Var = 1e-8\n",
    "recombination_rate=1e-8"
   ]
  },
  {
   "cell_type": "code",
   "execution_count": 3,
   "id": "356dc663",
   "metadata": {},
   "outputs": [],
   "source": [
    "birth_rate = 1000.0\n",
    "death_rate = 500.0\n",
    "n_populations = 5\n",
    "extra_populations = 5 # for \"GSA\" sampling scheme"
   ]
  },
  {
   "cell_type": "code",
   "execution_count": null,
   "id": "c9d68743",
   "metadata": {},
   "outputs": [],
   "source": []
  },
  {
   "cell_type": "code",
   "execution_count": 4,
   "id": "14a2812a",
   "metadata": {},
   "outputs": [
    {
     "name": "stdout",
     "output_type": "stream",
     "text": [
      "Demography\n",
      "╟  Populations\n",
      "║  ┌────────────────────────────────────────────────────────────────────────────────────────────────┐\n",
      "║  │ id │name   │description  │initial_size  │ growth_rate │  default_sampling_time│extra_metadata  │\n",
      "║  ├────────────────────────────────────────────────────────────────────────────────────────────────┤\n",
      "║  │ 0  │T5     │             │100.0         │      0      │                      0│{}              │\n",
      "║  │ 1  │T4     │             │100.0         │      0      │                      0│{}              │\n",
      "║  │ 2  │T3     │             │100.0         │      0      │                      0│{}              │\n",
      "║  │ 3  │T2     │             │100.0         │      0      │                      0│{}              │\n",
      "║  │ 4  │T1     │             │100.0         │      0      │                      0│{}              │\n",
      "║  │ 5  │pop_5  │             │100.0         │      0      │                2.1e+04│{}              │\n",
      "║  │ 6  │pop_6  │             │100.0         │      0      │                3.8e+04│{}              │\n",
      "║  │ 7  │pop_7  │             │100.0         │      0      │                3.8e+04│{}              │\n",
      "║  │ 8  │pop_8  │             │100.0         │      0      │                4.2e+04│{}              │\n",
      "║  └────────────────────────────────────────────────────────────────────────────────────────────────┘\n",
      "╟  Migration Matrix\n",
      "║  ┌────────────────────────────────────────────────────────────────┐\n",
      "║  │       │ T5 │ T4 │ T3 │ T2 │ T1 │ pop_5 │ pop_6 │ pop_7 │ pop_8 │\n",
      "║  ├────────────────────────────────────────────────────────────────┤\n",
      "║  │     T5│ 0  │ 0  │ 0  │ 0  │ 0  │   0   │   0   │   0   │   0   │\n",
      "║  │     T4│ 0  │ 0  │ 0  │ 0  │ 0  │   0   │   0   │   0   │   0   │\n",
      "║  │     T3│ 0  │ 0  │ 0  │ 0  │ 0  │   0   │   0   │   0   │   0   │\n",
      "║  │     T2│ 0  │ 0  │ 0  │ 0  │ 0  │   0   │   0   │   0   │   0   │\n",
      "║  │     T1│ 0  │ 0  │ 0  │ 0  │ 0  │   0   │   0   │   0   │   0   │\n",
      "║  │  pop_5│ 0  │ 0  │ 0  │ 0  │ 0  │   0   │   0   │   0   │   0   │\n",
      "║  │  pop_6│ 0  │ 0  │ 0  │ 0  │ 0  │   0   │   0   │   0   │   0   │\n",
      "║  │  pop_7│ 0  │ 0  │ 0  │ 0  │ 0  │   0   │   0   │   0   │   0   │\n",
      "║  │  pop_8│ 0  │ 0  │ 0  │ 0  │ 0  │   0   │   0   │   0   │   0   │\n",
      "║  └────────────────────────────────────────────────────────────────┘\n",
      "╟  Events\n",
      "║  ┌────────────────────────────────────────────────────────────────────────────────────────┐\n",
      "║  │       time│type        │parameters            │effect                                  │\n",
      "║  ├────────────────────────────────────────────────────────────────────────────────────────┤\n",
      "║  │  2.125e+04│Population  │derived=[T4, T3],     │Moves all lineages from derived         │\n",
      "║  │           │Split       │ancestral=pop_5       │populations 'T4' and 'T3' to the        │\n",
      "║  │           │            │                      │ancestral 'pop_5' population. Also set  │\n",
      "║  │           │            │                      │the derived populations to inactive,    │\n",
      "║  │           │            │                      │and all migration rates to and from     │\n",
      "║  │           │            │                      │the derived populations to zero.        │\n",
      "║  │┈┈┈┈┈┈┈┈┈┈┈┈┈┈┈┈┈┈┈┈┈┈┈┈┈┈┈┈┈┈┈┈┈┈┈┈┈┈┈┈┈┈┈┈┈┈┈┈┈┈┈┈┈┈┈┈┈┈┈┈┈┈┈┈┈┈┈┈┈┈┈┈┈┈┈┈┈┈┈┈┈┈┈┈┈┈┈┈│\n",
      "║  │  3.784e+04│Population  │derived=[T2, T1],     │Moves all lineages from derived         │\n",
      "║  │           │Split       │ancestral=pop_7       │populations 'T2' and 'T1' to the        │\n",
      "║  │           │            │                      │ancestral 'pop_7' population. Also set  │\n",
      "║  │           │            │                      │the derived populations to inactive,    │\n",
      "║  │           │            │                      │and all migration rates to and from     │\n",
      "║  │           │            │                      │the derived populations to zero.        │\n",
      "║  │┈┈┈┈┈┈┈┈┈┈┈┈┈┈┈┈┈┈┈┈┈┈┈┈┈┈┈┈┈┈┈┈┈┈┈┈┈┈┈┈┈┈┈┈┈┈┈┈┈┈┈┈┈┈┈┈┈┈┈┈┈┈┈┈┈┈┈┈┈┈┈┈┈┈┈┈┈┈┈┈┈┈┈┈┈┈┈┈│\n",
      "║  │  3.812e+04│Population  │derived=[T5, pop_5],  │Moves all lineages from derived         │\n",
      "║  │           │Split       │ancestral=pop_6       │populations 'T5' and 'pop_5' to the     │\n",
      "║  │           │            │                      │ancestral 'pop_6' population. Also set  │\n",
      "║  │           │            │                      │the derived populations to inactive,    │\n",
      "║  │           │            │                      │and all migration rates to and from     │\n",
      "║  │           │            │                      │the derived populations to zero.        │\n",
      "║  │┈┈┈┈┈┈┈┈┈┈┈┈┈┈┈┈┈┈┈┈┈┈┈┈┈┈┈┈┈┈┈┈┈┈┈┈┈┈┈┈┈┈┈┈┈┈┈┈┈┈┈┈┈┈┈┈┈┈┈┈┈┈┈┈┈┈┈┈┈┈┈┈┈┈┈┈┈┈┈┈┈┈┈┈┈┈┈┈│\n",
      "║  │  4.152e+04│Population  │derived=[pop_6,       │Moves all lineages from derived         │\n",
      "║  │           │Split       │pop_7],               │populations 'pop_6' and 'pop_7' to the  │\n",
      "║  │           │            │ancestral=pop_8       │ancestral 'pop_8' population. Also set  │\n",
      "║  │           │            │                      │the derived populations to inactive,    │\n",
      "║  │           │            │                      │and all migration rates to and from     │\n",
      "║  │           │            │                      │the derived populations to zero.        │\n",
      "║  └────────────────────────────────────────────────────────────────────────────────────────┘\n",
      "\n",
      "{0: 'T5', 1: 'T4', 2: 'T3', 3: 'T2', 4: 'T1'}\n",
      "0.5302644809087117\n"
     ]
    }
   ],
   "source": [
    "st = time.time()\n",
    "seqs, tree = MakingSequences.makeSequencesFromScratch(birth_rate, death_rate, n_populations, extra_populations, seqLenInput, initial_size_Var, mu_Var, recombination_rate)\n",
    "print((time.time()-st)/60)"
   ]
  },
  {
   "cell_type": "code",
   "execution_count": null,
   "id": "70ed1ace",
   "metadata": {},
   "outputs": [],
   "source": []
  },
  {
   "cell_type": "code",
   "execution_count": null,
   "id": "cda043a6",
   "metadata": {},
   "outputs": [],
   "source": []
  },
  {
   "cell_type": "code",
   "execution_count": null,
   "id": "5c442687",
   "metadata": {},
   "outputs": [],
   "source": []
  },
  {
   "cell_type": "code",
   "execution_count": 5,
   "id": "2595fd54",
   "metadata": {},
   "outputs": [
    {
     "name": "stdout",
     "output_type": "stream",
     "text": [
      "in getting kmer vectors, working on k: 9 seq 0\n",
      "in getting kmer vectors, working on k: 9 seq 1\n",
      "in getting kmer vectors, working on k: 9 seq 2\n",
      "in getting kmer vectors, working on k: 9 seq 3\n",
      "in getting kmer vectors, working on k: 9 seq 4\n",
      "in getting kmer vectors, working on k: 10 seq 0\n",
      "in getting kmer vectors, working on k: 10 seq 1\n",
      "in getting kmer vectors, working on k: 10 seq 2\n",
      "in getting kmer vectors, working on k: 10 seq 3\n",
      "in getting kmer vectors, working on k: 10 seq 4\n",
      "in getting kmer vectors, working on k: 11 seq 0\n",
      "in getting kmer vectors, working on k: 11 seq 1\n",
      "in getting kmer vectors, working on k: 11 seq 2\n",
      "in getting kmer vectors, working on k: 11 seq 3\n",
      "in getting kmer vectors, working on k: 11 seq 4\n",
      "in getting kmer vectors, working on k: 12 seq 0\n",
      "in getting kmer vectors, working on k: 12 seq 1\n",
      "in getting kmer vectors, working on k: 12 seq 2\n",
      "in getting kmer vectors, working on k: 12 seq 3\n",
      "in getting kmer vectors, working on k: 12 seq 4\n",
      "working on inferring 0 1\n",
      "working on inferring 0 2\n",
      "working on inferring 0 3\n",
      "working on inferring 0 4\n",
      "working on inferring 1 2\n"
     ]
    },
    {
     "name": "stderr",
     "output_type": "stream",
     "text": [
      "/Users/victorkaplan/opt/anaconda3/lib/python3.8/site-packages/scipy/optimize/minpack.py:175: RuntimeWarning: The iteration is not making good progress, as measured by the \n",
      "  improvement from the last ten iterations.\n",
      "  warnings.warn(msg, RuntimeWarning)\n"
     ]
    },
    {
     "name": "stdout",
     "output_type": "stream",
     "text": [
      "working on inferring 1 3\n",
      "working on inferring 1 4\n",
      "working on inferring 2 3\n",
      "working on inferring 2 4\n",
      "working on inferring 3 4\n",
      "in getting kmer vectors, working on k: 9 seq 0\n",
      "in getting kmer vectors, working on k: 9 seq 1\n",
      "in getting kmer vectors, working on k: 9 seq 2\n",
      "in getting kmer vectors, working on k: 9 seq 3\n",
      "in getting kmer vectors, working on k: 9 seq 4\n",
      "in getting kmer vectors, working on k: 10 seq 0\n",
      "in getting kmer vectors, working on k: 10 seq 1\n",
      "in getting kmer vectors, working on k: 10 seq 2\n",
      "in getting kmer vectors, working on k: 10 seq 3\n",
      "in getting kmer vectors, working on k: 10 seq 4\n",
      "in getting kmer vectors, working on k: 11 seq 0\n",
      "in getting kmer vectors, working on k: 11 seq 1\n",
      "in getting kmer vectors, working on k: 11 seq 2\n",
      "in getting kmer vectors, working on k: 11 seq 3\n",
      "in getting kmer vectors, working on k: 11 seq 4\n",
      "in getting kmer vectors, working on k: 12 seq 0\n",
      "in getting kmer vectors, working on k: 12 seq 1\n",
      "in getting kmer vectors, working on k: 12 seq 2\n",
      "in getting kmer vectors, working on k: 12 seq 3\n",
      "in getting kmer vectors, working on k: 12 seq 4\n",
      "working on inferring 0 1\n",
      "working on inferring 0 2\n",
      "working on inferring 0 3\n",
      "working on inferring 0 4\n",
      "working on inferring 1 2\n"
     ]
    },
    {
     "name": "stderr",
     "output_type": "stream",
     "text": [
      "/Users/victorkaplan/opt/anaconda3/lib/python3.8/site-packages/scipy/optimize/minpack.py:175: RuntimeWarning: The iteration is not making good progress, as measured by the \n",
      "  improvement from the last ten iterations.\n",
      "  warnings.warn(msg, RuntimeWarning)\n"
     ]
    },
    {
     "name": "stdout",
     "output_type": "stream",
     "text": [
      "working on inferring 1 3\n",
      "working on inferring 1 4\n",
      "working on inferring 2 3\n",
      "working on inferring 2 4\n",
      "working on inferring 3 4\n",
      "in getting kmer vectors, working on k: 9 seq 0\n",
      "in getting kmer vectors, working on k: 9 seq 1\n",
      "in getting kmer vectors, working on k: 9 seq 2\n",
      "in getting kmer vectors, working on k: 9 seq 3\n",
      "in getting kmer vectors, working on k: 9 seq 4\n",
      "in getting kmer vectors, working on k: 10 seq 0\n",
      "in getting kmer vectors, working on k: 10 seq 1\n",
      "in getting kmer vectors, working on k: 10 seq 2\n",
      "in getting kmer vectors, working on k: 10 seq 3\n",
      "in getting kmer vectors, working on k: 10 seq 4\n",
      "in getting kmer vectors, working on k: 11 seq 0\n",
      "in getting kmer vectors, working on k: 11 seq 1\n",
      "in getting kmer vectors, working on k: 11 seq 2\n",
      "in getting kmer vectors, working on k: 11 seq 3\n",
      "in getting kmer vectors, working on k: 11 seq 4\n",
      "in getting kmer vectors, working on k: 12 seq 0\n",
      "in getting kmer vectors, working on k: 12 seq 1\n",
      "in getting kmer vectors, working on k: 12 seq 2\n",
      "in getting kmer vectors, working on k: 12 seq 3\n",
      "in getting kmer vectors, working on k: 12 seq 4\n",
      "working on inferring 0 1\n",
      "working on inferring 0 2\n",
      "working on inferring 0 3\n",
      "working on inferring 0 4\n",
      "working on inferring 1 2\n"
     ]
    },
    {
     "name": "stderr",
     "output_type": "stream",
     "text": [
      "/Users/victorkaplan/opt/anaconda3/lib/python3.8/site-packages/scipy/optimize/minpack.py:175: RuntimeWarning: The iteration is not making good progress, as measured by the \n",
      "  improvement from the last ten iterations.\n",
      "  warnings.warn(msg, RuntimeWarning)\n"
     ]
    },
    {
     "name": "stdout",
     "output_type": "stream",
     "text": [
      "working on inferring 1 3\n",
      "working on inferring 1 4\n",
      "working on inferring 2 3\n",
      "working on inferring 2 4\n",
      "working on inferring 3 4\n",
      "in getting kmer vectors, working on k: 9 seq 0\n",
      "in getting kmer vectors, working on k: 9 seq 1\n",
      "in getting kmer vectors, working on k: 9 seq 2\n",
      "in getting kmer vectors, working on k: 9 seq 3\n",
      "in getting kmer vectors, working on k: 9 seq 4\n",
      "in getting kmer vectors, working on k: 10 seq 0\n",
      "in getting kmer vectors, working on k: 10 seq 1\n",
      "in getting kmer vectors, working on k: 10 seq 2\n",
      "in getting kmer vectors, working on k: 10 seq 3\n",
      "in getting kmer vectors, working on k: 10 seq 4\n",
      "in getting kmer vectors, working on k: 11 seq 0\n",
      "in getting kmer vectors, working on k: 11 seq 1\n",
      "in getting kmer vectors, working on k: 11 seq 2\n",
      "in getting kmer vectors, working on k: 11 seq 3\n",
      "in getting kmer vectors, working on k: 11 seq 4\n",
      "in getting kmer vectors, working on k: 12 seq 0\n",
      "in getting kmer vectors, working on k: 12 seq 1\n",
      "in getting kmer vectors, working on k: 12 seq 2\n",
      "in getting kmer vectors, working on k: 12 seq 3\n",
      "in getting kmer vectors, working on k: 12 seq 4\n",
      "working on inferring 0 1\n",
      "working on inferring 0 2\n",
      "working on inferring 0 3\n",
      "working on inferring 0 4\n",
      "working on inferring 1 2\n"
     ]
    },
    {
     "name": "stderr",
     "output_type": "stream",
     "text": [
      "/Users/victorkaplan/opt/anaconda3/lib/python3.8/site-packages/scipy/optimize/minpack.py:175: RuntimeWarning: The iteration is not making good progress, as measured by the \n",
      "  improvement from the last ten iterations.\n",
      "  warnings.warn(msg, RuntimeWarning)\n"
     ]
    },
    {
     "name": "stdout",
     "output_type": "stream",
     "text": [
      "working on inferring 1 3\n",
      "working on inferring 1 4\n",
      "working on inferring 2 3\n",
      "working on inferring 2 4\n",
      "working on inferring 3 4\n",
      "in getting kmer vectors, working on k: 9 seq 0\n",
      "in getting kmer vectors, working on k: 9 seq 1\n",
      "in getting kmer vectors, working on k: 9 seq 2\n",
      "in getting kmer vectors, working on k: 9 seq 3\n",
      "in getting kmer vectors, working on k: 9 seq 4\n",
      "in getting kmer vectors, working on k: 10 seq 0\n",
      "in getting kmer vectors, working on k: 10 seq 1\n",
      "in getting kmer vectors, working on k: 10 seq 2\n",
      "in getting kmer vectors, working on k: 10 seq 3\n",
      "in getting kmer vectors, working on k: 10 seq 4\n",
      "in getting kmer vectors, working on k: 11 seq 0\n",
      "in getting kmer vectors, working on k: 11 seq 1\n",
      "in getting kmer vectors, working on k: 11 seq 2\n",
      "in getting kmer vectors, working on k: 11 seq 3\n",
      "in getting kmer vectors, working on k: 11 seq 4\n",
      "in getting kmer vectors, working on k: 12 seq 0\n",
      "in getting kmer vectors, working on k: 12 seq 1\n",
      "in getting kmer vectors, working on k: 12 seq 2\n",
      "in getting kmer vectors, working on k: 12 seq 3\n",
      "in getting kmer vectors, working on k: 12 seq 4\n",
      "working on inferring 0 1\n",
      "working on inferring 0 2\n",
      "working on inferring 0 3\n",
      "working on inferring 0 4\n",
      "working on inferring 1 2\n"
     ]
    },
    {
     "name": "stderr",
     "output_type": "stream",
     "text": [
      "/Users/victorkaplan/opt/anaconda3/lib/python3.8/site-packages/scipy/optimize/minpack.py:175: RuntimeWarning: The iteration is not making good progress, as measured by the \n",
      "  improvement from the last ten iterations.\n",
      "  warnings.warn(msg, RuntimeWarning)\n"
     ]
    },
    {
     "name": "stdout",
     "output_type": "stream",
     "text": [
      "working on inferring 1 3\n",
      "working on inferring 1 4\n",
      "working on inferring 2 3\n",
      "working on inferring 2 4\n",
      "working on inferring 3 4\n",
      "in getting kmer vectors, working on k: 9 seq 0\n",
      "in getting kmer vectors, working on k: 9 seq 1\n",
      "in getting kmer vectors, working on k: 9 seq 2\n",
      "in getting kmer vectors, working on k: 9 seq 3\n",
      "in getting kmer vectors, working on k: 9 seq 4\n",
      "in getting kmer vectors, working on k: 10 seq 0\n",
      "in getting kmer vectors, working on k: 10 seq 1\n",
      "in getting kmer vectors, working on k: 10 seq 2\n",
      "in getting kmer vectors, working on k: 10 seq 3\n",
      "in getting kmer vectors, working on k: 10 seq 4\n",
      "in getting kmer vectors, working on k: 11 seq 0\n",
      "in getting kmer vectors, working on k: 11 seq 1\n",
      "in getting kmer vectors, working on k: 11 seq 2\n",
      "in getting kmer vectors, working on k: 11 seq 3\n",
      "in getting kmer vectors, working on k: 11 seq 4\n",
      "in getting kmer vectors, working on k: 12 seq 0\n",
      "in getting kmer vectors, working on k: 12 seq 1\n",
      "in getting kmer vectors, working on k: 12 seq 2\n",
      "in getting kmer vectors, working on k: 12 seq 3\n",
      "in getting kmer vectors, working on k: 12 seq 4\n",
      "working on inferring 0 1\n",
      "working on inferring 0 2\n",
      "working on inferring 0 3\n",
      "working on inferring 0 4\n",
      "working on inferring 1 2\n"
     ]
    },
    {
     "name": "stderr",
     "output_type": "stream",
     "text": [
      "/Users/victorkaplan/opt/anaconda3/lib/python3.8/site-packages/scipy/optimize/minpack.py:175: RuntimeWarning: The iteration is not making good progress, as measured by the \n",
      "  improvement from the last ten iterations.\n",
      "  warnings.warn(msg, RuntimeWarning)\n"
     ]
    },
    {
     "name": "stdout",
     "output_type": "stream",
     "text": [
      "working on inferring 1 3\n",
      "working on inferring 1 4\n",
      "working on inferring 2 3\n",
      "working on inferring 2 4\n",
      "working on inferring 3 4\n",
      "in getting kmer vectors, working on k: 9 seq 0\n",
      "in getting kmer vectors, working on k: 9 seq 1\n",
      "in getting kmer vectors, working on k: 9 seq 2\n",
      "in getting kmer vectors, working on k: 9 seq 3\n",
      "in getting kmer vectors, working on k: 9 seq 4\n",
      "in getting kmer vectors, working on k: 10 seq 0\n",
      "in getting kmer vectors, working on k: 10 seq 1\n",
      "in getting kmer vectors, working on k: 10 seq 2\n",
      "in getting kmer vectors, working on k: 10 seq 3\n",
      "in getting kmer vectors, working on k: 10 seq 4\n",
      "in getting kmer vectors, working on k: 11 seq 0\n",
      "in getting kmer vectors, working on k: 11 seq 1\n",
      "in getting kmer vectors, working on k: 11 seq 2\n",
      "in getting kmer vectors, working on k: 11 seq 3\n",
      "in getting kmer vectors, working on k: 11 seq 4\n",
      "in getting kmer vectors, working on k: 12 seq 0\n",
      "in getting kmer vectors, working on k: 12 seq 1\n",
      "in getting kmer vectors, working on k: 12 seq 2\n",
      "in getting kmer vectors, working on k: 12 seq 3\n",
      "in getting kmer vectors, working on k: 12 seq 4\n",
      "working on inferring 0 1\n",
      "working on inferring 0 2\n",
      "working on inferring 0 3\n",
      "working on inferring 0 4\n",
      "working on inferring 1 2\n"
     ]
    },
    {
     "name": "stderr",
     "output_type": "stream",
     "text": [
      "/Users/victorkaplan/opt/anaconda3/lib/python3.8/site-packages/scipy/optimize/minpack.py:175: RuntimeWarning: The iteration is not making good progress, as measured by the \n",
      "  improvement from the last ten iterations.\n",
      "  warnings.warn(msg, RuntimeWarning)\n"
     ]
    },
    {
     "name": "stdout",
     "output_type": "stream",
     "text": [
      "working on inferring 1 3\n",
      "working on inferring 1 4\n",
      "working on inferring 2 3\n",
      "working on inferring 2 4\n",
      "working on inferring 3 4\n",
      "in getting kmer vectors, working on k: 9 seq 0\n",
      "in getting kmer vectors, working on k: 9 seq 1\n",
      "in getting kmer vectors, working on k: 9 seq 2\n",
      "in getting kmer vectors, working on k: 9 seq 3\n",
      "in getting kmer vectors, working on k: 9 seq 4\n",
      "in getting kmer vectors, working on k: 10 seq 0\n",
      "in getting kmer vectors, working on k: 10 seq 1\n",
      "in getting kmer vectors, working on k: 10 seq 2\n",
      "in getting kmer vectors, working on k: 10 seq 3\n",
      "in getting kmer vectors, working on k: 10 seq 4\n",
      "in getting kmer vectors, working on k: 11 seq 0\n",
      "in getting kmer vectors, working on k: 11 seq 1\n",
      "in getting kmer vectors, working on k: 11 seq 2\n",
      "in getting kmer vectors, working on k: 11 seq 3\n",
      "in getting kmer vectors, working on k: 11 seq 4\n",
      "in getting kmer vectors, working on k: 12 seq 0\n",
      "in getting kmer vectors, working on k: 12 seq 1\n",
      "in getting kmer vectors, working on k: 12 seq 2\n",
      "in getting kmer vectors, working on k: 12 seq 3\n",
      "in getting kmer vectors, working on k: 12 seq 4\n",
      "working on inferring 0 1\n",
      "working on inferring 0 2\n",
      "working on inferring 0 3\n",
      "working on inferring 0 4\n",
      "working on inferring 1 2\n"
     ]
    },
    {
     "name": "stderr",
     "output_type": "stream",
     "text": [
      "/Users/victorkaplan/opt/anaconda3/lib/python3.8/site-packages/scipy/optimize/minpack.py:175: RuntimeWarning: The iteration is not making good progress, as measured by the \n",
      "  improvement from the last ten iterations.\n",
      "  warnings.warn(msg, RuntimeWarning)\n"
     ]
    },
    {
     "name": "stdout",
     "output_type": "stream",
     "text": [
      "working on inferring 1 3\n",
      "working on inferring 1 4\n",
      "working on inferring 2 3\n",
      "working on inferring 2 4\n",
      "working on inferring 3 4\n",
      "in getting kmer vectors, working on k: 9 seq 0\n",
      "in getting kmer vectors, working on k: 9 seq 1\n",
      "in getting kmer vectors, working on k: 9 seq 2\n",
      "in getting kmer vectors, working on k: 9 seq 3\n",
      "in getting kmer vectors, working on k: 9 seq 4\n",
      "in getting kmer vectors, working on k: 10 seq 0\n",
      "in getting kmer vectors, working on k: 10 seq 1\n",
      "in getting kmer vectors, working on k: 10 seq 2\n",
      "in getting kmer vectors, working on k: 10 seq 3\n",
      "in getting kmer vectors, working on k: 10 seq 4\n",
      "in getting kmer vectors, working on k: 11 seq 0\n",
      "in getting kmer vectors, working on k: 11 seq 1\n",
      "in getting kmer vectors, working on k: 11 seq 2\n",
      "in getting kmer vectors, working on k: 11 seq 3\n",
      "in getting kmer vectors, working on k: 11 seq 4\n",
      "in getting kmer vectors, working on k: 12 seq 0\n",
      "in getting kmer vectors, working on k: 12 seq 1\n",
      "in getting kmer vectors, working on k: 12 seq 2\n",
      "in getting kmer vectors, working on k: 12 seq 3\n",
      "in getting kmer vectors, working on k: 12 seq 4\n",
      "working on inferring 0 1\n",
      "working on inferring 0 2\n",
      "working on inferring 0 3\n",
      "working on inferring 0 4\n",
      "working on inferring 1 2\n"
     ]
    },
    {
     "name": "stderr",
     "output_type": "stream",
     "text": [
      "/Users/victorkaplan/opt/anaconda3/lib/python3.8/site-packages/scipy/optimize/minpack.py:175: RuntimeWarning: The iteration is not making good progress, as measured by the \n",
      "  improvement from the last ten iterations.\n",
      "  warnings.warn(msg, RuntimeWarning)\n"
     ]
    },
    {
     "name": "stdout",
     "output_type": "stream",
     "text": [
      "working on inferring 1 3\n",
      "working on inferring 1 4\n",
      "working on inferring 2 3\n",
      "working on inferring 2 4\n",
      "working on inferring 3 4\n",
      "in getting kmer vectors, working on k: 9 seq 0\n",
      "in getting kmer vectors, working on k: 9 seq 1\n",
      "in getting kmer vectors, working on k: 9 seq 2\n",
      "in getting kmer vectors, working on k: 9 seq 3\n",
      "in getting kmer vectors, working on k: 9 seq 4\n",
      "in getting kmer vectors, working on k: 10 seq 0\n",
      "in getting kmer vectors, working on k: 10 seq 1\n",
      "in getting kmer vectors, working on k: 10 seq 2\n",
      "in getting kmer vectors, working on k: 10 seq 3\n",
      "in getting kmer vectors, working on k: 10 seq 4\n",
      "in getting kmer vectors, working on k: 11 seq 0\n",
      "in getting kmer vectors, working on k: 11 seq 1\n",
      "in getting kmer vectors, working on k: 11 seq 2\n",
      "in getting kmer vectors, working on k: 11 seq 3\n",
      "in getting kmer vectors, working on k: 11 seq 4\n",
      "in getting kmer vectors, working on k: 12 seq 0\n",
      "in getting kmer vectors, working on k: 12 seq 1\n",
      "in getting kmer vectors, working on k: 12 seq 2\n",
      "in getting kmer vectors, working on k: 12 seq 3\n",
      "in getting kmer vectors, working on k: 12 seq 4\n",
      "working on inferring 0 1\n",
      "working on inferring 0 2\n",
      "working on inferring 0 3\n",
      "working on inferring 0 4\n",
      "working on inferring 1 2\n"
     ]
    },
    {
     "name": "stderr",
     "output_type": "stream",
     "text": [
      "/Users/victorkaplan/opt/anaconda3/lib/python3.8/site-packages/scipy/optimize/minpack.py:175: RuntimeWarning: The iteration is not making good progress, as measured by the \n",
      "  improvement from the last ten iterations.\n",
      "  warnings.warn(msg, RuntimeWarning)\n"
     ]
    },
    {
     "name": "stdout",
     "output_type": "stream",
     "text": [
      "working on inferring 1 3\n",
      "working on inferring 1 4\n",
      "working on inferring 2 3\n",
      "working on inferring 2 4\n",
      "working on inferring 3 4\n",
      "32.56233658393224\n"
     ]
    }
   ],
   "source": [
    "st = time.time()\n",
    "mats = makingFinalReconstructedTreeOurMethod.makeManyMatricesOfDistances(10, seqs)\n",
    "print((time.time()-st)/60)"
   ]
  },
  {
   "cell_type": "code",
   "execution_count": 36,
   "id": "bf194ed1",
   "metadata": {},
   "outputs": [
    {
     "name": "stdout",
     "output_type": "stream",
     "text": [
      "[[10.  2.  1.  7.  4.]\n",
      " [ 2. 10.  1.  4.  4.]\n",
      " [ 1.  1. 10.  6.  1.]\n",
      " [ 7.  4.  6. 10.  5.]\n",
      " [ 4.  4.  1.  5. 10.]]\n"
     ]
    }
   ],
   "source": [
    "finalDistMat = makingFinalReconstructedTreeOurMethod.makeFinalDistMatrixFromSmallerOnes(mats)"
   ]
  },
  {
   "cell_type": "code",
   "execution_count": 37,
   "id": "815c599e",
   "metadata": {},
   "outputs": [
    {
     "name": "stdout",
     "output_type": "stream",
     "text": [
      "          0         1         2         3         4\n",
      "0  0.000000  0.000239  0.000241  0.000395  0.000270\n",
      "1  0.000239  0.000000  0.000186  0.000358  0.000328\n",
      "2  0.000241  0.000186  0.000000  0.000341  0.000227\n",
      "3  0.000395  0.000358  0.000341  0.000000  0.000255\n",
      "4  0.000270  0.000328  0.000227  0.000255  0.000000\n"
     ]
    },
    {
     "data": {
      "text/html": [
       "<div>\n",
       "<style scoped>\n",
       "    .dataframe tbody tr th:only-of-type {\n",
       "        vertical-align: middle;\n",
       "    }\n",
       "\n",
       "    .dataframe tbody tr th {\n",
       "        vertical-align: top;\n",
       "    }\n",
       "\n",
       "    .dataframe thead th {\n",
       "        text-align: right;\n",
       "    }\n",
       "</style>\n",
       "<table border=\"1\" class=\"dataframe\">\n",
       "  <thead>\n",
       "    <tr style=\"text-align: right;\">\n",
       "      <th></th>\n",
       "      <th>0</th>\n",
       "      <th>1</th>\n",
       "      <th>2</th>\n",
       "      <th>3</th>\n",
       "      <th>4</th>\n",
       "    </tr>\n",
       "  </thead>\n",
       "  <tbody>\n",
       "    <tr>\n",
       "      <th>0</th>\n",
       "      <td>0.000000</td>\n",
       "      <td>0.000239</td>\n",
       "      <td>0.000241</td>\n",
       "      <td>0.000395</td>\n",
       "      <td>0.000270</td>\n",
       "    </tr>\n",
       "    <tr>\n",
       "      <th>1</th>\n",
       "      <td>0.000239</td>\n",
       "      <td>0.000000</td>\n",
       "      <td>0.000186</td>\n",
       "      <td>0.000358</td>\n",
       "      <td>0.000328</td>\n",
       "    </tr>\n",
       "    <tr>\n",
       "      <th>2</th>\n",
       "      <td>0.000241</td>\n",
       "      <td>0.000186</td>\n",
       "      <td>0.000000</td>\n",
       "      <td>0.000341</td>\n",
       "      <td>0.000227</td>\n",
       "    </tr>\n",
       "    <tr>\n",
       "      <th>3</th>\n",
       "      <td>0.000395</td>\n",
       "      <td>0.000358</td>\n",
       "      <td>0.000341</td>\n",
       "      <td>0.000000</td>\n",
       "      <td>0.000255</td>\n",
       "    </tr>\n",
       "    <tr>\n",
       "      <th>4</th>\n",
       "      <td>0.000270</td>\n",
       "      <td>0.000328</td>\n",
       "      <td>0.000227</td>\n",
       "      <td>0.000255</td>\n",
       "      <td>0.000000</td>\n",
       "    </tr>\n",
       "  </tbody>\n",
       "</table>\n",
       "</div>"
      ],
      "text/plain": [
       "          0         1         2         3         4\n",
       "0  0.000000  0.000239  0.000241  0.000395  0.000270\n",
       "1  0.000239  0.000000  0.000186  0.000358  0.000328\n",
       "2  0.000241  0.000186  0.000000  0.000341  0.000227\n",
       "3  0.000395  0.000358  0.000341  0.000000  0.000255\n",
       "4  0.000270  0.000328  0.000227  0.000255  0.000000"
      ]
     },
     "execution_count": 37,
     "metadata": {},
     "output_type": "execute_result"
    }
   ],
   "source": [
    "import numpy as np\n",
    "print(finalDistMat)\n",
    "average = np.average(finalDistMat)\n",
    "for i in range(len(finalDistMat[0])):\n",
    "    for j in range(len(finalDistMat[0])):\n",
    "        if i != j:\n",
    "            if finalDistMat[i][j] == 0.0:\n",
    "                finalDistMat[i][j] += average\n",
    "finalDistMat"
   ]
  },
  {
   "cell_type": "code",
   "execution_count": null,
   "id": "894c7276",
   "metadata": {},
   "outputs": [],
   "source": []
  },
  {
   "cell_type": "code",
   "execution_count": 76,
   "id": "8cfb20e2",
   "metadata": {
    "scrolled": true
   },
   "outputs": [],
   "source": [
    "# our_tree = makingFinalReconstructedTreeOurMethod.makeTree(seqs, mu_Var , (finalDistMat*2))\n",
    "\n",
    "\n",
    "# print(our_tree.as_string(\"newick\"))\n",
    "# our_tree.print_plot()\n"
   ]
  },
  {
   "cell_type": "code",
   "execution_count": 39,
   "id": "f1ee3793",
   "metadata": {},
   "outputs": [
    {
     "name": "stdout",
     "output_type": "stream",
     "text": [
      "T5\t0\n",
      "T4\t0.0007721000000000533\t0\n",
      "T3\t0.0007654000000000272\t0.0004311000000000176\t0\n",
      "T2\t0.000825100000000023\t0.0008407999999999749\t0.000833900000000054\t0\n",
      "T1\t0.0008137000000000283\t0.0008295000000000385\t0.0008224999999999483\t0.0007513000000000103\t0\n",
      "\tT5\tT4\tT3\tT2\tT1\n"
     ]
    }
   ],
   "source": [
    "theirTree = makingOtherMethodTree.inferTreeFromSeqs(seqs, mu_Var)"
   ]
  },
  {
   "cell_type": "code",
   "execution_count": 104,
   "id": "68966804",
   "metadata": {},
   "outputs": [],
   "source": [
    "theirTreeMatrix = np.array(pd.read_csv('otherMethodDistanceMatrix.csv').drop(columns='Unnamed: 0'))"
   ]
  },
  {
   "cell_type": "code",
   "execution_count": 102,
   "id": "386aa7af",
   "metadata": {},
   "outputs": [
    {
     "name": "stdout",
     "output_type": "stream",
     "text": [
      "          0         1         2         3         4\n",
      "0  0.000000  0.000762  0.000762  0.000830  0.000830\n",
      "1  0.000762  0.000000  0.000425  0.000830  0.000830\n",
      "2  0.000762  0.000425  0.000000  0.000830  0.000830\n",
      "3  0.000830  0.000830  0.000830  0.000000  0.000757\n",
      "4  0.000830  0.000830  0.000830  0.000757  0.000000\n"
     ]
    }
   ],
   "source": [
    "trueDistDict = tree.phylogenetic_distance_matrix().as_data_table()._data\n",
    "trueDistMat = np.zeros((5,5))\n",
    "for pair1 in trueDistDict:\n",
    "    for pair2 in trueDistDict:\n",
    "        ind1 = list(seqs.keys()).index(pair1)\n",
    "        ind2 = list(seqs.keys()).index(pair2)  \n",
    "        trueDistMat[ind1][ind2]  = trueDistDict[pair1][pair2]\n",
    "\n",
    "import pandas as pd      \n",
    "print(pd.DataFrame(trueDistMat*mu_Var))"
   ]
  },
  {
   "cell_type": "code",
   "execution_count": null,
   "id": "d13fec8e",
   "metadata": {},
   "outputs": [],
   "source": []
  },
  {
   "cell_type": "code",
   "execution_count": 78,
   "id": "098a5734",
   "metadata": {},
   "outputs": [
    {
     "data": {
      "text/plain": [
       "0.0010148698009430762"
      ]
     },
     "execution_count": 78,
     "metadata": {},
     "output_type": "execute_result"
    }
   ],
   "source": [
    "np.linalg.norm(finalDistMat*2 - trueDistMat*mu_Var)"
   ]
  },
  {
   "cell_type": "code",
   "execution_count": 105,
   "id": "d27d8f75",
   "metadata": {},
   "outputs": [
    {
     "data": {
      "text/plain": [
       "3.638292347136394e-05"
      ]
     },
     "execution_count": 105,
     "metadata": {},
     "output_type": "execute_result"
    }
   ],
   "source": [
    "np.linalg.norm(theirTreeMatrix - trueDistMat*mu_Var)"
   ]
  },
  {
   "cell_type": "code",
   "execution_count": null,
   "id": "b76e08d5",
   "metadata": {},
   "outputs": [],
   "source": []
  },
  {
   "cell_type": "code",
   "execution_count": null,
   "id": "8fcceb70",
   "metadata": {},
   "outputs": [],
   "source": []
  },
  {
   "cell_type": "code",
   "execution_count": null,
   "id": "c16392b1",
   "metadata": {},
   "outputs": [],
   "source": []
  },
  {
   "cell_type": "code",
   "execution_count": null,
   "id": "0b6bdb7e",
   "metadata": {},
   "outputs": [],
   "source": []
  },
  {
   "cell_type": "code",
   "execution_count": null,
   "id": "bbf3d7f6",
   "metadata": {},
   "outputs": [],
   "source": []
  },
  {
   "cell_type": "code",
   "execution_count": null,
   "id": "8be70443",
   "metadata": {},
   "outputs": [],
   "source": []
  },
  {
   "cell_type": "code",
   "execution_count": null,
   "id": "e9ed4ba1",
   "metadata": {},
   "outputs": [],
   "source": []
  },
  {
   "cell_type": "code",
   "execution_count": null,
   "id": "eeccfd76",
   "metadata": {},
   "outputs": [],
   "source": []
  },
  {
   "cell_type": "code",
   "execution_count": null,
   "id": "717780ed",
   "metadata": {},
   "outputs": [],
   "source": []
  },
  {
   "cell_type": "code",
   "execution_count": 25,
   "id": "3025e5bc",
   "metadata": {},
   "outputs": [],
   "source": [
    "# print('==== REAL')\n",
    "# pdc = tree.phylogenetic_distance_matrix()\n",
    "# for i, t1 in enumerate(tree.taxon_namespace[:-1]):\n",
    "#     for t2 in tree.taxon_namespace[i+1:]:\n",
    "#         print(\"Distance between '%s' and '%s': %s\" % (t1.label, t2.label, pdc(t1, t2)))\n",
    "# print('====')\n",
    "# print('==== THEM')\n",
    "# pdc = theirTree.phylogenetic_distance_matrix()\n",
    "# for i, t1 in enumerate(theirTree.taxon_namespace[:-1]):\n",
    "#     for t2 in theirTree.taxon_namespace[i+1:]:\n",
    "#         print(\"Distance between '%s' and '%s': %s\" % (t1.label, t2.label, pdc(t1, t2)))\n",
    "# print('====')\n",
    "# print('==== US')\n",
    "# pdc = our_tree.phylogenetic_distance_matrix()\n",
    "# for i, t1 in enumerate(our_tree.taxon_namespace[:-1]):\n",
    "#     for t2 in our_tree.taxon_namespace[i+1:]:\n",
    "#         print(\"Distance between '%s' and '%s': %s\" % (t1.label, t2.label, pdc(t1, t2)))\n",
    "# print('====')"
   ]
  },
  {
   "cell_type": "code",
   "execution_count": null,
   "id": "475d93a4",
   "metadata": {},
   "outputs": [],
   "source": []
  },
  {
   "cell_type": "code",
   "execution_count": null,
   "id": "ead4b712",
   "metadata": {},
   "outputs": [],
   "source": []
  },
  {
   "cell_type": "code",
   "execution_count": 8,
   "id": "565359fd",
   "metadata": {},
   "outputs": [],
   "source": [
    "# from dendropy import Tree"
   ]
  },
  {
   "cell_type": "code",
   "execution_count": 9,
   "id": "1fd41548",
   "metadata": {},
   "outputs": [],
   "source": [
    "\n",
    "# for edge in our_tree_2.postorder_edge_iter():\n",
    "#     if edge.length != None:\n",
    "#         edge.length *= 100"
   ]
  },
  {
   "cell_type": "code",
   "execution_count": 10,
   "id": "0c169842",
   "metadata": {},
   "outputs": [],
   "source": [
    "# comparingTrees.computeDistancesOfTrees(theirTree, tree, n_populations)"
   ]
  },
  {
   "cell_type": "code",
   "execution_count": 11,
   "id": "c8106ee5",
   "metadata": {},
   "outputs": [],
   "source": [
    "# comparingTrees.computeDistancesOfTrees(tree, our_tree, n_populations)"
   ]
  },
  {
   "cell_type": "code",
   "execution_count": 12,
   "id": "cfd99da1",
   "metadata": {},
   "outputs": [],
   "source": [
    "# print(dendropy.calculate.treecompare.robinson_foulds_distance(theirTree_2, tree))\n",
    "# print(dendropy.calculate.treecompare.robinson_foulds_distance(our_tree_2, tree))\n",
    "# "
   ]
  },
  {
   "cell_type": "code",
   "execution_count": 13,
   "id": "d50c7eff",
   "metadata": {},
   "outputs": [],
   "source": [
    "# tree.taxon_namespace"
   ]
  },
  {
   "cell_type": "code",
   "execution_count": 14,
   "id": "15876824",
   "metadata": {},
   "outputs": [],
   "source": [
    "# our_tree.taxon_namespace"
   ]
  },
  {
   "cell_type": "code",
   "execution_count": 15,
   "id": "f8ac397a",
   "metadata": {},
   "outputs": [],
   "source": [
    "# tns = tree.taxon_namespace"
   ]
  },
  {
   "cell_type": "code",
   "execution_count": 16,
   "id": "74837fe5",
   "metadata": {},
   "outputs": [],
   "source": [
    "# our_tree.taxon_namespace = tns"
   ]
  },
  {
   "cell_type": "code",
   "execution_count": 17,
   "id": "f7e9e288",
   "metadata": {},
   "outputs": [],
   "source": [
    "# our_tree.taxon_namespace\n",
    "# "
   ]
  },
  {
   "cell_type": "code",
   "execution_count": 18,
   "id": "e0be1def",
   "metadata": {},
   "outputs": [],
   "source": [
    "# tree.taxon_namespace"
   ]
  },
  {
   "cell_type": "code",
   "execution_count": 19,
   "id": "4be84d0e",
   "metadata": {},
   "outputs": [],
   "source": [
    "# our_tree_2 = Tree(our_tree, taxon_namespace=tns)"
   ]
  },
  {
   "cell_type": "code",
   "execution_count": 20,
   "id": "71217d1c",
   "metadata": {},
   "outputs": [],
   "source": [
    "# print(str(our_tree_2))"
   ]
  },
  {
   "cell_type": "code",
   "execution_count": 21,
   "id": "e8044443",
   "metadata": {},
   "outputs": [],
   "source": [
    "# theirTree_2 = Tree(theirTree, taxon_namespace=tns)"
   ]
  },
  {
   "cell_type": "code",
   "execution_count": 22,
   "id": "b2049c00",
   "metadata": {},
   "outputs": [],
   "source": [
    "# theirTree.print_plot()\n",
    "# theirTree_2.print_plot()\n",
    "# print(theirTree.as_string('newick'))\n",
    "# print(theirTree_2.as_string('newick'))\n",
    "\n",
    "# ((T2:280025.0000000018,T3:37135.00000000341):6029.999999999231,(T1:24814.999999998865,(T4:8975.000000001804,T5:8824.999999999343):15869.999999996997):6029.999999999231)"
   ]
  },
  {
   "cell_type": "code",
   "execution_count": 23,
   "id": "23060c14",
   "metadata": {},
   "outputs": [],
   "source": [
    "# theirTree.print_plot()"
   ]
  },
  {
   "cell_type": "code",
   "execution_count": 24,
   "id": "7316b8dd",
   "metadata": {},
   "outputs": [],
   "source": [
    "# print(theirTree is not theirTree_2)"
   ]
  },
  {
   "cell_type": "code",
   "execution_count": null,
   "id": "2c3e4500",
   "metadata": {},
   "outputs": [],
   "source": []
  }
 ],
 "metadata": {
  "kernelspec": {
   "display_name": "Python 3",
   "language": "python",
   "name": "python3"
  },
  "language_info": {
   "codemirror_mode": {
    "name": "ipython",
    "version": 3
   },
   "file_extension": ".py",
   "mimetype": "text/x-python",
   "name": "python",
   "nbconvert_exporter": "python",
   "pygments_lexer": "ipython3",
   "version": "3.8.8"
  }
 },
 "nbformat": 4,
 "nbformat_minor": 5
}
