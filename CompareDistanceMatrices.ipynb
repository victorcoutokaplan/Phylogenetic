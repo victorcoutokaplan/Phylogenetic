{
 "cells": [
  {
   "cell_type": "code",
   "execution_count": 1,
   "id": "c207ec48",
   "metadata": {},
   "outputs": [],
   "source": [
    "import dendropy.calculate.treecompare\n",
    "import MakingSequences\n",
    "import makingPairwiseDistancesOurMethod\n",
    "import makingFinalReconstructedTreeOurMethod\n",
    "import makingOtherMethodTree\n",
    "import comparingTrees\n",
    "import time\n",
    "import numpy as np"
   ]
  },
  {
   "cell_type": "code",
   "execution_count": 2,
   "id": "b7744336",
   "metadata": {},
   "outputs": [],
   "source": [
    "seqLenInput = 1e7\n",
    "initial_size_Var=100\n",
    "mu_Var = 1e-8\n",
    "recombination_rate=1e-8"
   ]
  },
  {
   "cell_type": "code",
   "execution_count": 3,
   "id": "543bb39a",
   "metadata": {},
   "outputs": [],
   "source": [
    "birth_rate = 1000.0\n",
    "death_rate = 500.0\n",
    "n_populations = 5\n",
    "extra_populations = 5 # for \"GSA\" sampling scheme"
   ]
  },
  {
   "cell_type": "markdown",
   "id": "6019c04f",
   "metadata": {},
   "source": [
    "## Make Trees and Sequences"
   ]
  },
  {
   "cell_type": "code",
   "execution_count": null,
   "id": "0c2724f4",
   "metadata": {},
   "outputs": [],
   "source": [
    "st = time.time()\n",
    "seqs, tree = MakingSequences.makeSequencesFromScratch(birth_rate, death_rate, n_populations, extra_populations, seqLenInput, initial_size_Var, mu_Var, recombination_rate)\n",
    "print((time.time()-st)/60)"
   ]
  },
  {
   "cell_type": "markdown",
   "id": "5e09868f",
   "metadata": {},
   "source": [
    "## Our Matrix"
   ]
  },
  {
   "cell_type": "code",
   "execution_count": null,
   "id": "e33ef91a",
   "metadata": {},
   "outputs": [],
   "source": [
    "st = time.time()\n",
    "mats = makingFinalReconstructedTreeOurMethod.makeManyMatricesOfDistances(10, seqs)\n",
    "print((time.time()-st)/60)"
   ]
  },
  {
   "cell_type": "code",
   "execution_count": null,
   "id": "51a691fb",
   "metadata": {},
   "outputs": [],
   "source": [
    "finalDistMat = makingFinalReconstructedTreeOurMethod.makeFinalDistMatrixFromSmallerOnes(mats)\n",
    "\n",
    "print(finalDistMat)\n",
    "average = np.average(finalDistMat)\n",
    "for i in range(len(finalDistMat[0])):\n",
    "    for j in range(len(finalDistMat[0])):\n",
    "        if i != j:\n",
    "            if finalDistMat[i][j] == 0.0:\n",
    "                finalDistMat[i][j] += average\n",
    "finalDistMat"
   ]
  },
  {
   "cell_type": "markdown",
   "id": "b8ab5fb1",
   "metadata": {},
   "source": [
    "## Their Matrix"
   ]
  },
  {
   "cell_type": "code",
   "execution_count": null,
   "id": "941e4b7e",
   "metadata": {},
   "outputs": [],
   "source": [
    "theirTree = makingOtherMethodTree.inferTreeFromSeqs(seqs, mu_Var)\n",
    "theirTreeMatrix = np.array(pd.read_csv('otherMethodDistanceMatrix.csv').drop(columns='Unnamed: 0'))"
   ]
  },
  {
   "cell_type": "markdown",
   "id": "e6e8d5cb",
   "metadata": {},
   "source": [
    "## True Matrix"
   ]
  },
  {
   "cell_type": "code",
   "execution_count": null,
   "id": "ecbabce9",
   "metadata": {},
   "outputs": [],
   "source": [
    "trueDistDict = tree.phylogenetic_distance_matrix().as_data_table()._data\n",
    "trueDistMat = np.zeros((5,5))\n",
    "for pair1 in trueDistDict:\n",
    "    for pair2 in trueDistDict:\n",
    "        ind1 = list(seqs.keys()).index(pair1)\n",
    "        ind2 = list(seqs.keys()).index(pair2)  \n",
    "        trueDistMat[ind1][ind2]  = trueDistDict[pair1][pair2]\n",
    "\n",
    "import pandas as pd      \n",
    "print(pd.DataFrame(trueDistMat*mu_Var))"
   ]
  },
  {
   "cell_type": "markdown",
   "id": "8b98f403",
   "metadata": {},
   "source": [
    "## Compare"
   ]
  },
  {
   "cell_type": "code",
   "execution_count": null,
   "id": "aeedc59e",
   "metadata": {},
   "outputs": [],
   "source": [
    "np.linalg.norm(finalDistMat*2 - trueDistMat*mu_Var)\n",
    "np.linalg.norm(theirTreeMatrix - trueDistMat*mu_Var)"
   ]
  }
 ],
 "metadata": {
  "kernelspec": {
   "display_name": "Python 3",
   "language": "python",
   "name": "python3"
  },
  "language_info": {
   "codemirror_mode": {
    "name": "ipython",
    "version": 3
   },
   "file_extension": ".py",
   "mimetype": "text/x-python",
   "name": "python",
   "nbconvert_exporter": "python",
   "pygments_lexer": "ipython3",
   "version": "3.8.8"
  }
 },
 "nbformat": 4,
 "nbformat_minor": 5
}
