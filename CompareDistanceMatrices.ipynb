{
 "cells": [
  {
   "cell_type": "code",
   "execution_count": 1,
   "id": "c207ec48",
   "metadata": {},
   "outputs": [],
   "source": [
    "import dendropy.calculate.treecompare\n",
    "import MakingSequences\n",
    "import makingPairwiseDistancesOurMethod\n",
    "import makingFinalReconstructedTreeOurMethod\n",
    "import makingOtherMethodTree\n",
    "import comparingTrees\n",
    "import time\n",
    "import numpy as np\n",
    "import pandas as pd\n",
    "from ete3 import Tree as RF"
   ]
  },
  {
   "cell_type": "code",
   "execution_count": 2,
   "id": "b7744336",
   "metadata": {},
   "outputs": [],
   "source": [
    "seqLenInput = 1e6\n",
    "initial_size_Var=200\n",
    "mu_Var = 1e-8\n",
    "recombination_rate=1e-8"
   ]
  },
  {
   "cell_type": "code",
   "execution_count": 3,
   "id": "543bb39a",
   "metadata": {},
   "outputs": [],
   "source": [
    "birth_rate = 1000.0\n",
    "death_rate = 500.0\n",
    "n_populations = 5\n",
    "extra_populations = 5 # for \"GSA\" sampling scheme"
   ]
  },
  {
   "cell_type": "markdown",
   "id": "6019c04f",
   "metadata": {},
   "source": [
    "## Make Trees and Sequences"
   ]
  },
  {
   "cell_type": "code",
   "execution_count": 4,
   "id": "0c2724f4",
   "metadata": {},
   "outputs": [
    {
     "name": "stdout",
     "output_type": "stream",
     "text": [
      "Demography\n",
      "╟  Populations\n",
      "║  ┌────────────────────────────────────────────────────────────────────────────────────────────────┐\n",
      "║  │ id │name   │description  │initial_size  │ growth_rate │  default_sampling_time│extra_metadata  │\n",
      "║  ├────────────────────────────────────────────────────────────────────────────────────────────────┤\n",
      "║  │ 0  │T5     │             │200.0         │      0      │                      0│{}              │\n",
      "║  │ 1  │T3     │             │200.0         │      0      │                      0│{}              │\n",
      "║  │ 2  │T1     │             │200.0         │      0      │                      0│{}              │\n",
      "║  │ 3  │T2     │             │200.0         │      0      │                      0│{}              │\n",
      "║  │ 4  │T4     │             │200.0         │      0      │                      0│{}              │\n",
      "║  │ 5  │pop_5  │             │200.0         │      0      │                6.3e+04│{}              │\n",
      "║  │ 6  │pop_6  │             │200.0         │      0      │                9.1e+04│{}              │\n",
      "║  │ 7  │pop_7  │             │200.0         │      0      │                1.3e+05│{}              │\n",
      "║  │ 8  │pop_8  │             │200.0         │      0      │                1.6e+05│{}              │\n",
      "║  └────────────────────────────────────────────────────────────────────────────────────────────────┘\n",
      "╟  Migration Matrix\n",
      "║  ┌────────────────────────────────────────────────────────────────┐\n",
      "║  │       │ T5 │ T3 │ T1 │ T2 │ T4 │ pop_5 │ pop_6 │ pop_7 │ pop_8 │\n",
      "║  ├────────────────────────────────────────────────────────────────┤\n",
      "║  │     T5│ 0  │ 0  │ 0  │ 0  │ 0  │   0   │   0   │   0   │   0   │\n",
      "║  │     T3│ 0  │ 0  │ 0  │ 0  │ 0  │   0   │   0   │   0   │   0   │\n",
      "║  │     T1│ 0  │ 0  │ 0  │ 0  │ 0  │   0   │   0   │   0   │   0   │\n",
      "║  │     T2│ 0  │ 0  │ 0  │ 0  │ 0  │   0   │   0   │   0   │   0   │\n",
      "║  │     T4│ 0  │ 0  │ 0  │ 0  │ 0  │   0   │   0   │   0   │   0   │\n",
      "║  │  pop_5│ 0  │ 0  │ 0  │ 0  │ 0  │   0   │   0   │   0   │   0   │\n",
      "║  │  pop_6│ 0  │ 0  │ 0  │ 0  │ 0  │   0   │   0   │   0   │   0   │\n",
      "║  │  pop_7│ 0  │ 0  │ 0  │ 0  │ 0  │   0   │   0   │   0   │   0   │\n",
      "║  │  pop_8│ 0  │ 0  │ 0  │ 0  │ 0  │   0   │   0   │   0   │   0   │\n",
      "║  └────────────────────────────────────────────────────────────────┘\n",
      "╟  Events\n",
      "║  ┌────────────────────────────────────────────────────────────────────────────────────────┐\n",
      "║  │       time│type        │parameters            │effect                                  │\n",
      "║  ├────────────────────────────────────────────────────────────────────────────────────────┤\n",
      "║  │  6.257e+04│Population  │derived=[T3, T1],     │Moves all lineages from derived         │\n",
      "║  │           │Split       │ancestral=pop_5       │populations 'T3' and 'T1' to the        │\n",
      "║  │           │            │                      │ancestral 'pop_5' population. Also set  │\n",
      "║  │           │            │                      │the derived populations to inactive,    │\n",
      "║  │           │            │                      │and all migration rates to and from     │\n",
      "║  │           │            │                      │the derived populations to zero.        │\n",
      "║  │┈┈┈┈┈┈┈┈┈┈┈┈┈┈┈┈┈┈┈┈┈┈┈┈┈┈┈┈┈┈┈┈┈┈┈┈┈┈┈┈┈┈┈┈┈┈┈┈┈┈┈┈┈┈┈┈┈┈┈┈┈┈┈┈┈┈┈┈┈┈┈┈┈┈┈┈┈┈┈┈┈┈┈┈┈┈┈┈│\n",
      "║  │  9.075e+04│Population  │derived=[T2, T4],     │Moves all lineages from derived         │\n",
      "║  │           │Split       │ancestral=pop_6       │populations 'T2' and 'T4' to the        │\n",
      "║  │           │            │                      │ancestral 'pop_6' population. Also set  │\n",
      "║  │           │            │                      │the derived populations to inactive,    │\n",
      "║  │           │            │                      │and all migration rates to and from     │\n",
      "║  │           │            │                      │the derived populations to zero.        │\n",
      "║  │┈┈┈┈┈┈┈┈┈┈┈┈┈┈┈┈┈┈┈┈┈┈┈┈┈┈┈┈┈┈┈┈┈┈┈┈┈┈┈┈┈┈┈┈┈┈┈┈┈┈┈┈┈┈┈┈┈┈┈┈┈┈┈┈┈┈┈┈┈┈┈┈┈┈┈┈┈┈┈┈┈┈┈┈┈┈┈┈│\n",
      "║  │  1.347e+05│Population  │derived=[pop_5,       │Moves all lineages from derived         │\n",
      "║  │           │Split       │pop_6],               │populations 'pop_5' and 'pop_6' to the  │\n",
      "║  │           │            │ancestral=pop_7       │ancestral 'pop_7' population. Also set  │\n",
      "║  │           │            │                      │the derived populations to inactive,    │\n",
      "║  │           │            │                      │and all migration rates to and from     │\n",
      "║  │           │            │                      │the derived populations to zero.        │\n",
      "║  │┈┈┈┈┈┈┈┈┈┈┈┈┈┈┈┈┈┈┈┈┈┈┈┈┈┈┈┈┈┈┈┈┈┈┈┈┈┈┈┈┈┈┈┈┈┈┈┈┈┈┈┈┈┈┈┈┈┈┈┈┈┈┈┈┈┈┈┈┈┈┈┈┈┈┈┈┈┈┈┈┈┈┈┈┈┈┈┈│\n",
      "║  │  1.608e+05│Population  │derived=[T5, pop_7],  │Moves all lineages from derived         │\n",
      "║  │           │Split       │ancestral=pop_8       │populations 'T5' and 'pop_7' to the     │\n",
      "║  │           │            │                      │ancestral 'pop_8' population. Also set  │\n",
      "║  │           │            │                      │the derived populations to inactive,    │\n",
      "║  │           │            │                      │and all migration rates to and from     │\n",
      "║  │           │            │                      │the derived populations to zero.        │\n",
      "║  └────────────────────────────────────────────────────────────────────────────────────────┘\n",
      "\n",
      "{0: 'T5', 1: 'T3', 2: 'T1', 3: 'T2', 4: 'T4'}\n",
      "0.03576911687850952\n"
     ]
    }
   ],
   "source": [
    "st = time.time()\n",
    "seqs, tree = MakingSequences.makeSequencesFromScratch(birth_rate, death_rate, n_populations, extra_populations, seqLenInput, initial_size_Var, mu_Var, recombination_rate)\n",
    "print((time.time()-st)/60)"
   ]
  },
  {
   "cell_type": "markdown",
   "id": "5e09868f",
   "metadata": {},
   "source": [
    "## Our Matrix"
   ]
  },
  {
   "cell_type": "code",
   "execution_count": 5,
   "id": "e33ef91a",
   "metadata": {},
   "outputs": [
    {
     "name": "stderr",
     "output_type": "stream",
     "text": [
      "/Users/victorkaplan/opt/anaconda3/lib/python3.8/site-packages/scipy/optimize/minpack.py:175: RuntimeWarning: The iteration is not making good progress, as measured by the \n",
      "  improvement from the last ten iterations.\n",
      "  warnings.warn(msg, RuntimeWarning)\n",
      "/Users/victorkaplan/opt/anaconda3/lib/python3.8/site-packages/scipy/optimize/minpack.py:175: RuntimeWarning: The iteration is not making good progress, as measured by the \n",
      "  improvement from the last ten iterations.\n",
      "  warnings.warn(msg, RuntimeWarning)\n",
      "/Users/victorkaplan/opt/anaconda3/lib/python3.8/site-packages/scipy/optimize/minpack.py:175: RuntimeWarning: The iteration is not making good progress, as measured by the \n",
      "  improvement from the last ten iterations.\n",
      "  warnings.warn(msg, RuntimeWarning)\n",
      "/Users/victorkaplan/opt/anaconda3/lib/python3.8/site-packages/scipy/optimize/minpack.py:175: RuntimeWarning: The iteration is not making good progress, as measured by the \n",
      "  improvement from the last ten iterations.\n",
      "  warnings.warn(msg, RuntimeWarning)\n",
      "/Users/victorkaplan/opt/anaconda3/lib/python3.8/site-packages/scipy/optimize/minpack.py:175: RuntimeWarning: The iteration is not making good progress, as measured by the \n",
      "  improvement from the last ten iterations.\n",
      "  warnings.warn(msg, RuntimeWarning)\n",
      "/Users/victorkaplan/opt/anaconda3/lib/python3.8/site-packages/scipy/optimize/minpack.py:175: RuntimeWarning: The iteration is not making good progress, as measured by the \n",
      "  improvement from the last ten iterations.\n",
      "  warnings.warn(msg, RuntimeWarning)\n",
      "/Users/victorkaplan/opt/anaconda3/lib/python3.8/site-packages/scipy/optimize/minpack.py:175: RuntimeWarning: The iteration is not making good progress, as measured by the \n",
      "  improvement from the last ten iterations.\n",
      "  warnings.warn(msg, RuntimeWarning)\n",
      "/Users/victorkaplan/opt/anaconda3/lib/python3.8/site-packages/scipy/optimize/minpack.py:175: RuntimeWarning: The iteration is not making good progress, as measured by the \n",
      "  improvement from the last ten iterations.\n",
      "  warnings.warn(msg, RuntimeWarning)\n",
      "/Users/victorkaplan/opt/anaconda3/lib/python3.8/site-packages/scipy/optimize/minpack.py:175: RuntimeWarning: The iteration is not making good progress, as measured by the \n",
      "  improvement from the last ten iterations.\n",
      "  warnings.warn(msg, RuntimeWarning)\n",
      "/Users/victorkaplan/opt/anaconda3/lib/python3.8/site-packages/scipy/optimize/minpack.py:175: RuntimeWarning: The iteration is not making good progress, as measured by the \n",
      "  improvement from the last ten iterations.\n",
      "  warnings.warn(msg, RuntimeWarning)\n",
      "/Users/victorkaplan/opt/anaconda3/lib/python3.8/site-packages/scipy/optimize/minpack.py:175: RuntimeWarning: The iteration is not making good progress, as measured by the \n",
      "  improvement from the last ten iterations.\n",
      "  warnings.warn(msg, RuntimeWarning)\n",
      "/Users/victorkaplan/opt/anaconda3/lib/python3.8/site-packages/scipy/optimize/minpack.py:175: RuntimeWarning: The iteration is not making good progress, as measured by the \n",
      "  improvement from the last ten iterations.\n",
      "  warnings.warn(msg, RuntimeWarning)\n",
      "/Users/victorkaplan/opt/anaconda3/lib/python3.8/site-packages/scipy/optimize/minpack.py:175: RuntimeWarning: The iteration is not making good progress, as measured by the \n",
      "  improvement from the last ten iterations.\n",
      "  warnings.warn(msg, RuntimeWarning)\n",
      "/Users/victorkaplan/opt/anaconda3/lib/python3.8/site-packages/scipy/optimize/minpack.py:175: RuntimeWarning: The iteration is not making good progress, as measured by the \n",
      "  improvement from the last ten iterations.\n",
      "  warnings.warn(msg, RuntimeWarning)\n",
      "/Users/victorkaplan/opt/anaconda3/lib/python3.8/site-packages/scipy/optimize/minpack.py:175: RuntimeWarning: The iteration is not making good progress, as measured by the \n",
      "  improvement from the last ten iterations.\n",
      "  warnings.warn(msg, RuntimeWarning)\n",
      "/Users/victorkaplan/opt/anaconda3/lib/python3.8/site-packages/scipy/optimize/minpack.py:175: RuntimeWarning: The iteration is not making good progress, as measured by the \n",
      "  improvement from the last ten iterations.\n",
      "  warnings.warn(msg, RuntimeWarning)\n",
      "/Users/victorkaplan/opt/anaconda3/lib/python3.8/site-packages/scipy/optimize/minpack.py:175: RuntimeWarning: The iteration is not making good progress, as measured by the \n",
      "  improvement from the last ten iterations.\n",
      "  warnings.warn(msg, RuntimeWarning)\n",
      "/Users/victorkaplan/opt/anaconda3/lib/python3.8/site-packages/scipy/optimize/minpack.py:175: RuntimeWarning: The iteration is not making good progress, as measured by the \n",
      "  improvement from the last ten iterations.\n",
      "  warnings.warn(msg, RuntimeWarning)\n",
      "/Users/victorkaplan/opt/anaconda3/lib/python3.8/site-packages/scipy/optimize/minpack.py:175: RuntimeWarning: The iteration is not making good progress, as measured by the \n",
      "  improvement from the last ten iterations.\n",
      "  warnings.warn(msg, RuntimeWarning)\n",
      "/Users/victorkaplan/opt/anaconda3/lib/python3.8/site-packages/scipy/optimize/minpack.py:175: RuntimeWarning: The iteration is not making good progress, as measured by the \n",
      "  improvement from the last ten iterations.\n",
      "  warnings.warn(msg, RuntimeWarning)\n",
      "/Users/victorkaplan/opt/anaconda3/lib/python3.8/site-packages/scipy/optimize/minpack.py:175: RuntimeWarning: The iteration is not making good progress, as measured by the \n",
      "  improvement from the last ten iterations.\n",
      "  warnings.warn(msg, RuntimeWarning)\n",
      "/Users/victorkaplan/opt/anaconda3/lib/python3.8/site-packages/scipy/optimize/minpack.py:175: RuntimeWarning: The iteration is not making good progress, as measured by the \n",
      "  improvement from the last ten iterations.\n",
      "  warnings.warn(msg, RuntimeWarning)\n",
      "/Users/victorkaplan/opt/anaconda3/lib/python3.8/site-packages/scipy/optimize/minpack.py:175: RuntimeWarning: The iteration is not making good progress, as measured by the \n",
      "  improvement from the last ten iterations.\n",
      "  warnings.warn(msg, RuntimeWarning)\n",
      "/Users/victorkaplan/opt/anaconda3/lib/python3.8/site-packages/scipy/optimize/minpack.py:175: RuntimeWarning: The iteration is not making good progress, as measured by the \n",
      "  improvement from the last ten iterations.\n",
      "  warnings.warn(msg, RuntimeWarning)\n",
      "/Users/victorkaplan/opt/anaconda3/lib/python3.8/site-packages/scipy/optimize/minpack.py:175: RuntimeWarning: The iteration is not making good progress, as measured by the \n",
      "  improvement from the last ten iterations.\n",
      "  warnings.warn(msg, RuntimeWarning)\n",
      "/Users/victorkaplan/opt/anaconda3/lib/python3.8/site-packages/scipy/optimize/minpack.py:175: RuntimeWarning: The iteration is not making good progress, as measured by the \n",
      "  improvement from the last ten iterations.\n",
      "  warnings.warn(msg, RuntimeWarning)\n",
      "/Users/victorkaplan/opt/anaconda3/lib/python3.8/site-packages/scipy/optimize/minpack.py:175: RuntimeWarning: The iteration is not making good progress, as measured by the \n",
      "  improvement from the last ten iterations.\n",
      "  warnings.warn(msg, RuntimeWarning)\n",
      "/Users/victorkaplan/opt/anaconda3/lib/python3.8/site-packages/scipy/optimize/minpack.py:175: RuntimeWarning: The iteration is not making good progress, as measured by the \n",
      "  improvement from the last ten iterations.\n",
      "  warnings.warn(msg, RuntimeWarning)\n",
      "/Users/victorkaplan/opt/anaconda3/lib/python3.8/site-packages/scipy/optimize/minpack.py:175: RuntimeWarning: The iteration is not making good progress, as measured by the \n",
      "  improvement from the last ten iterations.\n",
      "  warnings.warn(msg, RuntimeWarning)\n",
      "/Users/victorkaplan/opt/anaconda3/lib/python3.8/site-packages/scipy/optimize/minpack.py:175: RuntimeWarning: The iteration is not making good progress, as measured by the \n",
      "  improvement from the last ten iterations.\n",
      "  warnings.warn(msg, RuntimeWarning)\n",
      "/Users/victorkaplan/opt/anaconda3/lib/python3.8/site-packages/scipy/optimize/minpack.py:175: RuntimeWarning: The iteration is not making good progress, as measured by the \n",
      "  improvement from the last ten iterations.\n",
      "  warnings.warn(msg, RuntimeWarning)\n",
      "/Users/victorkaplan/opt/anaconda3/lib/python3.8/site-packages/scipy/optimize/minpack.py:175: RuntimeWarning: The iteration is not making good progress, as measured by the \n",
      "  improvement from the last ten iterations.\n",
      "  warnings.warn(msg, RuntimeWarning)\n",
      "/Users/victorkaplan/opt/anaconda3/lib/python3.8/site-packages/scipy/optimize/minpack.py:175: RuntimeWarning: The iteration is not making good progress, as measured by the \n",
      "  improvement from the last ten iterations.\n",
      "  warnings.warn(msg, RuntimeWarning)\n"
     ]
    },
    {
     "name": "stderr",
     "output_type": "stream",
     "text": [
      "/Users/victorkaplan/opt/anaconda3/lib/python3.8/site-packages/scipy/optimize/minpack.py:175: RuntimeWarning: The iteration is not making good progress, as measured by the \n",
      "  improvement from the last ten iterations.\n",
      "  warnings.warn(msg, RuntimeWarning)\n",
      "/Users/victorkaplan/opt/anaconda3/lib/python3.8/site-packages/scipy/optimize/minpack.py:175: RuntimeWarning: The iteration is not making good progress, as measured by the \n",
      "  improvement from the last ten iterations.\n",
      "  warnings.warn(msg, RuntimeWarning)\n",
      "/Users/victorkaplan/opt/anaconda3/lib/python3.8/site-packages/scipy/optimize/minpack.py:175: RuntimeWarning: The iteration is not making good progress, as measured by the \n",
      "  improvement from the last ten iterations.\n",
      "  warnings.warn(msg, RuntimeWarning)\n",
      "/Users/victorkaplan/opt/anaconda3/lib/python3.8/site-packages/scipy/optimize/minpack.py:175: RuntimeWarning: The iteration is not making good progress, as measured by the \n",
      "  improvement from the last ten iterations.\n",
      "  warnings.warn(msg, RuntimeWarning)\n",
      "/Users/victorkaplan/opt/anaconda3/lib/python3.8/site-packages/scipy/optimize/minpack.py:175: RuntimeWarning: The iteration is not making good progress, as measured by the \n",
      "  improvement from the last ten iterations.\n",
      "  warnings.warn(msg, RuntimeWarning)\n",
      "/Users/victorkaplan/opt/anaconda3/lib/python3.8/site-packages/scipy/optimize/minpack.py:175: RuntimeWarning: The iteration is not making good progress, as measured by the \n",
      "  improvement from the last ten iterations.\n",
      "  warnings.warn(msg, RuntimeWarning)\n",
      "/Users/victorkaplan/opt/anaconda3/lib/python3.8/site-packages/scipy/optimize/minpack.py:175: RuntimeWarning: The iteration is not making good progress, as measured by the \n",
      "  improvement from the last ten iterations.\n",
      "  warnings.warn(msg, RuntimeWarning)\n",
      "/Users/victorkaplan/opt/anaconda3/lib/python3.8/site-packages/scipy/optimize/minpack.py:175: RuntimeWarning: The iteration is not making good progress, as measured by the \n",
      "  improvement from the last ten iterations.\n",
      "  warnings.warn(msg, RuntimeWarning)\n",
      "/Users/victorkaplan/opt/anaconda3/lib/python3.8/site-packages/scipy/optimize/minpack.py:175: RuntimeWarning: The iteration is not making good progress, as measured by the \n",
      "  improvement from the last ten iterations.\n",
      "  warnings.warn(msg, RuntimeWarning)\n",
      "/Users/victorkaplan/opt/anaconda3/lib/python3.8/site-packages/scipy/optimize/minpack.py:175: RuntimeWarning: The iteration is not making good progress, as measured by the \n",
      "  improvement from the last ten iterations.\n",
      "  warnings.warn(msg, RuntimeWarning)\n",
      "/Users/victorkaplan/opt/anaconda3/lib/python3.8/site-packages/scipy/optimize/minpack.py:175: RuntimeWarning: The iteration is not making good progress, as measured by the \n",
      "  improvement from the last ten iterations.\n",
      "  warnings.warn(msg, RuntimeWarning)\n",
      "/Users/victorkaplan/opt/anaconda3/lib/python3.8/site-packages/scipy/optimize/minpack.py:175: RuntimeWarning: The iteration is not making good progress, as measured by the \n",
      "  improvement from the last ten iterations.\n",
      "  warnings.warn(msg, RuntimeWarning)\n",
      "/Users/victorkaplan/opt/anaconda3/lib/python3.8/site-packages/scipy/optimize/minpack.py:175: RuntimeWarning: The iteration is not making good progress, as measured by the \n",
      "  improvement from the last ten iterations.\n",
      "  warnings.warn(msg, RuntimeWarning)\n",
      "/Users/victorkaplan/opt/anaconda3/lib/python3.8/site-packages/scipy/optimize/minpack.py:175: RuntimeWarning: The iteration is not making good progress, as measured by the \n",
      "  improvement from the last ten iterations.\n",
      "  warnings.warn(msg, RuntimeWarning)\n",
      "/Users/victorkaplan/opt/anaconda3/lib/python3.8/site-packages/scipy/optimize/minpack.py:175: RuntimeWarning: The iteration is not making good progress, as measured by the \n",
      "  improvement from the last ten iterations.\n",
      "  warnings.warn(msg, RuntimeWarning)\n",
      "/Users/victorkaplan/opt/anaconda3/lib/python3.8/site-packages/scipy/optimize/minpack.py:175: RuntimeWarning: The iteration is not making good progress, as measured by the \n",
      "  improvement from the last ten iterations.\n",
      "  warnings.warn(msg, RuntimeWarning)\n",
      "/Users/victorkaplan/opt/anaconda3/lib/python3.8/site-packages/scipy/optimize/minpack.py:175: RuntimeWarning: The iteration is not making good progress, as measured by the \n",
      "  improvement from the last ten iterations.\n",
      "  warnings.warn(msg, RuntimeWarning)\n",
      "/Users/victorkaplan/opt/anaconda3/lib/python3.8/site-packages/scipy/optimize/minpack.py:175: RuntimeWarning: The iteration is not making good progress, as measured by the \n",
      "  improvement from the last ten iterations.\n",
      "  warnings.warn(msg, RuntimeWarning)\n",
      "/Users/victorkaplan/opt/anaconda3/lib/python3.8/site-packages/scipy/optimize/minpack.py:175: RuntimeWarning: The iteration is not making good progress, as measured by the \n",
      "  improvement from the last ten iterations.\n",
      "  warnings.warn(msg, RuntimeWarning)\n",
      "/Users/victorkaplan/opt/anaconda3/lib/python3.8/site-packages/scipy/optimize/minpack.py:175: RuntimeWarning: The iteration is not making good progress, as measured by the \n",
      "  improvement from the last ten iterations.\n",
      "  warnings.warn(msg, RuntimeWarning)\n",
      "/Users/victorkaplan/opt/anaconda3/lib/python3.8/site-packages/scipy/optimize/minpack.py:175: RuntimeWarning: The iteration is not making good progress, as measured by the \n",
      "  improvement from the last ten iterations.\n",
      "  warnings.warn(msg, RuntimeWarning)\n",
      "/Users/victorkaplan/opt/anaconda3/lib/python3.8/site-packages/scipy/optimize/minpack.py:175: RuntimeWarning: The iteration is not making good progress, as measured by the \n",
      "  improvement from the last ten iterations.\n",
      "  warnings.warn(msg, RuntimeWarning)\n",
      "/Users/victorkaplan/opt/anaconda3/lib/python3.8/site-packages/scipy/optimize/minpack.py:175: RuntimeWarning: The iteration is not making good progress, as measured by the \n",
      "  improvement from the last ten iterations.\n",
      "  warnings.warn(msg, RuntimeWarning)\n",
      "/Users/victorkaplan/opt/anaconda3/lib/python3.8/site-packages/scipy/optimize/minpack.py:175: RuntimeWarning: The iteration is not making good progress, as measured by the \n",
      "  improvement from the last ten iterations.\n",
      "  warnings.warn(msg, RuntimeWarning)\n"
     ]
    },
    {
     "name": "stdout",
     "output_type": "stream",
     "text": [
      "20.41454125245412\n"
     ]
    }
   ],
   "source": [
    "st = time.time()\n",
    "mats = makingFinalReconstructedTreeOurMethod.makeManyMatricesOfDistances(10, seqs)\n",
    "print((time.time()-st)/60)"
   ]
  },
  {
   "cell_type": "code",
   "execution_count": 6,
   "id": "51a691fb",
   "metadata": {},
   "outputs": [
    {
     "name": "stdout",
     "output_type": "stream",
     "text": [
      "[[10.  6.  7.  5.  7.]\n",
      " [ 6. 10.  4.  8.  4.]\n",
      " [ 7.  4. 10.  4.  5.]\n",
      " [ 5.  8.  4. 10.  4.]\n",
      " [ 7.  4.  5.  4. 10.]]\n",
      "          0         1         2         3         4\n",
      "0  0.000000  0.001358  0.001559  0.000695  0.001474\n",
      "1  0.001358  0.000000  0.000738  0.001352  0.001434\n",
      "2  0.001559  0.000738  0.000000  0.001628  0.000921\n",
      "3  0.000695  0.001352  0.001628  0.000000  0.000737\n",
      "4  0.001474  0.001434  0.000921  0.000737  0.000000\n"
     ]
    },
    {
     "data": {
      "text/html": [
       "<div>\n",
       "<style scoped>\n",
       "    .dataframe tbody tr th:only-of-type {\n",
       "        vertical-align: middle;\n",
       "    }\n",
       "\n",
       "    .dataframe tbody tr th {\n",
       "        vertical-align: top;\n",
       "    }\n",
       "\n",
       "    .dataframe thead th {\n",
       "        text-align: right;\n",
       "    }\n",
       "</style>\n",
       "<table border=\"1\" class=\"dataframe\">\n",
       "  <thead>\n",
       "    <tr style=\"text-align: right;\">\n",
       "      <th></th>\n",
       "      <th>0</th>\n",
       "      <th>1</th>\n",
       "      <th>2</th>\n",
       "      <th>3</th>\n",
       "      <th>4</th>\n",
       "    </tr>\n",
       "  </thead>\n",
       "  <tbody>\n",
       "    <tr>\n",
       "      <th>0</th>\n",
       "      <td>0.000000</td>\n",
       "      <td>0.001358</td>\n",
       "      <td>0.001559</td>\n",
       "      <td>0.000695</td>\n",
       "      <td>0.001474</td>\n",
       "    </tr>\n",
       "    <tr>\n",
       "      <th>1</th>\n",
       "      <td>0.001358</td>\n",
       "      <td>0.000000</td>\n",
       "      <td>0.000738</td>\n",
       "      <td>0.001352</td>\n",
       "      <td>0.001434</td>\n",
       "    </tr>\n",
       "    <tr>\n",
       "      <th>2</th>\n",
       "      <td>0.001559</td>\n",
       "      <td>0.000738</td>\n",
       "      <td>0.000000</td>\n",
       "      <td>0.001628</td>\n",
       "      <td>0.000921</td>\n",
       "    </tr>\n",
       "    <tr>\n",
       "      <th>3</th>\n",
       "      <td>0.000695</td>\n",
       "      <td>0.001352</td>\n",
       "      <td>0.001628</td>\n",
       "      <td>0.000000</td>\n",
       "      <td>0.000737</td>\n",
       "    </tr>\n",
       "    <tr>\n",
       "      <th>4</th>\n",
       "      <td>0.001474</td>\n",
       "      <td>0.001434</td>\n",
       "      <td>0.000921</td>\n",
       "      <td>0.000737</td>\n",
       "      <td>0.000000</td>\n",
       "    </tr>\n",
       "  </tbody>\n",
       "</table>\n",
       "</div>"
      ],
      "text/plain": [
       "          0         1         2         3         4\n",
       "0  0.000000  0.001358  0.001559  0.000695  0.001474\n",
       "1  0.001358  0.000000  0.000738  0.001352  0.001434\n",
       "2  0.001559  0.000738  0.000000  0.001628  0.000921\n",
       "3  0.000695  0.001352  0.001628  0.000000  0.000737\n",
       "4  0.001474  0.001434  0.000921  0.000737  0.000000"
      ]
     },
     "execution_count": 6,
     "metadata": {},
     "output_type": "execute_result"
    }
   ],
   "source": [
    "finalDistMat = makingFinalReconstructedTreeOurMethod.makeFinalDistMatrixFromSmallerOnes(mats)\n",
    "\n",
    "print(finalDistMat)\n",
    "average = np.average(finalDistMat)\n",
    "for i in range(len(finalDistMat[0])):\n",
    "    for j in range(len(finalDistMat[0])):\n",
    "        if i != j:\n",
    "            if finalDistMat[i][j] == 0.0:\n",
    "                finalDistMat[i][j] += average\n",
    "finalDistMat"
   ]
  },
  {
   "cell_type": "markdown",
   "id": "b8ab5fb1",
   "metadata": {},
   "source": [
    "## Their Matrix"
   ]
  },
  {
   "cell_type": "code",
   "execution_count": 7,
   "id": "941e4b7e",
   "metadata": {},
   "outputs": [
    {
     "name": "stdout",
     "output_type": "stream",
     "text": [
      "T5\t0\n",
      "T3\t0.003218000000000054\t0\n",
      "T1\t0.003251000000000004\t0.0012910000000000421\t0\n",
      "T2\t0.003110999999999975\t0.002682999999999991\t0.002719000000000027\t0\n",
      "T4\t0.003202999999999956\t0.00277000000000005\t0.0028089999999999504\t0.0018160000000000398\t0\n",
      "\tT5\tT3\tT1\tT2\tT4\n"
     ]
    }
   ],
   "source": [
    "theirTree = makingOtherMethodTree.inferTreeFromSeqs(seqs, mu_Var)\n",
    "theirTreeMatrix = np.array(pd.read_csv('otherMethodDistanceMatrix.csv').drop(columns='Unnamed: 0'))"
   ]
  },
  {
   "cell_type": "markdown",
   "id": "e6e8d5cb",
   "metadata": {},
   "source": [
    "## True Matrix"
   ]
  },
  {
   "cell_type": "code",
   "execution_count": 8,
   "id": "ecbabce9",
   "metadata": {},
   "outputs": [
    {
     "name": "stdout",
     "output_type": "stream",
     "text": [
      "          0         1         2         3         4\n",
      "0  0.000000  0.003215  0.003215  0.003215  0.003215\n",
      "1  0.003215  0.000000  0.001251  0.002694  0.002694\n",
      "2  0.003215  0.001251  0.000000  0.002694  0.002694\n",
      "3  0.003215  0.002694  0.002694  0.000000  0.001815\n",
      "4  0.003215  0.002694  0.002694  0.001815  0.000000\n"
     ]
    }
   ],
   "source": [
    "trueDistDict = tree.phylogenetic_distance_matrix().as_data_table()._data\n",
    "trueDistMat = np.zeros((5,5))\n",
    "for pair1 in trueDistDict:\n",
    "    for pair2 in trueDistDict:\n",
    "        ind1 = list(seqs.keys()).index(pair1)\n",
    "        ind2 = list(seqs.keys()).index(pair2)  \n",
    "        trueDistMat[ind1][ind2]  = trueDistDict[pair1][pair2]\n",
    "\n",
    "import pandas as pd      \n",
    "print(pd.DataFrame(trueDistMat*mu_Var))"
   ]
  },
  {
   "cell_type": "markdown",
   "id": "8b98f403",
   "metadata": {},
   "source": [
    "## Compare"
   ]
  },
  {
   "cell_type": "code",
   "execution_count": null,
   "id": "aeedc59e",
   "metadata": {},
   "outputs": [],
   "source": [
    "print(np.linalg.norm(finalDistMat*2 - trueDistMat*mu_Var))\n",
    "print(np.linalg.norm(theirTreeMatrix - trueDistMat*mu_Var))"
   ]
  },
  {
   "cell_type": "code",
   "execution_count": 9,
   "id": "c614ffd7",
   "metadata": {},
   "outputs": [
    {
     "name": "stdout",
     "output_type": "stream",
     "text": [
      "0.0004853566803492464 4.227952145334343e-05\n"
     ]
    }
   ],
   "source": [
    "def elt_wise_abs_error(X, Y):\n",
    "    X = np.array(X)\n",
    "    Y = np.array(Y)\n",
    "    return np.sum(np.absolute(X - Y))\n",
    "\n",
    "scale_factor = 20\n",
    "print(elt_wise_abs_error(finalDistMat*2, trueDistMat*mu_Var)/scale_factor, elt_wise_abs_error(theirTreeMatrix,  trueDistMat*mu_Var)/scale_factor)"
   ]
  },
  {
   "cell_type": "code",
   "execution_count": 10,
   "id": "51ffc50e",
   "metadata": {},
   "outputs": [],
   "source": [
    "ourTree = makingFinalReconstructedTreeOurMethod.makeTree(seqs, mu_Var, 2*finalDistMat)"
   ]
  },
  {
   "cell_type": "code",
   "execution_count": 11,
   "id": "a1165335",
   "metadata": {},
   "outputs": [
    {
     "name": "stdout",
     "output_type": "stream",
     "text": [
      "4 2\n"
     ]
    }
   ],
   "source": [
    "ourTreeStr= str(ourTree) + ';'\n",
    "ourTreeComparable = RF(ourTreeStr , format=1)\n",
    "\n",
    "theirTreeStr = str(theirTree) + ';'\n",
    "theirTreeComparable = RF(theirTreeStr, format=1)\n",
    "\n",
    "trueTreeStr = str(tree) + ';'\n",
    "trueTreeComparable = RF(trueTreeStr, format=1)\n",
    "\n",
    "our_RF_error = ourTreeComparable.robinson_foulds(trueTreeComparable)[0]\n",
    "their_RF_error = theirTreeComparable.robinson_foulds(trueTreeComparable)[0]\n",
    "\n",
    "print(our_RF_error, their_RF_error)"
   ]
  },
  {
   "cell_type": "code",
   "execution_count": 12,
   "id": "42c14598",
   "metadata": {},
   "outputs": [
    {
     "name": "stdout",
     "output_type": "stream",
     "text": [
      "/--------------------------------------------------------------------------- T2\n",
      "+                                                                              \n",
      "|                  /-------------------------------------------------------- T5\n",
      "\\------------------+                                                           \n",
      "                   |                  /------------------------------------- T4\n",
      "                   \\------------------+                                        \n",
      "                                      |                  /------------------ T3\n",
      "                                      \\------------------+                     \n",
      "                                                         \\------------------ T1\n",
      "                                                                               \n",
      "                                                                               \n"
     ]
    }
   ],
   "source": [
    "ourTree.print_plot()"
   ]
  },
  {
   "cell_type": "code",
   "execution_count": 13,
   "id": "3f4f45d9",
   "metadata": {},
   "outputs": [
    {
     "name": "stdout",
     "output_type": "stream",
     "text": [
      "                         /-------------------------------------------------- T5\n",
      "/------------------------+                                                     \n",
      "|                        |                        /------------------------- T1\n",
      "|                        \\------------------------+                            \n",
      "+                                                 \\------------------------- T3\n",
      "|                                                                              \n",
      "|                                                 /------------------------- T4\n",
      "\\-------------------------------------------------+                            \n",
      "                                                  \\------------------------- T2\n",
      "                                                                               \n",
      "                                                                               \n"
     ]
    }
   ],
   "source": [
    "theirTree.print_plot()"
   ]
  },
  {
   "cell_type": "code",
   "execution_count": 14,
   "id": "797dcfbd",
   "metadata": {},
   "outputs": [
    {
     "name": "stdout",
     "output_type": "stream",
     "text": [
      "/--------------------------------------------------------------------------- T5\n",
      "|                                                                              \n",
      "+                                                 /------------------------- T3\n",
      "|                        /------------------------+                            \n",
      "|                        |                        \\------------------------- T1\n",
      "\\------------------------+                                                     \n",
      "                         |                        /------------------------- T2\n",
      "                         \\------------------------+                            \n",
      "                                                  \\------------------------- T4\n",
      "                                                                               \n",
      "                                                                               \n"
     ]
    }
   ],
   "source": [
    "tree.print_plot()"
   ]
  },
  {
   "cell_type": "markdown",
   "id": "f30d5d97",
   "metadata": {},
   "source": [
    "# Experiment"
   ]
  },
  {
   "cell_type": "code",
   "execution_count": null,
   "id": "b5183589",
   "metadata": {},
   "outputs": [],
   "source": [
    "def elt_wise_abs_error(X, Y):\n",
    "    X = np.array(X)\n",
    "    Y = np.array(Y)\n",
    "    return np.sum(np.absolute(X - Y))\n",
    "\n",
    "def experiment(size):\n",
    "    seqLenInput = 1e7\n",
    "    initial_size_Var=size\n",
    "    mu_Var = 1e-8\n",
    "    recombination_rate=1e-8\n",
    "\n",
    "    birth_rate = 1000.0\n",
    "    death_rate = 500.0\n",
    "    n_populations = 5\n",
    "    extra_populations = 5 # for \"GSA\" sampling scheme\n",
    "\n",
    "    seqs, tree = MakingSequences.makeSequencesFromScratch(birth_rate, death_rate, n_populations, extra_populations, seqLenInput, initial_size_Var, mu_Var, recombination_rate)\n",
    "\n",
    "    mats = makingFinalReconstructedTreeOurMethod.makeManyMatricesOfDistances(10, seqs)\n",
    "\n",
    "    finalDistMat = makingFinalReconstructedTreeOurMethod.makeFinalDistMatrixFromSmallerOnes(mats)\n",
    "\n",
    "    print(finalDistMat)\n",
    "    average = np.average(finalDistMat)\n",
    "    for i in range(len(finalDistMat[0])):\n",
    "        for j in range(len(finalDistMat[0])):\n",
    "            if i != j:\n",
    "                if finalDistMat[i][j] == 0.0:\n",
    "                    finalDistMat[i][j] += average\n",
    "    ourTree = makingFinalReconstructedTreeOurMethod.makeTree(seqs, mu_Var, 2*finalDistMat)\n",
    "    theirTree = makingOtherMethodTree.inferTreeFromSeqs(seqs, mu_Var)\n",
    "    theirTreeMatrix = np.array(pd.read_csv('otherMethodDistanceMatrix.csv').drop(columns='Unnamed: 0'))\n",
    "\n",
    "    trueDistDict = tree.phylogenetic_distance_matrix().as_data_table()._data\n",
    "    trueDistMat = np.zeros((5,5))\n",
    "    for pair1 in trueDistDict:\n",
    "        for pair2 in trueDistDict:\n",
    "            ind1 = list(seqs.keys()).index(pair1)\n",
    "            ind2 = list(seqs.keys()).index(pair2)\n",
    "            trueDistMat[ind1][ind2]  = trueDistDict[pair1][pair2]\n",
    "    scale_factor = n_populations*(n_populations - 1)\n",
    "    \n",
    "    ourTreeStr= str(ourTree) + ';'\n",
    "    ourTreeComparable = RF(ourTreeStr , format=1)\n",
    "\n",
    "    theirTreeStr = str(theirTree) + ';'\n",
    "    theirTreeComparable = RF(theirTreeStr, format=1)\n",
    "    \n",
    "    trueTreeStr = str(tree) + ';'\n",
    "    trueTreeComparable = RF(trueTreeStr, format=1)\n",
    "    \n",
    "    our_RF_error = ourTreeComparable.robinson_foulds(trueTreeComparable)[0]\n",
    "    their_RF_error = theirTreeComparable.robinson_foulds(trueTreeComparable)[0]\n",
    "    \n",
    "    return elt_wise_abs_error(finalDistMat*2, trueDistMat*mu_Var)/scale_factor, elt_wise_abs_error(theirTreeMatrix,  trueDistMat*mu_Var)/scale_factor, our_RF_error, their_RF_error\n",
    "\n"
   ]
  },
  {
   "cell_type": "code",
   "execution_count": null,
   "id": "337d9002",
   "metadata": {},
   "outputs": [],
   "source": [
    "\n",
    "results = {}\n",
    "# sizes = [1e3, 1e4, 1e5, 1e5, 1e6, 1e7, 1e8]\n",
    "sizes = [1e7, 1e8]\n",
    "for size in sizes:\n",
    "    if size <= 1e6:\n",
    "        num = 2\n",
    "    else:\n",
    "        num = 1\n",
    "    for i in range(num):\n",
    "        try:\n",
    "            results[(size, i)] = experiment(size)\n",
    "        except:\n",
    "            print('something wrong')\n"
   ]
  },
  {
   "cell_type": "code",
   "execution_count": null,
   "id": "4af1f168",
   "metadata": {},
   "outputs": [],
   "source": [
    "results"
   ]
  },
  {
   "cell_type": "code",
   "execution_count": null,
   "id": "4faf85a8",
   "metadata": {},
   "outputs": [],
   "source": [
    "for size in sizes:\n",
    "    if size <= 1e6:\n",
    "        num = 2\n",
    "    else:\n",
    "        num = 10\n",
    "    us = [results[(size, i)][0] for i in range(num)]\n",
    "    them = [results[(size, i)][1] for i in range(num)]\n",
    "    print(size, np.mean(us), np.std(us), np.mean(them), np.std(them))"
   ]
  },
  {
   "cell_type": "code",
   "execution_count": null,
   "id": "304cc394",
   "metadata": {},
   "outputs": [],
   "source": [
    "\n",
    "results2 = {}\n",
    "for i in range(10):\n",
    "    try:\n",
    "        results2[i] = experiment(1000000)\n",
    "    except:\n",
    "        print('somethingwrong')"
   ]
  },
  {
   "cell_type": "code",
   "execution_count": null,
   "id": "6d05d33c",
   "metadata": {},
   "outputs": [],
   "source": [
    "results2"
   ]
  },
  {
   "cell_type": "code",
   "execution_count": null,
   "id": "a4f97060",
   "metadata": {},
   "outputs": [],
   "source": [
    "\n",
    "results3 = {}\n",
    "for i in range(10):\n",
    "    try:\n",
    "        results3[i] = experiment(1000000)\n",
    "    except:\n",
    "        print('somethingwrong')"
   ]
  },
  {
   "cell_type": "code",
   "execution_count": null,
   "id": "8cf5fa43",
   "metadata": {},
   "outputs": [],
   "source": [
    "results3"
   ]
  },
  {
   "cell_type": "code",
   "execution_count": null,
   "id": "b5fcbf6d",
   "metadata": {},
   "outputs": [],
   "source": []
  },
  {
   "cell_type": "markdown",
   "id": "8ca4ec6d",
   "metadata": {},
   "source": [
    "## -  - - - -------------- - - - - - - - - - - _+++ _ _ - - - -  - - - - - --  -"
   ]
  },
  {
   "cell_type": "code",
   "execution_count": null,
   "id": "7311757c",
   "metadata": {},
   "outputs": [],
   "source": [
    "def avgdict(dict):\n",
    "    our_vals = []\n",
    "    their_vals = []\n",
    "    for value in dict.values():\n",
    "        our_vals.append(value[0])\n",
    "        their_vals.append(value[1])\n",
    "    return np.mean(our_vals), np.mean(their_vals)\n"
   ]
  },
  {
   "cell_type": "code",
   "execution_count": null,
   "id": "76d31c2e",
   "metadata": {},
   "outputs": [],
   "source": [
    "d1000_1 = {0: (np.float64(0.0072956746878460425), np.float64(8.106343327633886e-05)),\n",
    " 1: (np.float64(0.0037892120816123676), np.float64(7.985369901892427e-05)),\n",
    " 2: (np.float64(0.0013088548916303827), np.float64(6.54995755060786e-05)),\n",
    " 3: (np.float64(0.0010928023774587337), np.float64(9.437238499449127e-05)),\n",
    " 4: (np.float64(0.001968801975997991), np.float64(7.686741055314288e-05)),\n",
    " 5: (np.float64(0.004000070991943198), np.float64(7.471702673402863e-05)),\n",
    " 6: (np.float64(0.0025642288707213748), np.float64(0.00011201956214235674)),\n",
    " 7: (np.float64(0.013526617415978442), np.float64(0.00011000760886221412)),\n",
    " 8: (np.float64(0.002497992412654914), np.float64(9.223234620616827e-05)),\n",
    " 9: (np.float64(0.003743490737692659), np.float64(8.165676843792145e-05))}\n",
    "\n",
    "d1000_2 = {0: (np.float64(0.002394688258899575), np.float64(7.246325423620166e-05)),\n",
    " 1: (np.float64(0.0020223760195531575), np.float64(0.00011077843116118284)),\n",
    " 2: (np.float64(0.004507331902750916), np.float64(9.226680129564171e-05)),\n",
    " 3: (np.float64(0.0007819824437654087), np.float64(7.878487303098268e-05)),\n",
    " 4: (np.float64(0.0027453341283392454), np.float64(4.4580046696738703e-05)),\n",
    " 5: (np.float64(0.0049625251644708455), np.float64(0.00010747149206845528)),\n",
    " 6: (np.float64(0.002426946271334538), np.float64(0.00013978934363452863)),\n",
    " 7: (np.float64(0.0012705684750678621), np.float64(7.130723244559439e-05)),\n",
    " 8: (np.float64(0.0022292005205396337), np.float64(3.383857661612712e-05)),\n",
    " 9: (np.float64(0.023206469878732035), np.float64(0.0004074187793847792))}\n",
    "\n",
    "avgs1 = avgdict(d1000_1)\n",
    "avgs2 = avgdict(d1000_2)\n",
    "\n",
    "print((avgs1[0] + avgs2[0])/2)\n",
    "print((avgs1[1] + avgs2[1])/2)"
   ]
  },
  {
   "cell_type": "code",
   "execution_count": null,
   "id": "74cc83ec",
   "metadata": {},
   "outputs": [],
   "source": [
    "dtenthousand = {0: (np.float64(0.0005639488770632573), np.float64(0.0008855862891029176)),\n",
    " 1: (np.float64(0.009665178605919922), np.float64(0.000795429360303737)),\n",
    " 2: (np.float64(0.002075437142961673), np.float64(0.0009121208581641586)),\n",
    " 3: (np.float64(0.0022228808032931924), np.float64(0.0008612728374948773)),\n",
    " 4: (np.float64(0.0024432541685518666), np.float64(0.000955607040310874)),\n",
    " 5: (np.float64(0.005497812566663653), np.float64(0.0008445739667645566)),\n",
    " 6: (np.float64(0.0014142533355465182), np.float64(0.0008756025801457163)),\n",
    " 7: (np.float64(0.002738974520786086), np.float64(0.0008501985161189472)),\n",
    " 8: (np.float64(0.001352858033824716), np.float64(0.0009162079518995649)),\n",
    " 9: (np.float64(0.0014527717730403891), np.float64(0.0008637804505029313))}\n",
    "\n",
    "print(avgdict(dtenthousand))"
   ]
  },
  {
   "cell_type": "code",
   "execution_count": null,
   "id": "b09ca637",
   "metadata": {},
   "outputs": [],
   "source": [
    "dhundythou = {0: (np.float64(0.0067834809085216986), np.float64(0.008930895134462068)),\n",
    " 1: (np.float64(0.012690597058852969), np.float64(0.008899588116265527)),\n",
    " 2: (np.float64(0.006819978724350112), np.float64(0.0089130711367892)),\n",
    " 3: (np.float64(0.011389003169212661), np.float64(0.008856515330257206)),\n",
    " 4: (np.float64(0.0069707378920482056), np.float64(0.008953600999189498)),\n",
    " 5: (np.float64(0.008385401236296561), np.float64(0.008875532471105608)),\n",
    " 6: (np.float64(0.008305596000915867), np.float64(0.00887746480167748)),\n",
    " 7: (np.float64(0.009011752657450542), np.float64(0.00893951324862232)),\n",
    " 8: (np.float64(0.009028647099520726), np.float64(0.00880973889459681)),\n",
    " 10: (0.007093540282731658, 0.00894279980213061),\n",
    " 11: (0.008434958902552919, 0.008783735060882984),\n",
    " 12: (0.00785363750715936, 0.008694571124756526),\n",
    " 13: (0.011671405399010648, 0.008823480680129557),\n",
    " 14: (0.0057187061544893, 0.008945318205871695),\n",
    " 15: (0.008246644407113672, 0.008859394187270468),\n",
    " 16: (0.006945791002327476, 0.008945363660648676),\n",
    " 17: (0.017324904919648602, 0.008523907826669758),\n",
    " 18: (0.0074111729112624584, 0.009042999518191165),\n",
    " 19: (0.00862096270551277, 0.008965077501705943)}\n",
    "\n",
    "print(avgdict(dhundythou))"
   ]
  },
  {
   "cell_type": "code",
   "execution_count": null,
   "id": "00db327c",
   "metadata": {},
   "outputs": [],
   "source": [
    "dmil = {0: (0.02343770765944799, 0.08623312374314397),\n",
    " 1: (0.020541999859968525, 0.08691434189065886),\n",
    " 2: (0.021286372117691212, 0.08668502669606058),\n",
    " 3: (0.017164755083637174, 0.08715840591347267),\n",
    " 4: (0.02872498310909452, 0.08670059582072552),\n",
    " 5: (0.02444516715060222, 0.08700376364789376),\n",
    " 6: (0.03159574177052006, 0.08704149470037383),\n",
    " 7: (0.02031897618674083, 0.0866849296835355),\n",
    " 8: (0.024855262804444198, 0.08730188887543296),\n",
    " 9: (0.025659668316184603, 0.08656053164258712),\n",
    " 10: (0.02735828663817567, 0.08668217850176406),\n",
    " 11: (0.017586755354286762, 0.08720741485086381),\n",
    " 12: (0.02525546565357266, 0.08684229436066147),\n",
    " 13: (0.02807130569772679, 0.08633618549523715),\n",
    " 14: (0.028628388008765365, 0.08687862980101874),\n",
    " 15: (0.026855533552270845, 0.08679568973592808),\n",
    " 16: (0.02984744807433688, 0.08675564027847146),\n",
    " 17: (0.018379074075738504, 0.08712973760189913),\n",
    " 18: (0.01822848326372644, 0.08701101946919423),\n",
    " 19: (0.029283422526404743, 0.0867851953792014)}\n",
    "\n",
    "print(avgdict(dmil))\n"
   ]
  },
  {
   "cell_type": "code",
   "execution_count": null,
   "id": "19c4af8f",
   "metadata": {},
   "outputs": [],
   "source": []
  },
  {
   "cell_type": "code",
   "execution_count": null,
   "id": "0f8afa61",
   "metadata": {},
   "outputs": [],
   "source": []
  }
 ],
 "metadata": {
  "kernelspec": {
   "display_name": "Python 3",
   "language": "python",
   "name": "python3"
  },
  "language_info": {
   "codemirror_mode": {
    "name": "ipython",
    "version": 3
   },
   "file_extension": ".py",
   "mimetype": "text/x-python",
   "name": "python",
   "nbconvert_exporter": "python",
   "pygments_lexer": "ipython3",
   "version": "3.8.8"
  }
 },
 "nbformat": 4,
 "nbformat_minor": 5
}
