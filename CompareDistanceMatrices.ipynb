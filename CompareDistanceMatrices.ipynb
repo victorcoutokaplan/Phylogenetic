{
 "cells": [
  {
   "cell_type": "code",
   "execution_count": 4,
   "id": "c207ec48",
   "metadata": {},
   "outputs": [],
   "source": [
    "import dendropy.calculate.treecompare\n",
    "import MakingSequences\n",
    "import makingPairwiseDistancesOurMethod\n",
    "import makingFinalReconstructedTreeOurMethod\n",
    "import makingOtherMethodTree\n",
    "import comparingTrees\n",
    "import time\n",
    "import numpy as np\n",
    "import pandas as pd"
   ]
  },
  {
   "cell_type": "code",
   "execution_count": null,
   "id": "b7744336",
   "metadata": {},
   "outputs": [],
   "source": [
    "seqLenInput = 1e7\n",
    "initial_size_Var=200\n",
    "mu_Var = 1e-8\n",
    "recombination_rate=1e-8"
   ]
  },
  {
   "cell_type": "code",
   "execution_count": null,
   "id": "543bb39a",
   "metadata": {},
   "outputs": [],
   "source": [
    "birth_rate = 1000.0\n",
    "death_rate = 500.0\n",
    "n_populations = 5\n",
    "extra_populations = 5 # for \"GSA\" sampling scheme"
   ]
  },
  {
   "cell_type": "markdown",
   "id": "6019c04f",
   "metadata": {},
   "source": [
    "## Make Trees and Sequences"
   ]
  },
  {
   "cell_type": "code",
   "execution_count": null,
   "id": "0c2724f4",
   "metadata": {},
   "outputs": [],
   "source": [
    "st = time.time()\n",
    "seqs, tree = MakingSequences.makeSequencesFromScratch(birth_rate, death_rate, n_populations, extra_populations, seqLenInput, initial_size_Var, mu_Var, recombination_rate)\n",
    "print((time.time()-st)/60)"
   ]
  },
  {
   "cell_type": "markdown",
   "id": "5e09868f",
   "metadata": {},
   "source": [
    "## Our Matrix"
   ]
  },
  {
   "cell_type": "code",
   "execution_count": null,
   "id": "e33ef91a",
   "metadata": {},
   "outputs": [],
   "source": [
    "st = time.time()\n",
    "mats = makingFinalReconstructedTreeOurMethod.makeManyMatricesOfDistances(10, seqs)\n",
    "print((time.time()-st)/60)"
   ]
  },
  {
   "cell_type": "code",
   "execution_count": null,
   "id": "51a691fb",
   "metadata": {},
   "outputs": [],
   "source": [
    "finalDistMat = makingFinalReconstructedTreeOurMethod.makeFinalDistMatrixFromSmallerOnes(mats)\n",
    "\n",
    "print(finalDistMat)\n",
    "average = np.average(finalDistMat)\n",
    "for i in range(len(finalDistMat[0])):\n",
    "    for j in range(len(finalDistMat[0])):\n",
    "        if i != j:\n",
    "            if finalDistMat[i][j] == 0.0:\n",
    "                finalDistMat[i][j] += average\n",
    "finalDistMat"
   ]
  },
  {
   "cell_type": "markdown",
   "id": "b8ab5fb1",
   "metadata": {},
   "source": [
    "## Their Matrix"
   ]
  },
  {
   "cell_type": "code",
   "execution_count": null,
   "id": "941e4b7e",
   "metadata": {},
   "outputs": [],
   "source": [
    "theirTree = makingOtherMethodTree.inferTreeFromSeqs(seqs, mu_Var)\n",
    "theirTreeMatrix = np.array(pd.read_csv('otherMethodDistanceMatrix.csv').drop(columns='Unnamed: 0'))"
   ]
  },
  {
   "cell_type": "markdown",
   "id": "e6e8d5cb",
   "metadata": {},
   "source": [
    "## True Matrix"
   ]
  },
  {
   "cell_type": "code",
   "execution_count": null,
   "id": "ecbabce9",
   "metadata": {},
   "outputs": [],
   "source": [
    "trueDistDict = tree.phylogenetic_distance_matrix().as_data_table()._data\n",
    "trueDistMat = np.zeros((5,5))\n",
    "for pair1 in trueDistDict:\n",
    "    for pair2 in trueDistDict:\n",
    "        ind1 = list(seqs.keys()).index(pair1)\n",
    "        ind2 = list(seqs.keys()).index(pair2)  \n",
    "        trueDistMat[ind1][ind2]  = trueDistDict[pair1][pair2]\n",
    "\n",
    "import pandas as pd      \n",
    "print(pd.DataFrame(trueDistMat*mu_Var))"
   ]
  },
  {
   "cell_type": "markdown",
   "id": "8b98f403",
   "metadata": {},
   "source": [
    "## Compare"
   ]
  },
  {
   "cell_type": "code",
   "execution_count": 22,
   "id": "aeedc59e",
   "metadata": {},
   "outputs": [
    {
     "name": "stdout",
     "output_type": "stream",
     "text": [
      "[[1 1]\n",
      " [1 1]]\n",
      "4\n"
     ]
    }
   ],
   "source": [
    "print(np.linalg.norm(finalDistMat*2 - trueDistMat*mu_Var))\n",
    "print(np.linalg.norm(theirTreeMatrix - trueDistMat*mu_Var))"
   ]
  },
  {
   "cell_type": "code",
   "execution_count": 23,
   "outputs": [],
   "source": [
    "def elt_wise_abs_error(X, Y):\n",
    "    X = np.array(X)\n",
    "    Y = np.array(Y)\n",
    "    return np.sum(np.absolute(X - Y))\n",
    "\n",
    "def experiment(size):\n",
    "    seqLenInput = 1e6\n",
    "    initial_size_Var=size\n",
    "    mu_Var = 1e-8\n",
    "    recombination_rate=1e-8\n",
    "\n",
    "    birth_rate = 1000.0\n",
    "    death_rate = 500.0\n",
    "    n_populations = 5\n",
    "    extra_populations = 5 # for \"GSA\" sampling scheme\n",
    "\n",
    "    seqs, tree = MakingSequences.makeSequencesFromScratch(birth_rate, death_rate, n_populations, extra_populations, seqLenInput, initial_size_Var, mu_Var, recombination_rate)\n",
    "\n",
    "    mats = makingFinalReconstructedTreeOurMethod.makeManyMatricesOfDistances(10, seqs)\n",
    "\n",
    "    finalDistMat = makingFinalReconstructedTreeOurMethod.makeFinalDistMatrixFromSmallerOnes(mats)\n",
    "\n",
    "    print(finalDistMat)\n",
    "    average = np.average(finalDistMat)\n",
    "    for i in range(len(finalDistMat[0])):\n",
    "        for j in range(len(finalDistMat[0])):\n",
    "            if i != j:\n",
    "                if finalDistMat[i][j] == 0.0:\n",
    "                    finalDistMat[i][j] += average\n",
    "\n",
    "    theirTree = makingOtherMethodTree.inferTreeFromSeqs(seqs, mu_Var)\n",
    "    theirTreeMatrix = np.array(pd.read_csv('otherMethodDistanceMatrix.csv').drop(columns='Unnamed: 0'))\n",
    "\n",
    "    trueDistDict = tree.phylogenetic_distance_matrix().as_data_table()._data\n",
    "    trueDistMat = np.zeros((5,5))\n",
    "    for pair1 in trueDistDict:\n",
    "        for pair2 in trueDistDict:\n",
    "            ind1 = list(seqs.keys()).index(pair1)\n",
    "            ind2 = list(seqs.keys()).index(pair2)\n",
    "            trueDistMat[ind1][ind2]  = trueDistDict[pair1][pair2]\n",
    "    scale_factor = n_populations*(n_populations - 1)\n",
    "    return elt_wise_abs_error(finalDistMat*2, trueDistMat*mu_Var)/scale_factor, elt_wise_abs_error(theirTreeMatrix,  trueDistMat*mu_Var)/scale_factor\n",
    "\n"
   ],
   "metadata": {
    "collapsed": false
   }
  },
  {
   "cell_type": "code",
   "execution_count": 24,
   "outputs": [
    {
     "name": "stdout",
     "output_type": "stream",
     "text": [
      "Demography\n",
      "╟  Populations\n",
      "║  ┌────────────────────────────────────────────────────────────────────────────────────────────────┐\n",
      "║  │ id │name   │description  │initial_size  │ growth_rate │  default_sampling_time│extra_metadata  │\n",
      "║  ├────────────────────────────────────────────────────────────────────────────────────────────────┤\n",
      "║  │ 0  │T5     │             │1000.0        │      0      │                      0│{}              │\n",
      "║  │ 1  │T1     │             │1000.0        │      0      │                      0│{}              │\n",
      "║  │ 2  │T3     │             │1000.0        │      0      │                      0│{}              │\n",
      "║  │ 3  │T4     │             │1000.0        │      0      │                      0│{}              │\n",
      "║  │ 4  │T2     │             │1000.0        │      0      │                      0│{}              │\n",
      "║  │ 5  │pop_5  │             │1000.0        │      0      │                2.3e+04│{}              │\n",
      "║  │ 6  │pop_6  │             │1000.0        │      0      │                3.6e+04│{}              │\n",
      "║  │ 7  │pop_7  │             │1000.0        │      0      │                3.6e+04│{}              │\n",
      "║  │ 8  │pop_8  │             │1000.0        │      0      │                8.3e+04│{}              │\n",
      "║  └────────────────────────────────────────────────────────────────────────────────────────────────┘\n",
      "╟  Migration Matrix\n",
      "║  ┌────────────────────────────────────────────────────────────────┐\n",
      "║  │       │ T5 │ T1 │ T3 │ T4 │ T2 │ pop_5 │ pop_6 │ pop_7 │ pop_8 │\n",
      "║  ├────────────────────────────────────────────────────────────────┤\n",
      "║  │     T5│ 0  │ 0  │ 0  │ 0  │ 0  │   0   │   0   │   0   │   0   │\n",
      "║  │     T1│ 0  │ 0  │ 0  │ 0  │ 0  │   0   │   0   │   0   │   0   │\n",
      "║  │     T3│ 0  │ 0  │ 0  │ 0  │ 0  │   0   │   0   │   0   │   0   │\n",
      "║  │     T4│ 0  │ 0  │ 0  │ 0  │ 0  │   0   │   0   │   0   │   0   │\n",
      "║  │     T2│ 0  │ 0  │ 0  │ 0  │ 0  │   0   │   0   │   0   │   0   │\n",
      "║  │  pop_5│ 0  │ 0  │ 0  │ 0  │ 0  │   0   │   0   │   0   │   0   │\n",
      "║  │  pop_6│ 0  │ 0  │ 0  │ 0  │ 0  │   0   │   0   │   0   │   0   │\n",
      "║  │  pop_7│ 0  │ 0  │ 0  │ 0  │ 0  │   0   │   0   │   0   │   0   │\n",
      "║  │  pop_8│ 0  │ 0  │ 0  │ 0  │ 0  │   0   │   0   │   0   │   0   │\n",
      "║  └────────────────────────────────────────────────────────────────┘\n",
      "╟  Events\n",
      "║  ┌────────────────────────────────────────────────────────────────────────────────────────┐\n",
      "║  │       time│type        │parameters            │effect                                  │\n",
      "║  ├────────────────────────────────────────────────────────────────────────────────────────┤\n",
      "║  │  2.319e+04│Population  │derived=[T3, T4],     │Moves all lineages from derived         │\n",
      "║  │           │Split       │ancestral=pop_5       │populations 'T3' and 'T4' to the        │\n",
      "║  │           │            │                      │ancestral 'pop_5' population. Also set  │\n",
      "║  │           │            │                      │the derived populations to inactive,    │\n",
      "║  │           │            │                      │and all migration rates to and from     │\n",
      "║  │           │            │                      │the derived populations to zero.        │\n",
      "║  │┈┈┈┈┈┈┈┈┈┈┈┈┈┈┈┈┈┈┈┈┈┈┈┈┈┈┈┈┈┈┈┈┈┈┈┈┈┈┈┈┈┈┈┈┈┈┈┈┈┈┈┈┈┈┈┈┈┈┈┈┈┈┈┈┈┈┈┈┈┈┈┈┈┈┈┈┈┈┈┈┈┈┈┈┈┈┈┈│\n",
      "║  │  3.553e+04│Population  │derived=[T1, pop_5],  │Moves all lineages from derived         │\n",
      "║  │           │Split       │ancestral=pop_6       │populations 'T1' and 'pop_5' to the     │\n",
      "║  │           │            │                      │ancestral 'pop_6' population. Also set  │\n",
      "║  │           │            │                      │the derived populations to inactive,    │\n",
      "║  │           │            │                      │and all migration rates to and from     │\n",
      "║  │           │            │                      │the derived populations to zero.        │\n",
      "║  │┈┈┈┈┈┈┈┈┈┈┈┈┈┈┈┈┈┈┈┈┈┈┈┈┈┈┈┈┈┈┈┈┈┈┈┈┈┈┈┈┈┈┈┈┈┈┈┈┈┈┈┈┈┈┈┈┈┈┈┈┈┈┈┈┈┈┈┈┈┈┈┈┈┈┈┈┈┈┈┈┈┈┈┈┈┈┈┈│\n",
      "║  │  3.595e+04│Population  │derived=[pop_6, T2],  │Moves all lineages from derived         │\n",
      "║  │           │Split       │ancestral=pop_7       │populations 'pop_6' and 'T2' to the     │\n",
      "║  │           │            │                      │ancestral 'pop_7' population. Also set  │\n",
      "║  │           │            │                      │the derived populations to inactive,    │\n",
      "║  │           │            │                      │and all migration rates to and from     │\n",
      "║  │           │            │                      │the derived populations to zero.        │\n",
      "║  │┈┈┈┈┈┈┈┈┈┈┈┈┈┈┈┈┈┈┈┈┈┈┈┈┈┈┈┈┈┈┈┈┈┈┈┈┈┈┈┈┈┈┈┈┈┈┈┈┈┈┈┈┈┈┈┈┈┈┈┈┈┈┈┈┈┈┈┈┈┈┈┈┈┈┈┈┈┈┈┈┈┈┈┈┈┈┈┈│\n",
      "║  │  8.256e+04│Population  │derived=[T5, pop_7],  │Moves all lineages from derived         │\n",
      "║  │           │Split       │ancestral=pop_8       │populations 'T5' and 'pop_7' to the     │\n",
      "║  │           │            │                      │ancestral 'pop_8' population. Also set  │\n",
      "║  │           │            │                      │the derived populations to inactive,    │\n",
      "║  │           │            │                      │and all migration rates to and from     │\n",
      "║  │           │            │                      │the derived populations to zero.        │\n",
      "║  └────────────────────────────────────────────────────────────────────────────────────────┘\n",
      "\n",
      "{0: 'T5', 1: 'T1', 2: 'T3', 3: 'T4', 4: 'T2'}\n",
      "in getting kmer vectors, working on k: 9 seq 0\n",
      "in getting kmer vectors, working on k: 9 seq 1\n",
      "in getting kmer vectors, working on k: 9 seq 2\n",
      "in getting kmer vectors, working on k: 9 seq 3\n",
      "in getting kmer vectors, working on k: 9 seq 4\n",
      "in getting kmer vectors, working on k: 10 seq 0\n",
      "in getting kmer vectors, working on k: 10 seq 1\n",
      "in getting kmer vectors, working on k: 10 seq 2\n",
      "in getting kmer vectors, working on k: 10 seq 3\n",
      "in getting kmer vectors, working on k: 10 seq 4\n",
      "in getting kmer vectors, working on k: 11 seq 0\n",
      "in getting kmer vectors, working on k: 11 seq 1\n",
      "in getting kmer vectors, working on k: 11 seq 2\n",
      "in getting kmer vectors, working on k: 11 seq 3\n",
      "in getting kmer vectors, working on k: 11 seq 4\n",
      "in getting kmer vectors, working on k: 12 seq 0\n",
      "in getting kmer vectors, working on k: 12 seq 1\n",
      "in getting kmer vectors, working on k: 12 seq 2\n",
      "in getting kmer vectors, working on k: 12 seq 3\n",
      "in getting kmer vectors, working on k: 12 seq 4\n",
      "working on inferring 0 1\n",
      "working on inferring 0 2\n",
      "working on inferring 0 3\n"
     ]
    },
    {
     "name": "stderr",
     "output_type": "stream",
     "text": [
      "/Users/teddygilman/PycharmProjects/CAAM476HW1/venv/lib/python3.9/site-packages/scipy/optimize/_minpack_py.py:178: RuntimeWarning: The iteration is not making good progress, as measured by the \n",
      "  improvement from the last ten iterations.\n",
      "  warnings.warn(msg, RuntimeWarning)\n"
     ]
    },
    {
     "name": "stdout",
     "output_type": "stream",
     "text": [
      "working on inferring 0 4\n",
      "working on inferring 1 2\n",
      "working on inferring 1 3\n",
      "working on inferring 1 4\n",
      "working on inferring 2 3\n",
      "working on inferring 2 4\n",
      "working on inferring 3 4\n",
      "in getting kmer vectors, working on k: 9 seq 0\n",
      "in getting kmer vectors, working on k: 9 seq 1\n",
      "in getting kmer vectors, working on k: 9 seq 2\n",
      "in getting kmer vectors, working on k: 9 seq 3\n",
      "in getting kmer vectors, working on k: 9 seq 4\n",
      "in getting kmer vectors, working on k: 10 seq 0\n",
      "in getting kmer vectors, working on k: 10 seq 1\n",
      "in getting kmer vectors, working on k: 10 seq 2\n",
      "in getting kmer vectors, working on k: 10 seq 3\n",
      "in getting kmer vectors, working on k: 10 seq 4\n",
      "in getting kmer vectors, working on k: 11 seq 0\n",
      "in getting kmer vectors, working on k: 11 seq 1\n",
      "in getting kmer vectors, working on k: 11 seq 2\n",
      "in getting kmer vectors, working on k: 11 seq 3\n",
      "in getting kmer vectors, working on k: 11 seq 4\n",
      "in getting kmer vectors, working on k: 12 seq 0\n",
      "in getting kmer vectors, working on k: 12 seq 1\n",
      "in getting kmer vectors, working on k: 12 seq 2\n",
      "in getting kmer vectors, working on k: 12 seq 3\n",
      "in getting kmer vectors, working on k: 12 seq 4\n",
      "working on inferring 0 1\n",
      "working on inferring 0 2\n",
      "working on inferring 0 3\n",
      "working on inferring 0 4\n",
      "working on inferring 1 2\n",
      "working on inferring 1 3\n",
      "working on inferring 1 4\n",
      "working on inferring 2 3\n",
      "working on inferring 2 4\n",
      "working on inferring 3 4\n",
      "in getting kmer vectors, working on k: 9 seq 0\n",
      "in getting kmer vectors, working on k: 9 seq 1\n",
      "in getting kmer vectors, working on k: 9 seq 2\n",
      "in getting kmer vectors, working on k: 9 seq 3\n",
      "in getting kmer vectors, working on k: 9 seq 4\n",
      "in getting kmer vectors, working on k: 10 seq 0\n",
      "in getting kmer vectors, working on k: 10 seq 1\n",
      "in getting kmer vectors, working on k: 10 seq 2\n",
      "in getting kmer vectors, working on k: 10 seq 3\n",
      "in getting kmer vectors, working on k: 10 seq 4\n",
      "in getting kmer vectors, working on k: 11 seq 0\n",
      "in getting kmer vectors, working on k: 11 seq 1\n",
      "in getting kmer vectors, working on k: 11 seq 2\n",
      "in getting kmer vectors, working on k: 11 seq 3\n",
      "in getting kmer vectors, working on k: 11 seq 4\n",
      "in getting kmer vectors, working on k: 12 seq 0\n",
      "in getting kmer vectors, working on k: 12 seq 1\n",
      "in getting kmer vectors, working on k: 12 seq 2\n",
      "in getting kmer vectors, working on k: 12 seq 3\n",
      "in getting kmer vectors, working on k: 12 seq 4\n",
      "working on inferring 0 1\n",
      "working on inferring 0 2\n"
     ]
    },
    {
     "name": "stderr",
     "output_type": "stream",
     "text": [
      "/Users/teddygilman/PycharmProjects/CAAM476HW1/venv/lib/python3.9/site-packages/scipy/optimize/_minpack_py.py:178: RuntimeWarning: The iteration is not making good progress, as measured by the \n",
      "  improvement from the last ten iterations.\n",
      "  warnings.warn(msg, RuntimeWarning)\n"
     ]
    },
    {
     "name": "stdout",
     "output_type": "stream",
     "text": [
      "working on inferring 0 3\n"
     ]
    },
    {
     "name": "stderr",
     "output_type": "stream",
     "text": [
      "/Users/teddygilman/PycharmProjects/CAAM476HW1/venv/lib/python3.9/site-packages/scipy/optimize/_minpack_py.py:178: RuntimeWarning: The iteration is not making good progress, as measured by the \n",
      "  improvement from the last ten iterations.\n",
      "  warnings.warn(msg, RuntimeWarning)\n"
     ]
    },
    {
     "name": "stdout",
     "output_type": "stream",
     "text": [
      "working on inferring 0 4\n",
      "working on inferring 1 2\n",
      "working on inferring 1 3\n",
      "working on inferring 1 4\n",
      "working on inferring 2 3\n"
     ]
    },
    {
     "name": "stderr",
     "output_type": "stream",
     "text": [
      "/Users/teddygilman/PycharmProjects/CAAM476HW1/venv/lib/python3.9/site-packages/scipy/optimize/_minpack_py.py:178: RuntimeWarning: The iteration is not making good progress, as measured by the \n",
      "  improvement from the last ten iterations.\n",
      "  warnings.warn(msg, RuntimeWarning)\n"
     ]
    },
    {
     "name": "stdout",
     "output_type": "stream",
     "text": [
      "working on inferring 2 4\n",
      "working on inferring 3 4\n",
      "in getting kmer vectors, working on k: 9 seq 0\n",
      "in getting kmer vectors, working on k: 9 seq 1\n",
      "in getting kmer vectors, working on k: 9 seq 2\n",
      "in getting kmer vectors, working on k: 9 seq 3\n",
      "in getting kmer vectors, working on k: 9 seq 4\n",
      "in getting kmer vectors, working on k: 10 seq 0\n",
      "in getting kmer vectors, working on k: 10 seq 1\n",
      "in getting kmer vectors, working on k: 10 seq 2\n",
      "in getting kmer vectors, working on k: 10 seq 3\n",
      "in getting kmer vectors, working on k: 10 seq 4\n",
      "in getting kmer vectors, working on k: 11 seq 0\n",
      "in getting kmer vectors, working on k: 11 seq 1\n",
      "in getting kmer vectors, working on k: 11 seq 2\n",
      "in getting kmer vectors, working on k: 11 seq 3\n",
      "in getting kmer vectors, working on k: 11 seq 4\n",
      "in getting kmer vectors, working on k: 12 seq 0\n",
      "in getting kmer vectors, working on k: 12 seq 1\n",
      "in getting kmer vectors, working on k: 12 seq 2\n",
      "in getting kmer vectors, working on k: 12 seq 3\n",
      "in getting kmer vectors, working on k: 12 seq 4\n",
      "working on inferring 0 1\n",
      "working on inferring 0 2\n",
      "working on inferring 0 3\n",
      "working on inferring 0 4\n",
      "working on inferring 1 2\n",
      "working on inferring 1 3\n",
      "working on inferring 1 4\n",
      "working on inferring 2 3\n"
     ]
    },
    {
     "name": "stderr",
     "output_type": "stream",
     "text": [
      "/Users/teddygilman/PycharmProjects/CAAM476HW1/venv/lib/python3.9/site-packages/scipy/optimize/_minpack_py.py:178: RuntimeWarning: The iteration is not making good progress, as measured by the \n",
      "  improvement from the last ten iterations.\n",
      "  warnings.warn(msg, RuntimeWarning)\n"
     ]
    },
    {
     "name": "stdout",
     "output_type": "stream",
     "text": [
      "working on inferring 2 4\n",
      "working on inferring 3 4\n",
      "in getting kmer vectors, working on k: 9 seq 0\n",
      "in getting kmer vectors, working on k: 9 seq 1\n",
      "in getting kmer vectors, working on k: 9 seq 2\n",
      "in getting kmer vectors, working on k: 9 seq 3\n",
      "in getting kmer vectors, working on k: 9 seq 4\n",
      "in getting kmer vectors, working on k: 10 seq 0\n",
      "in getting kmer vectors, working on k: 10 seq 1\n",
      "in getting kmer vectors, working on k: 10 seq 2\n",
      "in getting kmer vectors, working on k: 10 seq 3\n",
      "in getting kmer vectors, working on k: 10 seq 4\n",
      "in getting kmer vectors, working on k: 11 seq 0\n",
      "in getting kmer vectors, working on k: 11 seq 1\n",
      "in getting kmer vectors, working on k: 11 seq 2\n",
      "in getting kmer vectors, working on k: 11 seq 3\n",
      "in getting kmer vectors, working on k: 11 seq 4\n",
      "in getting kmer vectors, working on k: 12 seq 0\n",
      "in getting kmer vectors, working on k: 12 seq 1\n",
      "in getting kmer vectors, working on k: 12 seq 2\n",
      "in getting kmer vectors, working on k: 12 seq 3\n",
      "in getting kmer vectors, working on k: 12 seq 4\n",
      "working on inferring 0 1\n",
      "working on inferring 0 2\n",
      "working on inferring 0 3\n",
      "working on inferring 0 4\n",
      "working on inferring 1 2\n",
      "working on inferring 1 3\n",
      "working on inferring 1 4\n",
      "working on inferring 2 3\n"
     ]
    },
    {
     "name": "stderr",
     "output_type": "stream",
     "text": [
      "/Users/teddygilman/PycharmProjects/CAAM476HW1/venv/lib/python3.9/site-packages/scipy/optimize/_minpack_py.py:178: RuntimeWarning: The iteration is not making good progress, as measured by the \n",
      "  improvement from the last ten iterations.\n",
      "  warnings.warn(msg, RuntimeWarning)\n"
     ]
    },
    {
     "name": "stdout",
     "output_type": "stream",
     "text": [
      "working on inferring 2 4\n",
      "working on inferring 3 4\n",
      "in getting kmer vectors, working on k: 9 seq 0\n",
      "in getting kmer vectors, working on k: 9 seq 1\n",
      "in getting kmer vectors, working on k: 9 seq 2\n",
      "in getting kmer vectors, working on k: 9 seq 3\n",
      "in getting kmer vectors, working on k: 9 seq 4\n",
      "in getting kmer vectors, working on k: 10 seq 0\n",
      "in getting kmer vectors, working on k: 10 seq 1\n",
      "in getting kmer vectors, working on k: 10 seq 2\n",
      "in getting kmer vectors, working on k: 10 seq 3\n",
      "in getting kmer vectors, working on k: 10 seq 4\n",
      "in getting kmer vectors, working on k: 11 seq 0\n",
      "in getting kmer vectors, working on k: 11 seq 1\n",
      "in getting kmer vectors, working on k: 11 seq 2\n",
      "in getting kmer vectors, working on k: 11 seq 3\n",
      "in getting kmer vectors, working on k: 11 seq 4\n",
      "in getting kmer vectors, working on k: 12 seq 0\n",
      "in getting kmer vectors, working on k: 12 seq 1\n",
      "in getting kmer vectors, working on k: 12 seq 2\n",
      "in getting kmer vectors, working on k: 12 seq 3\n",
      "in getting kmer vectors, working on k: 12 seq 4\n",
      "working on inferring 0 1\n"
     ]
    },
    {
     "name": "stderr",
     "output_type": "stream",
     "text": [
      "/Users/teddygilman/PycharmProjects/CAAM476HW1/venv/lib/python3.9/site-packages/scipy/optimize/_minpack_py.py:178: RuntimeWarning: The iteration is not making good progress, as measured by the \n",
      "  improvement from the last ten iterations.\n",
      "  warnings.warn(msg, RuntimeWarning)\n"
     ]
    },
    {
     "name": "stdout",
     "output_type": "stream",
     "text": [
      "working on inferring 0 2\n",
      "working on inferring 0 3\n",
      "working on inferring 0 4\n",
      "working on inferring 1 2\n",
      "working on inferring 1 3\n",
      "working on inferring 1 4\n",
      "working on inferring 2 3\n"
     ]
    },
    {
     "name": "stderr",
     "output_type": "stream",
     "text": [
      "/Users/teddygilman/PycharmProjects/CAAM476HW1/venv/lib/python3.9/site-packages/scipy/optimize/_minpack_py.py:178: RuntimeWarning: The iteration is not making good progress, as measured by the \n",
      "  improvement from the last ten iterations.\n",
      "  warnings.warn(msg, RuntimeWarning)\n"
     ]
    },
    {
     "name": "stdout",
     "output_type": "stream",
     "text": [
      "working on inferring 2 4\n",
      "working on inferring 3 4\n",
      "in getting kmer vectors, working on k: 9 seq 0\n",
      "in getting kmer vectors, working on k: 9 seq 1\n",
      "in getting kmer vectors, working on k: 9 seq 2\n",
      "in getting kmer vectors, working on k: 9 seq 3\n",
      "in getting kmer vectors, working on k: 9 seq 4\n",
      "in getting kmer vectors, working on k: 10 seq 0\n",
      "in getting kmer vectors, working on k: 10 seq 1\n",
      "in getting kmer vectors, working on k: 10 seq 2\n",
      "in getting kmer vectors, working on k: 10 seq 3\n",
      "in getting kmer vectors, working on k: 10 seq 4\n",
      "in getting kmer vectors, working on k: 11 seq 0\n",
      "in getting kmer vectors, working on k: 11 seq 1\n",
      "in getting kmer vectors, working on k: 11 seq 2\n",
      "in getting kmer vectors, working on k: 11 seq 3\n",
      "in getting kmer vectors, working on k: 11 seq 4\n",
      "in getting kmer vectors, working on k: 12 seq 0\n",
      "in getting kmer vectors, working on k: 12 seq 1\n",
      "in getting kmer vectors, working on k: 12 seq 2\n",
      "in getting kmer vectors, working on k: 12 seq 3\n",
      "in getting kmer vectors, working on k: 12 seq 4\n",
      "working on inferring 0 1\n",
      "working on inferring 0 2\n",
      "working on inferring 0 3\n",
      "working on inferring 0 4\n",
      "working on inferring 1 2\n",
      "working on inferring 1 3\n"
     ]
    },
    {
     "name": "stderr",
     "output_type": "stream",
     "text": [
      "/Users/teddygilman/PycharmProjects/CAAM476HW1/venv/lib/python3.9/site-packages/scipy/optimize/_minpack_py.py:178: RuntimeWarning: The iteration is not making good progress, as measured by the \n",
      "  improvement from the last ten iterations.\n",
      "  warnings.warn(msg, RuntimeWarning)\n"
     ]
    },
    {
     "name": "stdout",
     "output_type": "stream",
     "text": [
      "working on inferring 1 4\n",
      "working on inferring 2 3\n"
     ]
    },
    {
     "name": "stderr",
     "output_type": "stream",
     "text": [
      "/Users/teddygilman/PycharmProjects/CAAM476HW1/venv/lib/python3.9/site-packages/scipy/optimize/_minpack_py.py:178: RuntimeWarning: The iteration is not making good progress, as measured by the \n",
      "  improvement from the last ten iterations.\n",
      "  warnings.warn(msg, RuntimeWarning)\n"
     ]
    },
    {
     "name": "stdout",
     "output_type": "stream",
     "text": [
      "working on inferring 2 4\n",
      "working on inferring 3 4\n",
      "in getting kmer vectors, working on k: 9 seq 0\n",
      "in getting kmer vectors, working on k: 9 seq 1\n",
      "in getting kmer vectors, working on k: 9 seq 2\n",
      "in getting kmer vectors, working on k: 9 seq 3\n",
      "in getting kmer vectors, working on k: 9 seq 4\n",
      "in getting kmer vectors, working on k: 10 seq 0\n",
      "in getting kmer vectors, working on k: 10 seq 1\n",
      "in getting kmer vectors, working on k: 10 seq 2\n",
      "in getting kmer vectors, working on k: 10 seq 3\n",
      "in getting kmer vectors, working on k: 10 seq 4\n",
      "in getting kmer vectors, working on k: 11 seq 0\n",
      "in getting kmer vectors, working on k: 11 seq 1\n",
      "in getting kmer vectors, working on k: 11 seq 2\n",
      "in getting kmer vectors, working on k: 11 seq 3\n",
      "in getting kmer vectors, working on k: 11 seq 4\n",
      "in getting kmer vectors, working on k: 12 seq 0\n",
      "in getting kmer vectors, working on k: 12 seq 1\n",
      "in getting kmer vectors, working on k: 12 seq 2\n",
      "in getting kmer vectors, working on k: 12 seq 3\n",
      "in getting kmer vectors, working on k: 12 seq 4\n",
      "working on inferring 0 1\n",
      "working on inferring 0 2\n",
      "working on inferring 0 3\n",
      "working on inferring 0 4\n",
      "working on inferring 1 2\n",
      "working on inferring 1 3\n"
     ]
    },
    {
     "name": "stderr",
     "output_type": "stream",
     "text": [
      "/Users/teddygilman/PycharmProjects/CAAM476HW1/venv/lib/python3.9/site-packages/scipy/optimize/_minpack_py.py:178: RuntimeWarning: The iteration is not making good progress, as measured by the \n",
      "  improvement from the last ten iterations.\n",
      "  warnings.warn(msg, RuntimeWarning)\n"
     ]
    },
    {
     "name": "stdout",
     "output_type": "stream",
     "text": [
      "working on inferring 1 4\n",
      "working on inferring 2 3\n"
     ]
    },
    {
     "name": "stderr",
     "output_type": "stream",
     "text": [
      "/Users/teddygilman/PycharmProjects/CAAM476HW1/venv/lib/python3.9/site-packages/scipy/optimize/_minpack_py.py:178: RuntimeWarning: The iteration is not making good progress, as measured by the \n",
      "  improvement from the last ten iterations.\n",
      "  warnings.warn(msg, RuntimeWarning)\n"
     ]
    },
    {
     "name": "stdout",
     "output_type": "stream",
     "text": [
      "working on inferring 2 4\n"
     ]
    },
    {
     "name": "stderr",
     "output_type": "stream",
     "text": [
      "/Users/teddygilman/PycharmProjects/CAAM476HW1/venv/lib/python3.9/site-packages/scipy/optimize/_minpack_py.py:178: RuntimeWarning: The iteration is not making good progress, as measured by the \n",
      "  improvement from the last ten iterations.\n",
      "  warnings.warn(msg, RuntimeWarning)\n"
     ]
    },
    {
     "name": "stdout",
     "output_type": "stream",
     "text": [
      "working on inferring 3 4\n",
      "in getting kmer vectors, working on k: 9 seq 0\n",
      "in getting kmer vectors, working on k: 9 seq 1\n",
      "in getting kmer vectors, working on k: 9 seq 2\n",
      "in getting kmer vectors, working on k: 9 seq 3\n",
      "in getting kmer vectors, working on k: 9 seq 4\n",
      "in getting kmer vectors, working on k: 10 seq 0\n",
      "in getting kmer vectors, working on k: 10 seq 1\n",
      "in getting kmer vectors, working on k: 10 seq 2\n",
      "in getting kmer vectors, working on k: 10 seq 3\n",
      "in getting kmer vectors, working on k: 10 seq 4\n",
      "in getting kmer vectors, working on k: 11 seq 0\n",
      "in getting kmer vectors, working on k: 11 seq 1\n",
      "in getting kmer vectors, working on k: 11 seq 2\n",
      "in getting kmer vectors, working on k: 11 seq 3\n",
      "in getting kmer vectors, working on k: 11 seq 4\n",
      "in getting kmer vectors, working on k: 12 seq 0\n",
      "in getting kmer vectors, working on k: 12 seq 1\n",
      "in getting kmer vectors, working on k: 12 seq 2\n",
      "in getting kmer vectors, working on k: 12 seq 3\n",
      "in getting kmer vectors, working on k: 12 seq 4\n",
      "working on inferring 0 1\n",
      "working on inferring 0 2\n",
      "working on inferring 0 3\n",
      "working on inferring 0 4\n",
      "working on inferring 1 2\n",
      "working on inferring 1 3\n",
      "working on inferring 1 4\n",
      "working on inferring 2 3\n"
     ]
    },
    {
     "name": "stderr",
     "output_type": "stream",
     "text": [
      "/Users/teddygilman/PycharmProjects/CAAM476HW1/venv/lib/python3.9/site-packages/scipy/optimize/_minpack_py.py:178: RuntimeWarning: The iteration is not making good progress, as measured by the \n",
      "  improvement from the last ten iterations.\n",
      "  warnings.warn(msg, RuntimeWarning)\n"
     ]
    },
    {
     "name": "stdout",
     "output_type": "stream",
     "text": [
      "working on inferring 2 4\n",
      "working on inferring 3 4\n",
      "in getting kmer vectors, working on k: 9 seq 0\n",
      "in getting kmer vectors, working on k: 9 seq 1\n",
      "in getting kmer vectors, working on k: 9 seq 2\n",
      "in getting kmer vectors, working on k: 9 seq 3\n",
      "in getting kmer vectors, working on k: 9 seq 4\n",
      "in getting kmer vectors, working on k: 10 seq 0\n",
      "in getting kmer vectors, working on k: 10 seq 1\n",
      "in getting kmer vectors, working on k: 10 seq 2\n",
      "in getting kmer vectors, working on k: 10 seq 3\n",
      "in getting kmer vectors, working on k: 10 seq 4\n",
      "in getting kmer vectors, working on k: 11 seq 0\n",
      "in getting kmer vectors, working on k: 11 seq 1\n",
      "in getting kmer vectors, working on k: 11 seq 2\n",
      "in getting kmer vectors, working on k: 11 seq 3\n",
      "in getting kmer vectors, working on k: 11 seq 4\n",
      "in getting kmer vectors, working on k: 12 seq 0\n",
      "in getting kmer vectors, working on k: 12 seq 1\n",
      "in getting kmer vectors, working on k: 12 seq 2\n",
      "in getting kmer vectors, working on k: 12 seq 3\n",
      "in getting kmer vectors, working on k: 12 seq 4\n",
      "working on inferring 0 1\n",
      "working on inferring 0 2\n",
      "working on inferring 0 3\n",
      "working on inferring 0 4\n",
      "working on inferring 1 2\n",
      "working on inferring 1 3\n",
      "working on inferring 1 4\n",
      "working on inferring 2 3\n"
     ]
    },
    {
     "name": "stderr",
     "output_type": "stream",
     "text": [
      "/Users/teddygilman/PycharmProjects/CAAM476HW1/venv/lib/python3.9/site-packages/scipy/optimize/_minpack_py.py:178: RuntimeWarning: The iteration is not making good progress, as measured by the \n",
      "  improvement from the last ten iterations.\n",
      "  warnings.warn(msg, RuntimeWarning)\n"
     ]
    },
    {
     "name": "stdout",
     "output_type": "stream",
     "text": [
      "working on inferring 2 4\n",
      "working on inferring 3 4\n"
     ]
    },
    {
     "name": "stderr",
     "output_type": "stream",
     "text": [
      "/Users/teddygilman/PycharmProjects/CAAM476HW1/venv/lib/python3.9/site-packages/scipy/optimize/_minpack_py.py:178: RuntimeWarning: The iteration is not making good progress, as measured by the \n",
      "  improvement from the last ten iterations.\n",
      "  warnings.warn(msg, RuntimeWarning)\n"
     ]
    },
    {
     "name": "stdout",
     "output_type": "stream",
     "text": [
      "[[10.  5.  6.  6.  3.]\n",
      " [ 5. 10.  3.  0.  1.]\n",
      " [ 6.  3. 10.  1.  2.]\n",
      " [ 6.  0.  1. 10.  2.]\n",
      " [ 3.  1.  2.  2. 10.]]\n",
      "fail\n",
      "          0         1         2         3         4\n",
      "0  0.000000  0.001012  0.000685  0.000767  0.000461\n",
      "1  0.001012  0.000000  0.000203  0.000000  0.000477\n",
      "2  0.000685  0.000203  0.000000  0.000241  0.000250\n",
      "3  0.000767  0.000000  0.000241  0.000000  0.000509\n",
      "4  0.000461  0.000477  0.000250  0.000509  0.000000\n",
      "T5  0.000000\n",
      "T1  0.001672    0.000000\n",
      "T3  0.001680    0.000695    0.000000\n",
      "T4  0.001682    0.000697    0.000448    0.000000\n",
      "T2  0.001676    0.000695    0.000712    0.000714    0.000000\n",
      "    T5  T1  T3  T4  T2\n",
      "Demography\n",
      "╟  Populations\n",
      "║  ┌────────────────────────────────────────────────────────────────────────────────────────────────┐\n",
      "║  │ id │name   │description  │initial_size  │ growth_rate │  default_sampling_time│extra_metadata  │\n",
      "║  ├────────────────────────────────────────────────────────────────────────────────────────────────┤\n",
      "║  │ 0  │T3     │             │1000.0        │      0      │                      0│{}              │\n",
      "║  │ 1  │T1     │             │1000.0        │      0      │                      0│{}              │\n",
      "║  │ 2  │T5     │             │1000.0        │      0      │                      0│{}              │\n",
      "║  │ 3  │T4     │             │1000.0        │      0      │                      0│{}              │\n",
      "║  │ 4  │T2     │             │1000.0        │      0      │                      0│{}              │\n",
      "║  │ 5  │pop_5  │             │1000.0        │      0      │                4.1e+04│{}              │\n",
      "║  │ 6  │pop_6  │             │1000.0        │      0      │                  8e+04│{}              │\n",
      "║  │ 7  │pop_7  │             │1000.0        │      0      │                1.1e+05│{}              │\n",
      "║  │ 8  │pop_8  │             │1000.0        │      0      │                1.2e+05│{}              │\n",
      "║  └────────────────────────────────────────────────────────────────────────────────────────────────┘\n",
      "╟  Migration Matrix\n",
      "║  ┌────────────────────────────────────────────────────────────────┐\n",
      "║  │       │ T3 │ T1 │ T5 │ T4 │ T2 │ pop_5 │ pop_6 │ pop_7 │ pop_8 │\n",
      "║  ├────────────────────────────────────────────────────────────────┤\n",
      "║  │     T3│ 0  │ 0  │ 0  │ 0  │ 0  │   0   │   0   │   0   │   0   │\n",
      "║  │     T1│ 0  │ 0  │ 0  │ 0  │ 0  │   0   │   0   │   0   │   0   │\n",
      "║  │     T5│ 0  │ 0  │ 0  │ 0  │ 0  │   0   │   0   │   0   │   0   │\n",
      "║  │     T4│ 0  │ 0  │ 0  │ 0  │ 0  │   0   │   0   │   0   │   0   │\n",
      "║  │     T2│ 0  │ 0  │ 0  │ 0  │ 0  │   0   │   0   │   0   │   0   │\n",
      "║  │  pop_5│ 0  │ 0  │ 0  │ 0  │ 0  │   0   │   0   │   0   │   0   │\n",
      "║  │  pop_6│ 0  │ 0  │ 0  │ 0  │ 0  │   0   │   0   │   0   │   0   │\n",
      "║  │  pop_7│ 0  │ 0  │ 0  │ 0  │ 0  │   0   │   0   │   0   │   0   │\n",
      "║  │  pop_8│ 0  │ 0  │ 0  │ 0  │ 0  │   0   │   0   │   0   │   0   │\n",
      "║  └────────────────────────────────────────────────────────────────┘\n",
      "╟  Events\n",
      "║  ┌────────────────────────────────────────────────────────────────────────────────────────┐\n",
      "║  │       time│type        │parameters            │effect                                  │\n",
      "║  ├────────────────────────────────────────────────────────────────────────────────────────┤\n",
      "║  │  4.072e+04│Population  │derived=[T3, T1],     │Moves all lineages from derived         │\n",
      "║  │           │Split       │ancestral=pop_5       │populations 'T3' and 'T1' to the        │\n",
      "║  │           │            │                      │ancestral 'pop_5' population. Also set  │\n",
      "║  │           │            │                      │the derived populations to inactive,    │\n",
      "║  │           │            │                      │and all migration rates to and from     │\n",
      "║  │           │            │                      │the derived populations to zero.        │\n",
      "║  │┈┈┈┈┈┈┈┈┈┈┈┈┈┈┈┈┈┈┈┈┈┈┈┈┈┈┈┈┈┈┈┈┈┈┈┈┈┈┈┈┈┈┈┈┈┈┈┈┈┈┈┈┈┈┈┈┈┈┈┈┈┈┈┈┈┈┈┈┈┈┈┈┈┈┈┈┈┈┈┈┈┈┈┈┈┈┈┈│\n",
      "║  │  7.991e+04│Population  │derived=[T5, T4],     │Moves all lineages from derived         │\n",
      "║  │           │Split       │ancestral=pop_6       │populations 'T5' and 'T4' to the        │\n",
      "║  │           │            │                      │ancestral 'pop_6' population. Also set  │\n",
      "║  │           │            │                      │the derived populations to inactive,    │\n",
      "║  │           │            │                      │and all migration rates to and from     │\n",
      "║  │           │            │                      │the derived populations to zero.        │\n",
      "║  │┈┈┈┈┈┈┈┈┈┈┈┈┈┈┈┈┈┈┈┈┈┈┈┈┈┈┈┈┈┈┈┈┈┈┈┈┈┈┈┈┈┈┈┈┈┈┈┈┈┈┈┈┈┈┈┈┈┈┈┈┈┈┈┈┈┈┈┈┈┈┈┈┈┈┈┈┈┈┈┈┈┈┈┈┈┈┈┈│\n",
      "║  │  1.143e+05│Population  │derived=[pop_6, T2],  │Moves all lineages from derived         │\n",
      "║  │           │Split       │ancestral=pop_7       │populations 'pop_6' and 'T2' to the     │\n",
      "║  │           │            │                      │ancestral 'pop_7' population. Also set  │\n",
      "║  │           │            │                      │the derived populations to inactive,    │\n",
      "║  │           │            │                      │and all migration rates to and from     │\n",
      "║  │           │            │                      │the derived populations to zero.        │\n",
      "║  │┈┈┈┈┈┈┈┈┈┈┈┈┈┈┈┈┈┈┈┈┈┈┈┈┈┈┈┈┈┈┈┈┈┈┈┈┈┈┈┈┈┈┈┈┈┈┈┈┈┈┈┈┈┈┈┈┈┈┈┈┈┈┈┈┈┈┈┈┈┈┈┈┈┈┈┈┈┈┈┈┈┈┈┈┈┈┈┈│\n",
      "║  │  1.207e+05│Population  │derived=[pop_5,       │Moves all lineages from derived         │\n",
      "║  │           │Split       │pop_7],               │populations 'pop_5' and 'pop_7' to the  │\n",
      "║  │           │            │ancestral=pop_8       │ancestral 'pop_8' population. Also set  │\n",
      "║  │           │            │                      │the derived populations to inactive,    │\n",
      "║  │           │            │                      │and all migration rates to and from     │\n",
      "║  │           │            │                      │the derived populations to zero.        │\n",
      "║  └────────────────────────────────────────────────────────────────────────────────────────┘\n",
      "\n",
      "{0: 'T3', 1: 'T1', 2: 'T5', 3: 'T4', 4: 'T2'}\n",
      "in getting kmer vectors, working on k: 9 seq 0\n",
      "in getting kmer vectors, working on k: 9 seq 1\n",
      "in getting kmer vectors, working on k: 9 seq 2\n",
      "in getting kmer vectors, working on k: 9 seq 3\n",
      "in getting kmer vectors, working on k: 9 seq 4\n",
      "in getting kmer vectors, working on k: 10 seq 0\n",
      "in getting kmer vectors, working on k: 10 seq 1\n",
      "in getting kmer vectors, working on k: 10 seq 2\n",
      "in getting kmer vectors, working on k: 10 seq 3\n",
      "in getting kmer vectors, working on k: 10 seq 4\n",
      "in getting kmer vectors, working on k: 11 seq 0\n",
      "in getting kmer vectors, working on k: 11 seq 1\n",
      "in getting kmer vectors, working on k: 11 seq 2\n",
      "in getting kmer vectors, working on k: 11 seq 3\n",
      "in getting kmer vectors, working on k: 11 seq 4\n",
      "in getting kmer vectors, working on k: 12 seq 0\n",
      "in getting kmer vectors, working on k: 12 seq 1\n",
      "in getting kmer vectors, working on k: 12 seq 2\n",
      "in getting kmer vectors, working on k: 12 seq 3\n",
      "in getting kmer vectors, working on k: 12 seq 4\n",
      "working on inferring 0 1\n",
      "working on inferring 0 2\n",
      "working on inferring 0 3\n"
     ]
    },
    {
     "name": "stderr",
     "output_type": "stream",
     "text": [
      "/Users/teddygilman/PycharmProjects/CAAM476HW1/venv/lib/python3.9/site-packages/scipy/optimize/_minpack_py.py:178: RuntimeWarning: The iteration is not making good progress, as measured by the \n",
      "  improvement from the last ten iterations.\n",
      "  warnings.warn(msg, RuntimeWarning)\n"
     ]
    },
    {
     "name": "stdout",
     "output_type": "stream",
     "text": [
      "working on inferring 0 4\n",
      "working on inferring 1 2\n",
      "working on inferring 1 3\n",
      "working on inferring 1 4\n"
     ]
    },
    {
     "name": "stderr",
     "output_type": "stream",
     "text": [
      "/Users/teddygilman/PycharmProjects/CAAM476HW1/venv/lib/python3.9/site-packages/scipy/optimize/_minpack_py.py:178: RuntimeWarning: The iteration is not making good progress, as measured by the \n",
      "  improvement from the last ten iterations.\n",
      "  warnings.warn(msg, RuntimeWarning)\n"
     ]
    },
    {
     "name": "stdout",
     "output_type": "stream",
     "text": [
      "working on inferring 2 3\n",
      "working on inferring 2 4\n"
     ]
    },
    {
     "name": "stderr",
     "output_type": "stream",
     "text": [
      "/Users/teddygilman/PycharmProjects/CAAM476HW1/venv/lib/python3.9/site-packages/scipy/optimize/_minpack_py.py:178: RuntimeWarning: The iteration is not making good progress, as measured by the \n",
      "  improvement from the last ten iterations.\n",
      "  warnings.warn(msg, RuntimeWarning)\n"
     ]
    },
    {
     "name": "stdout",
     "output_type": "stream",
     "text": [
      "working on inferring 3 4\n",
      "in getting kmer vectors, working on k: 9 seq 0\n",
      "in getting kmer vectors, working on k: 9 seq 1\n",
      "in getting kmer vectors, working on k: 9 seq 2\n",
      "in getting kmer vectors, working on k: 9 seq 3\n",
      "in getting kmer vectors, working on k: 9 seq 4\n",
      "in getting kmer vectors, working on k: 10 seq 0\n",
      "in getting kmer vectors, working on k: 10 seq 1\n",
      "in getting kmer vectors, working on k: 10 seq 2\n",
      "in getting kmer vectors, working on k: 10 seq 3\n",
      "in getting kmer vectors, working on k: 10 seq 4\n",
      "in getting kmer vectors, working on k: 11 seq 0\n",
      "in getting kmer vectors, working on k: 11 seq 1\n",
      "in getting kmer vectors, working on k: 11 seq 2\n",
      "in getting kmer vectors, working on k: 11 seq 3\n",
      "in getting kmer vectors, working on k: 11 seq 4\n",
      "in getting kmer vectors, working on k: 12 seq 0\n",
      "in getting kmer vectors, working on k: 12 seq 1\n",
      "in getting kmer vectors, working on k: 12 seq 2\n",
      "in getting kmer vectors, working on k: 12 seq 3\n",
      "in getting kmer vectors, working on k: 12 seq 4\n",
      "working on inferring 0 1\n",
      "working on inferring 0 2\n",
      "working on inferring 0 3\n",
      "working on inferring 0 4\n",
      "working on inferring 1 2\n"
     ]
    },
    {
     "name": "stderr",
     "output_type": "stream",
     "text": [
      "/Users/teddygilman/PycharmProjects/CAAM476HW1/venv/lib/python3.9/site-packages/scipy/optimize/_minpack_py.py:178: RuntimeWarning: The iteration is not making good progress, as measured by the \n",
      "  improvement from the last ten iterations.\n",
      "  warnings.warn(msg, RuntimeWarning)\n"
     ]
    },
    {
     "name": "stdout",
     "output_type": "stream",
     "text": [
      "working on inferring 1 3\n"
     ]
    },
    {
     "name": "stderr",
     "output_type": "stream",
     "text": [
      "/Users/teddygilman/PycharmProjects/CAAM476HW1/venv/lib/python3.9/site-packages/scipy/optimize/_minpack_py.py:178: RuntimeWarning: The iteration is not making good progress, as measured by the \n",
      "  improvement from the last ten iterations.\n",
      "  warnings.warn(msg, RuntimeWarning)\n"
     ]
    },
    {
     "name": "stdout",
     "output_type": "stream",
     "text": [
      "working on inferring 1 4\n",
      "working on inferring 2 3\n",
      "working on inferring 2 4\n",
      "working on inferring 3 4\n"
     ]
    },
    {
     "name": "stderr",
     "output_type": "stream",
     "text": [
      "/Users/teddygilman/PycharmProjects/CAAM476HW1/venv/lib/python3.9/site-packages/scipy/optimize/_minpack_py.py:178: RuntimeWarning: The iteration is not making good progress, as measured by the \n",
      "  improvement from the last ten iterations.\n",
      "  warnings.warn(msg, RuntimeWarning)\n"
     ]
    },
    {
     "name": "stdout",
     "output_type": "stream",
     "text": [
      "in getting kmer vectors, working on k: 9 seq 0\n",
      "in getting kmer vectors, working on k: 9 seq 1\n",
      "in getting kmer vectors, working on k: 9 seq 2\n",
      "in getting kmer vectors, working on k: 9 seq 3\n",
      "in getting kmer vectors, working on k: 9 seq 4\n",
      "in getting kmer vectors, working on k: 10 seq 0\n",
      "in getting kmer vectors, working on k: 10 seq 1\n",
      "in getting kmer vectors, working on k: 10 seq 2\n",
      "in getting kmer vectors, working on k: 10 seq 3\n",
      "in getting kmer vectors, working on k: 10 seq 4\n",
      "in getting kmer vectors, working on k: 11 seq 0\n",
      "in getting kmer vectors, working on k: 11 seq 1\n",
      "in getting kmer vectors, working on k: 11 seq 2\n",
      "in getting kmer vectors, working on k: 11 seq 3\n",
      "in getting kmer vectors, working on k: 11 seq 4\n",
      "in getting kmer vectors, working on k: 12 seq 0\n",
      "in getting kmer vectors, working on k: 12 seq 1\n",
      "in getting kmer vectors, working on k: 12 seq 2\n",
      "in getting kmer vectors, working on k: 12 seq 3\n",
      "in getting kmer vectors, working on k: 12 seq 4\n",
      "working on inferring 0 1\n",
      "working on inferring 0 2\n",
      "working on inferring 0 3\n",
      "working on inferring 0 4\n",
      "working on inferring 1 2\n",
      "working on inferring 1 3\n"
     ]
    },
    {
     "name": "stderr",
     "output_type": "stream",
     "text": [
      "/Users/teddygilman/PycharmProjects/CAAM476HW1/venv/lib/python3.9/site-packages/scipy/optimize/_minpack_py.py:178: RuntimeWarning: The iteration is not making good progress, as measured by the \n",
      "  improvement from the last ten iterations.\n",
      "  warnings.warn(msg, RuntimeWarning)\n"
     ]
    },
    {
     "name": "stdout",
     "output_type": "stream",
     "text": [
      "working on inferring 1 4\n",
      "working on inferring 2 3\n",
      "working on inferring 2 4\n",
      "working on inferring 3 4\n"
     ]
    },
    {
     "name": "stderr",
     "output_type": "stream",
     "text": [
      "/Users/teddygilman/PycharmProjects/CAAM476HW1/venv/lib/python3.9/site-packages/scipy/optimize/_minpack_py.py:178: RuntimeWarning: The iteration is not making good progress, as measured by the \n",
      "  improvement from the last ten iterations.\n",
      "  warnings.warn(msg, RuntimeWarning)\n"
     ]
    },
    {
     "name": "stdout",
     "output_type": "stream",
     "text": [
      "in getting kmer vectors, working on k: 9 seq 0\n",
      "in getting kmer vectors, working on k: 9 seq 1\n",
      "in getting kmer vectors, working on k: 9 seq 2\n",
      "in getting kmer vectors, working on k: 9 seq 3\n",
      "in getting kmer vectors, working on k: 9 seq 4\n",
      "in getting kmer vectors, working on k: 10 seq 0\n",
      "in getting kmer vectors, working on k: 10 seq 1\n",
      "in getting kmer vectors, working on k: 10 seq 2\n",
      "in getting kmer vectors, working on k: 10 seq 3\n",
      "in getting kmer vectors, working on k: 10 seq 4\n",
      "in getting kmer vectors, working on k: 11 seq 0\n",
      "in getting kmer vectors, working on k: 11 seq 1\n",
      "in getting kmer vectors, working on k: 11 seq 2\n",
      "in getting kmer vectors, working on k: 11 seq 3\n",
      "in getting kmer vectors, working on k: 11 seq 4\n",
      "in getting kmer vectors, working on k: 12 seq 0\n",
      "in getting kmer vectors, working on k: 12 seq 1\n",
      "in getting kmer vectors, working on k: 12 seq 2\n",
      "in getting kmer vectors, working on k: 12 seq 3\n",
      "in getting kmer vectors, working on k: 12 seq 4\n",
      "working on inferring 0 1\n",
      "working on inferring 0 2\n",
      "working on inferring 0 3\n"
     ]
    },
    {
     "name": "stderr",
     "output_type": "stream",
     "text": [
      "/Users/teddygilman/PycharmProjects/CAAM476HW1/venv/lib/python3.9/site-packages/scipy/optimize/_minpack_py.py:178: RuntimeWarning: The iteration is not making good progress, as measured by the \n",
      "  improvement from the last ten iterations.\n",
      "  warnings.warn(msg, RuntimeWarning)\n"
     ]
    },
    {
     "name": "stdout",
     "output_type": "stream",
     "text": [
      "working on inferring 0 4\n",
      "working on inferring 1 2\n",
      "working on inferring 1 3\n"
     ]
    },
    {
     "name": "stderr",
     "output_type": "stream",
     "text": [
      "/Users/teddygilman/PycharmProjects/CAAM476HW1/venv/lib/python3.9/site-packages/scipy/optimize/_minpack_py.py:178: RuntimeWarning: The iteration is not making good progress, as measured by the \n",
      "  improvement from the last ten iterations.\n",
      "  warnings.warn(msg, RuntimeWarning)\n"
     ]
    },
    {
     "name": "stdout",
     "output_type": "stream",
     "text": [
      "working on inferring 1 4\n",
      "working on inferring 2 3\n",
      "working on inferring 2 4\n",
      "working on inferring 3 4\n",
      "in getting kmer vectors, working on k: 9 seq 0\n",
      "in getting kmer vectors, working on k: 9 seq 1\n",
      "in getting kmer vectors, working on k: 9 seq 2\n",
      "in getting kmer vectors, working on k: 9 seq 3\n",
      "in getting kmer vectors, working on k: 9 seq 4\n",
      "in getting kmer vectors, working on k: 10 seq 0\n",
      "in getting kmer vectors, working on k: 10 seq 1\n",
      "in getting kmer vectors, working on k: 10 seq 2\n",
      "in getting kmer vectors, working on k: 10 seq 3\n",
      "in getting kmer vectors, working on k: 10 seq 4\n",
      "in getting kmer vectors, working on k: 11 seq 0\n",
      "in getting kmer vectors, working on k: 11 seq 1\n",
      "in getting kmer vectors, working on k: 11 seq 2\n",
      "in getting kmer vectors, working on k: 11 seq 3\n",
      "in getting kmer vectors, working on k: 11 seq 4\n",
      "in getting kmer vectors, working on k: 12 seq 0\n",
      "in getting kmer vectors, working on k: 12 seq 1\n",
      "in getting kmer vectors, working on k: 12 seq 2\n",
      "in getting kmer vectors, working on k: 12 seq 3\n",
      "in getting kmer vectors, working on k: 12 seq 4\n",
      "working on inferring 0 1\n",
      "working on inferring 0 2\n",
      "working on inferring 0 3\n",
      "working on inferring 0 4\n"
     ]
    },
    {
     "name": "stderr",
     "output_type": "stream",
     "text": [
      "/Users/teddygilman/PycharmProjects/CAAM476HW1/venv/lib/python3.9/site-packages/scipy/optimize/_minpack_py.py:178: RuntimeWarning: The iteration is not making good progress, as measured by the \n",
      "  improvement from the last ten iterations.\n",
      "  warnings.warn(msg, RuntimeWarning)\n"
     ]
    },
    {
     "name": "stdout",
     "output_type": "stream",
     "text": [
      "working on inferring 1 2\n",
      "working on inferring 1 3\n",
      "working on inferring 1 4\n"
     ]
    },
    {
     "name": "stderr",
     "output_type": "stream",
     "text": [
      "/Users/teddygilman/PycharmProjects/CAAM476HW1/venv/lib/python3.9/site-packages/scipy/optimize/_minpack_py.py:178: RuntimeWarning: The iteration is not making good progress, as measured by the \n",
      "  improvement from the last ten iterations.\n",
      "  warnings.warn(msg, RuntimeWarning)\n"
     ]
    },
    {
     "name": "stdout",
     "output_type": "stream",
     "text": [
      "working on inferring 2 3\n",
      "working on inferring 2 4\n"
     ]
    },
    {
     "name": "stderr",
     "output_type": "stream",
     "text": [
      "/Users/teddygilman/PycharmProjects/CAAM476HW1/venv/lib/python3.9/site-packages/scipy/optimize/_minpack_py.py:178: RuntimeWarning: The iteration is not making good progress, as measured by the \n",
      "  improvement from the last ten iterations.\n",
      "  warnings.warn(msg, RuntimeWarning)\n"
     ]
    },
    {
     "name": "stdout",
     "output_type": "stream",
     "text": [
      "working on inferring 3 4\n",
      "in getting kmer vectors, working on k: 9 seq 0\n",
      "in getting kmer vectors, working on k: 9 seq 1\n",
      "in getting kmer vectors, working on k: 9 seq 2\n",
      "in getting kmer vectors, working on k: 9 seq 3\n",
      "in getting kmer vectors, working on k: 9 seq 4\n",
      "in getting kmer vectors, working on k: 10 seq 0\n",
      "in getting kmer vectors, working on k: 10 seq 1\n",
      "in getting kmer vectors, working on k: 10 seq 2\n",
      "in getting kmer vectors, working on k: 10 seq 3\n",
      "in getting kmer vectors, working on k: 10 seq 4\n",
      "in getting kmer vectors, working on k: 11 seq 0\n",
      "in getting kmer vectors, working on k: 11 seq 1\n",
      "in getting kmer vectors, working on k: 11 seq 2\n",
      "in getting kmer vectors, working on k: 11 seq 3\n",
      "in getting kmer vectors, working on k: 11 seq 4\n",
      "in getting kmer vectors, working on k: 12 seq 0\n",
      "in getting kmer vectors, working on k: 12 seq 1\n",
      "in getting kmer vectors, working on k: 12 seq 2\n",
      "in getting kmer vectors, working on k: 12 seq 3\n",
      "in getting kmer vectors, working on k: 12 seq 4\n",
      "working on inferring 0 1\n",
      "working on inferring 0 2\n",
      "working on inferring 0 3\n"
     ]
    },
    {
     "name": "stderr",
     "output_type": "stream",
     "text": [
      "/Users/teddygilman/PycharmProjects/CAAM476HW1/venv/lib/python3.9/site-packages/scipy/optimize/_minpack_py.py:178: RuntimeWarning: The iteration is not making good progress, as measured by the \n",
      "  improvement from the last ten iterations.\n",
      "  warnings.warn(msg, RuntimeWarning)\n"
     ]
    },
    {
     "name": "stdout",
     "output_type": "stream",
     "text": [
      "working on inferring 0 4\n",
      "working on inferring 1 2\n",
      "working on inferring 1 3\n",
      "working on inferring 1 4\n",
      "working on inferring 2 3\n",
      "working on inferring 2 4\n",
      "working on inferring 3 4\n"
     ]
    },
    {
     "name": "stderr",
     "output_type": "stream",
     "text": [
      "/Users/teddygilman/PycharmProjects/CAAM476HW1/venv/lib/python3.9/site-packages/scipy/optimize/_minpack_py.py:178: RuntimeWarning: The iteration is not making good progress, as measured by the \n",
      "  improvement from the last ten iterations.\n",
      "  warnings.warn(msg, RuntimeWarning)\n"
     ]
    },
    {
     "name": "stdout",
     "output_type": "stream",
     "text": [
      "in getting kmer vectors, working on k: 9 seq 0\n",
      "in getting kmer vectors, working on k: 9 seq 1\n",
      "in getting kmer vectors, working on k: 9 seq 2\n",
      "in getting kmer vectors, working on k: 9 seq 3\n",
      "in getting kmer vectors, working on k: 9 seq 4\n",
      "in getting kmer vectors, working on k: 10 seq 0\n",
      "in getting kmer vectors, working on k: 10 seq 1\n",
      "in getting kmer vectors, working on k: 10 seq 2\n",
      "in getting kmer vectors, working on k: 10 seq 3\n",
      "in getting kmer vectors, working on k: 10 seq 4\n",
      "in getting kmer vectors, working on k: 11 seq 0\n",
      "in getting kmer vectors, working on k: 11 seq 1\n",
      "in getting kmer vectors, working on k: 11 seq 2\n",
      "in getting kmer vectors, working on k: 11 seq 3\n",
      "in getting kmer vectors, working on k: 11 seq 4\n",
      "in getting kmer vectors, working on k: 12 seq 0\n",
      "in getting kmer vectors, working on k: 12 seq 1\n",
      "in getting kmer vectors, working on k: 12 seq 2\n",
      "in getting kmer vectors, working on k: 12 seq 3\n",
      "in getting kmer vectors, working on k: 12 seq 4\n",
      "working on inferring 0 1\n",
      "working on inferring 0 2\n",
      "working on inferring 0 3\n"
     ]
    },
    {
     "name": "stderr",
     "output_type": "stream",
     "text": [
      "/Users/teddygilman/PycharmProjects/CAAM476HW1/venv/lib/python3.9/site-packages/scipy/optimize/_minpack_py.py:178: RuntimeWarning: The iteration is not making good progress, as measured by the \n",
      "  improvement from the last ten iterations.\n",
      "  warnings.warn(msg, RuntimeWarning)\n"
     ]
    },
    {
     "name": "stdout",
     "output_type": "stream",
     "text": [
      "working on inferring 0 4\n",
      "working on inferring 1 2\n"
     ]
    },
    {
     "name": "stderr",
     "output_type": "stream",
     "text": [
      "/Users/teddygilman/PycharmProjects/CAAM476HW1/venv/lib/python3.9/site-packages/scipy/optimize/_minpack_py.py:178: RuntimeWarning: The iteration is not making good progress, as measured by the \n",
      "  improvement from the last ten iterations.\n",
      "  warnings.warn(msg, RuntimeWarning)\n"
     ]
    },
    {
     "name": "stdout",
     "output_type": "stream",
     "text": [
      "working on inferring 1 3\n",
      "working on inferring 1 4\n",
      "working on inferring 2 3\n"
     ]
    },
    {
     "name": "stderr",
     "output_type": "stream",
     "text": [
      "/Users/teddygilman/PycharmProjects/CAAM476HW1/venv/lib/python3.9/site-packages/scipy/optimize/_minpack_py.py:178: RuntimeWarning: The iteration is not making good progress, as measured by the \n",
      "  improvement from the last ten iterations.\n",
      "  warnings.warn(msg, RuntimeWarning)\n"
     ]
    },
    {
     "name": "stdout",
     "output_type": "stream",
     "text": [
      "working on inferring 2 4\n"
     ]
    },
    {
     "name": "stderr",
     "output_type": "stream",
     "text": [
      "/Users/teddygilman/PycharmProjects/CAAM476HW1/venv/lib/python3.9/site-packages/scipy/optimize/_minpack_py.py:178: RuntimeWarning: The iteration is not making good progress, as measured by the \n",
      "  improvement from the last ten iterations.\n",
      "  warnings.warn(msg, RuntimeWarning)\n"
     ]
    },
    {
     "name": "stdout",
     "output_type": "stream",
     "text": [
      "working on inferring 3 4\n"
     ]
    },
    {
     "name": "stderr",
     "output_type": "stream",
     "text": [
      "/Users/teddygilman/PycharmProjects/CAAM476HW1/venv/lib/python3.9/site-packages/scipy/optimize/_minpack_py.py:178: RuntimeWarning: The iteration is not making good progress, as measured by the \n",
      "  improvement from the last ten iterations.\n",
      "  warnings.warn(msg, RuntimeWarning)\n"
     ]
    },
    {
     "name": "stdout",
     "output_type": "stream",
     "text": [
      "in getting kmer vectors, working on k: 9 seq 0\n",
      "in getting kmer vectors, working on k: 9 seq 1\n",
      "in getting kmer vectors, working on k: 9 seq 2\n",
      "in getting kmer vectors, working on k: 9 seq 3\n",
      "in getting kmer vectors, working on k: 9 seq 4\n",
      "in getting kmer vectors, working on k: 10 seq 0\n",
      "in getting kmer vectors, working on k: 10 seq 1\n",
      "in getting kmer vectors, working on k: 10 seq 2\n",
      "in getting kmer vectors, working on k: 10 seq 3\n",
      "in getting kmer vectors, working on k: 10 seq 4\n",
      "in getting kmer vectors, working on k: 11 seq 0\n",
      "in getting kmer vectors, working on k: 11 seq 1\n",
      "in getting kmer vectors, working on k: 11 seq 2\n",
      "in getting kmer vectors, working on k: 11 seq 3\n",
      "in getting kmer vectors, working on k: 11 seq 4\n",
      "in getting kmer vectors, working on k: 12 seq 0\n",
      "in getting kmer vectors, working on k: 12 seq 1\n",
      "in getting kmer vectors, working on k: 12 seq 2\n",
      "in getting kmer vectors, working on k: 12 seq 3\n",
      "in getting kmer vectors, working on k: 12 seq 4\n",
      "working on inferring 0 1\n",
      "working on inferring 0 2\n"
     ]
    },
    {
     "name": "stderr",
     "output_type": "stream",
     "text": [
      "/Users/teddygilman/PycharmProjects/CAAM476HW1/venv/lib/python3.9/site-packages/scipy/optimize/_minpack_py.py:178: RuntimeWarning: The iteration is not making good progress, as measured by the \n",
      "  improvement from the last ten iterations.\n",
      "  warnings.warn(msg, RuntimeWarning)\n"
     ]
    },
    {
     "name": "stdout",
     "output_type": "stream",
     "text": [
      "working on inferring 0 3\n",
      "working on inferring 0 4\n",
      "working on inferring 1 2\n",
      "working on inferring 1 3\n",
      "working on inferring 1 4\n",
      "working on inferring 2 3\n",
      "working on inferring 2 4\n"
     ]
    },
    {
     "name": "stderr",
     "output_type": "stream",
     "text": [
      "/Users/teddygilman/PycharmProjects/CAAM476HW1/venv/lib/python3.9/site-packages/scipy/optimize/_minpack_py.py:178: RuntimeWarning: The iteration is not making good progress, as measured by the \n",
      "  improvement from the last ten iterations.\n",
      "  warnings.warn(msg, RuntimeWarning)\n"
     ]
    },
    {
     "name": "stdout",
     "output_type": "stream",
     "text": [
      "working on inferring 3 4\n",
      "in getting kmer vectors, working on k: 9 seq 0\n",
      "in getting kmer vectors, working on k: 9 seq 1\n",
      "in getting kmer vectors, working on k: 9 seq 2\n",
      "in getting kmer vectors, working on k: 9 seq 3\n",
      "in getting kmer vectors, working on k: 9 seq 4\n",
      "in getting kmer vectors, working on k: 10 seq 0\n",
      "in getting kmer vectors, working on k: 10 seq 1\n",
      "in getting kmer vectors, working on k: 10 seq 2\n",
      "in getting kmer vectors, working on k: 10 seq 3\n",
      "in getting kmer vectors, working on k: 10 seq 4\n",
      "in getting kmer vectors, working on k: 11 seq 0\n",
      "in getting kmer vectors, working on k: 11 seq 1\n",
      "in getting kmer vectors, working on k: 11 seq 2\n",
      "in getting kmer vectors, working on k: 11 seq 3\n",
      "in getting kmer vectors, working on k: 11 seq 4\n",
      "in getting kmer vectors, working on k: 12 seq 0\n",
      "in getting kmer vectors, working on k: 12 seq 1\n",
      "in getting kmer vectors, working on k: 12 seq 2\n",
      "in getting kmer vectors, working on k: 12 seq 3\n",
      "in getting kmer vectors, working on k: 12 seq 4\n",
      "working on inferring 0 1\n",
      "working on inferring 0 2\n"
     ]
    },
    {
     "name": "stderr",
     "output_type": "stream",
     "text": [
      "/Users/teddygilman/PycharmProjects/CAAM476HW1/venv/lib/python3.9/site-packages/scipy/optimize/_minpack_py.py:178: RuntimeWarning: The iteration is not making good progress, as measured by the \n",
      "  improvement from the last ten iterations.\n",
      "  warnings.warn(msg, RuntimeWarning)\n"
     ]
    },
    {
     "name": "stdout",
     "output_type": "stream",
     "text": [
      "working on inferring 0 3\n",
      "working on inferring 0 4\n"
     ]
    },
    {
     "name": "stderr",
     "output_type": "stream",
     "text": [
      "/Users/teddygilman/PycharmProjects/CAAM476HW1/venv/lib/python3.9/site-packages/scipy/optimize/_minpack_py.py:178: RuntimeWarning: The iteration is not making good progress, as measured by the \n",
      "  improvement from the last ten iterations.\n",
      "  warnings.warn(msg, RuntimeWarning)\n"
     ]
    },
    {
     "name": "stdout",
     "output_type": "stream",
     "text": [
      "working on inferring 1 2\n"
     ]
    },
    {
     "name": "stderr",
     "output_type": "stream",
     "text": [
      "/Users/teddygilman/PycharmProjects/CAAM476HW1/venv/lib/python3.9/site-packages/scipy/optimize/_minpack_py.py:178: RuntimeWarning: The iteration is not making good progress, as measured by the \n",
      "  improvement from the last ten iterations.\n",
      "  warnings.warn(msg, RuntimeWarning)\n"
     ]
    },
    {
     "name": "stdout",
     "output_type": "stream",
     "text": [
      "working on inferring 1 3\n",
      "working on inferring 1 4\n",
      "working on inferring 2 3\n",
      "working on inferring 2 4\n",
      "working on inferring 3 4\n"
     ]
    },
    {
     "name": "stderr",
     "output_type": "stream",
     "text": [
      "/Users/teddygilman/PycharmProjects/CAAM476HW1/venv/lib/python3.9/site-packages/scipy/optimize/_minpack_py.py:178: RuntimeWarning: The iteration is not making good progress, as measured by the \n",
      "  improvement from the last ten iterations.\n",
      "  warnings.warn(msg, RuntimeWarning)\n"
     ]
    },
    {
     "name": "stdout",
     "output_type": "stream",
     "text": [
      "in getting kmer vectors, working on k: 9 seq 0\n",
      "in getting kmer vectors, working on k: 9 seq 1\n",
      "in getting kmer vectors, working on k: 9 seq 2\n",
      "in getting kmer vectors, working on k: 9 seq 3\n",
      "in getting kmer vectors, working on k: 9 seq 4\n",
      "in getting kmer vectors, working on k: 10 seq 0\n",
      "in getting kmer vectors, working on k: 10 seq 1\n",
      "in getting kmer vectors, working on k: 10 seq 2\n",
      "in getting kmer vectors, working on k: 10 seq 3\n",
      "in getting kmer vectors, working on k: 10 seq 4\n",
      "in getting kmer vectors, working on k: 11 seq 0\n",
      "in getting kmer vectors, working on k: 11 seq 1\n",
      "in getting kmer vectors, working on k: 11 seq 2\n",
      "in getting kmer vectors, working on k: 11 seq 3\n",
      "in getting kmer vectors, working on k: 11 seq 4\n",
      "in getting kmer vectors, working on k: 12 seq 0\n",
      "in getting kmer vectors, working on k: 12 seq 1\n",
      "in getting kmer vectors, working on k: 12 seq 2\n",
      "in getting kmer vectors, working on k: 12 seq 3\n",
      "in getting kmer vectors, working on k: 12 seq 4\n",
      "working on inferring 0 1\n",
      "working on inferring 0 2\n"
     ]
    },
    {
     "name": "stderr",
     "output_type": "stream",
     "text": [
      "/Users/teddygilman/PycharmProjects/CAAM476HW1/venv/lib/python3.9/site-packages/scipy/optimize/_minpack_py.py:178: RuntimeWarning: The iteration is not making good progress, as measured by the \n",
      "  improvement from the last ten iterations.\n",
      "  warnings.warn(msg, RuntimeWarning)\n"
     ]
    },
    {
     "name": "stdout",
     "output_type": "stream",
     "text": [
      "working on inferring 0 3\n",
      "working on inferring 0 4\n",
      "working on inferring 1 2\n",
      "working on inferring 1 3\n"
     ]
    },
    {
     "name": "stderr",
     "output_type": "stream",
     "text": [
      "/Users/teddygilman/PycharmProjects/CAAM476HW1/venv/lib/python3.9/site-packages/scipy/optimize/_minpack_py.py:178: RuntimeWarning: The iteration is not making good progress, as measured by the \n",
      "  improvement from the last ten iterations.\n",
      "  warnings.warn(msg, RuntimeWarning)\n"
     ]
    },
    {
     "name": "stdout",
     "output_type": "stream",
     "text": [
      "working on inferring 1 4\n",
      "working on inferring 2 3\n",
      "working on inferring 2 4\n"
     ]
    },
    {
     "name": "stderr",
     "output_type": "stream",
     "text": [
      "/Users/teddygilman/PycharmProjects/CAAM476HW1/venv/lib/python3.9/site-packages/scipy/optimize/_minpack_py.py:178: RuntimeWarning: The iteration is not making good progress, as measured by the \n",
      "  improvement from the last ten iterations.\n",
      "  warnings.warn(msg, RuntimeWarning)\n"
     ]
    },
    {
     "name": "stdout",
     "output_type": "stream",
     "text": [
      "working on inferring 3 4\n",
      "[[10.  5.  8.  9.  3.]\n",
      " [ 5. 10.  6.  7.  1.]\n",
      " [ 8.  6. 10.  7.  7.]\n",
      " [ 9.  7.  7. 10.  6.]\n",
      " [ 3.  1.  7.  6. 10.]]\n",
      "          0         1         2         3         4\n",
      "0  0.000000  0.000419  0.000934  0.001216  0.000714\n",
      "1  0.000419  0.000000  0.001493  0.001012  0.001087\n",
      "2  0.000934  0.001493  0.000000  0.000616  0.001040\n",
      "3  0.001216  0.001012  0.000616  0.000000  0.000958\n",
      "4  0.000714  0.001087  0.001040  0.000958  0.000000\n",
      "T3  0.000000\n",
      "T1  0.000841    0.000000\n",
      "T5  0.002430    0.002437    0.000000\n",
      "T4  0.002469    0.002477    0.001579    0.000000\n",
      "T2  0.002426    0.002433    0.002280    0.002319    0.000000\n",
      "    T3  T1  T5  T4  T2\n"
     ]
    }
   ],
   "source": [
    "\n",
    "results = {}\n",
    "for i in range(2):\n",
    "    try:\n",
    "        results[i] = experiment(1000)\n",
    "    except:\n",
    "        print('somethingwrong')\n"
   ],
   "metadata": {
    "collapsed": false
   }
  },
  {
   "cell_type": "code",
   "execution_count": 25,
   "outputs": [
    {
     "data": {
      "text/plain": "{0: (0.000260279908174808, 1.8631383582830102e-05),\n 1: (0.0003718186476931413, 2.7244595960547058e-05)}"
     },
     "execution_count": 25,
     "metadata": {},
     "output_type": "execute_result"
    }
   ],
   "source": [
    "results"
   ],
   "metadata": {
    "collapsed": false
   }
  },
  {
   "cell_type": "code",
   "execution_count": null,
   "outputs": [],
   "source": [
    "\n",
    "results2 = {}\n",
    "for i in range(10):\n",
    "    try:\n",
    "        results2[i] = experiment(1000000)\n",
    "    except:\n",
    "        print('somethingwrong')"
   ],
   "metadata": {
    "collapsed": false,
    "pycharm": {
     "is_executing": true
    }
   }
  },
  {
   "cell_type": "code",
   "execution_count": 10,
   "outputs": [
    {
     "data": {
      "text/plain": "{0: (0.02343770765944799, 0.08623312374314397),\n 1: (0.020541999859968525, 0.08691434189065886),\n 2: (0.021286372117691212, 0.08668502669606058),\n 3: (0.017164755083637174, 0.08715840591347267),\n 4: (0.02872498310909452, 0.08670059582072552),\n 5: (0.02444516715060222, 0.08700376364789376),\n 6: (0.03159574177052006, 0.08704149470037383),\n 7: (0.02031897618674083, 0.0866849296835355),\n 8: (0.024855262804444198, 0.08730188887543296),\n 9: (0.025659668316184603, 0.08656053164258712)}"
     },
     "execution_count": 10,
     "metadata": {},
     "output_type": "execute_result"
    }
   ],
   "source": [
    "results2"
   ],
   "metadata": {
    "collapsed": false
   }
  },
  {
   "cell_type": "code",
   "execution_count": null,
   "outputs": [],
   "source": [
    "\n",
    "results3 = {}\n",
    "for i in range(10):\n",
    "    try:\n",
    "        results3[i] = experiment(1000000)\n",
    "    except:\n",
    "        print('somethingwrong')"
   ],
   "metadata": {
    "collapsed": false,
    "pycharm": {
     "is_executing": true
    }
   }
  },
  {
   "cell_type": "code",
   "execution_count": 12,
   "outputs": [
    {
     "data": {
      "text/plain": "{0: (0.02735828663817567, 0.08668217850176406),\n 1: (0.017586755354286762, 0.08720741485086381),\n 2: (0.02525546565357266, 0.08684229436066147),\n 3: (0.02807130569772679, 0.08633618549523715),\n 4: (0.028628388008765365, 0.08687862980101874),\n 5: (0.026855533552270845, 0.08679568973592808),\n 6: (0.02984744807433688, 0.08675564027847146),\n 7: (0.018379074075738504, 0.08712973760189913),\n 8: (0.01822848326372644, 0.08701101946919423),\n 9: (0.029283422526404743, 0.0867851953792014)}"
     },
     "execution_count": 12,
     "metadata": {},
     "output_type": "execute_result"
    }
   ],
   "source": [
    "results3"
   ],
   "metadata": {
    "collapsed": false
   }
  },
  {
   "cell_type": "code",
   "execution_count": 12,
   "outputs": [],
   "source": [],
   "metadata": {
    "collapsed": false
   }
  },
  {
   "cell_type": "markdown",
   "source": [
    "## -  - - - -------------- - - - - - - - - - - _+++ _ _ - - - -  - - - - - --  -"
   ],
   "metadata": {
    "collapsed": false
   }
  },
  {
   "cell_type": "code",
   "execution_count": 13,
   "outputs": [],
   "source": [
    "def avgdict(dict):\n",
    "    our_vals = []\n",
    "    their_vals = []\n",
    "    for value in dict.values():\n",
    "        our_vals.append(value[0])\n",
    "        their_vals.append(value[1])\n",
    "    return np.mean(our_vals), np.mean(their_vals)\n"
   ],
   "metadata": {
    "collapsed": false
   }
  },
  {
   "cell_type": "code",
   "execution_count": 15,
   "outputs": [
    {
     "name": "stdout",
     "output_type": "stream",
     "text": [
      "0.004416758475349466\n",
      "0.00010134943231509486\n"
     ]
    }
   ],
   "source": [
    "d1000_1 = {0: (np.float64(0.0072956746878460425), np.float64(8.106343327633886e-05)),\n",
    " 1: (np.float64(0.0037892120816123676), np.float64(7.985369901892427e-05)),\n",
    " 2: (np.float64(0.0013088548916303827), np.float64(6.54995755060786e-05)),\n",
    " 3: (np.float64(0.0010928023774587337), np.float64(9.437238499449127e-05)),\n",
    " 4: (np.float64(0.001968801975997991), np.float64(7.686741055314288e-05)),\n",
    " 5: (np.float64(0.004000070991943198), np.float64(7.471702673402863e-05)),\n",
    " 6: (np.float64(0.0025642288707213748), np.float64(0.00011201956214235674)),\n",
    " 7: (np.float64(0.013526617415978442), np.float64(0.00011000760886221412)),\n",
    " 8: (np.float64(0.002497992412654914), np.float64(9.223234620616827e-05)),\n",
    " 9: (np.float64(0.003743490737692659), np.float64(8.165676843792145e-05))}\n",
    "\n",
    "d1000_2 = {0: (np.float64(0.002394688258899575), np.float64(7.246325423620166e-05)),\n",
    " 1: (np.float64(0.0020223760195531575), np.float64(0.00011077843116118284)),\n",
    " 2: (np.float64(0.004507331902750916), np.float64(9.226680129564171e-05)),\n",
    " 3: (np.float64(0.0007819824437654087), np.float64(7.878487303098268e-05)),\n",
    " 4: (np.float64(0.0027453341283392454), np.float64(4.4580046696738703e-05)),\n",
    " 5: (np.float64(0.0049625251644708455), np.float64(0.00010747149206845528)),\n",
    " 6: (np.float64(0.002426946271334538), np.float64(0.00013978934363452863)),\n",
    " 7: (np.float64(0.0012705684750678621), np.float64(7.130723244559439e-05)),\n",
    " 8: (np.float64(0.0022292005205396337), np.float64(3.383857661612712e-05)),\n",
    " 9: (np.float64(0.023206469878732035), np.float64(0.0004074187793847792))}\n",
    "\n",
    "avgs1 = avgdict(d1000_1)\n",
    "avgs2 = avgdict(d1000_2)\n",
    "\n",
    "print((avgs1[0] + avgs2[0])/2)\n",
    "print((avgs1[1] + avgs2[1])/2)"
   ],
   "metadata": {
    "collapsed": false
   }
  },
  {
   "cell_type": "code",
   "execution_count": 16,
   "outputs": [
    {
     "name": "stdout",
     "output_type": "stream",
     "text": [
      "(0.0029427369827651276, 0.000876037985080828)\n"
     ]
    }
   ],
   "source": [
    "dtenthousand = {0: (np.float64(0.0005639488770632573), np.float64(0.0008855862891029176)),\n",
    " 1: (np.float64(0.009665178605919922), np.float64(0.000795429360303737)),\n",
    " 2: (np.float64(0.002075437142961673), np.float64(0.0009121208581641586)),\n",
    " 3: (np.float64(0.0022228808032931924), np.float64(0.0008612728374948773)),\n",
    " 4: (np.float64(0.0024432541685518666), np.float64(0.000955607040310874)),\n",
    " 5: (np.float64(0.005497812566663653), np.float64(0.0008445739667645566)),\n",
    " 6: (np.float64(0.0014142533355465182), np.float64(0.0008756025801457163)),\n",
    " 7: (np.float64(0.002738974520786086), np.float64(0.0008501985161189472)),\n",
    " 8: (np.float64(0.001352858033824716), np.float64(0.0009162079518995649)),\n",
    " 9: (np.float64(0.0014527717730403891), np.float64(0.0008637804505029313))}\n",
    "\n",
    "print(avgdict(dtenthousand))"
   ],
   "metadata": {
    "collapsed": false
   }
  },
  {
   "cell_type": "code",
   "execution_count": 17,
   "outputs": [
    {
     "name": "stdout",
     "output_type": "stream",
     "text": [
      "(0.008879311523104116, 0.008872766721117004)\n"
     ]
    }
   ],
   "source": [
    "dhundythou = {0: (np.float64(0.0067834809085216986), np.float64(0.008930895134462068)),\n",
    " 1: (np.float64(0.012690597058852969), np.float64(0.008899588116265527)),\n",
    " 2: (np.float64(0.006819978724350112), np.float64(0.0089130711367892)),\n",
    " 3: (np.float64(0.011389003169212661), np.float64(0.008856515330257206)),\n",
    " 4: (np.float64(0.0069707378920482056), np.float64(0.008953600999189498)),\n",
    " 5: (np.float64(0.008385401236296561), np.float64(0.008875532471105608)),\n",
    " 6: (np.float64(0.008305596000915867), np.float64(0.00887746480167748)),\n",
    " 7: (np.float64(0.009011752657450542), np.float64(0.00893951324862232)),\n",
    " 8: (np.float64(0.009028647099520726), np.float64(0.00880973889459681)),\n",
    " 10: (0.007093540282731658, 0.00894279980213061),\n",
    " 11: (0.008434958902552919, 0.008783735060882984),\n",
    " 12: (0.00785363750715936, 0.008694571124756526),\n",
    " 13: (0.011671405399010648, 0.008823480680129557),\n",
    " 14: (0.0057187061544893, 0.008945318205871695),\n",
    " 15: (0.008246644407113672, 0.008859394187270468),\n",
    " 16: (0.006945791002327476, 0.008945363660648676),\n",
    " 17: (0.017324904919648602, 0.008523907826669758),\n",
    " 18: (0.0074111729112624584, 0.009042999518191165),\n",
    " 19: (0.00862096270551277, 0.008965077501705943)}\n",
    "\n",
    "print(avgdict(dhundythou))"
   ],
   "metadata": {
    "collapsed": false
   }
  },
  {
   "cell_type": "code",
   "execution_count": 18,
   "outputs": [
    {
     "name": "stdout",
     "output_type": "stream",
     "text": [
      "(0.024376239845166802, 0.08683540440440621)\n"
     ]
    }
   ],
   "source": [
    "dmil = {0: (0.02343770765944799, 0.08623312374314397),\n",
    " 1: (0.020541999859968525, 0.08691434189065886),\n",
    " 2: (0.021286372117691212, 0.08668502669606058),\n",
    " 3: (0.017164755083637174, 0.08715840591347267),\n",
    " 4: (0.02872498310909452, 0.08670059582072552),\n",
    " 5: (0.02444516715060222, 0.08700376364789376),\n",
    " 6: (0.03159574177052006, 0.08704149470037383),\n",
    " 7: (0.02031897618674083, 0.0866849296835355),\n",
    " 8: (0.024855262804444198, 0.08730188887543296),\n",
    " 9: (0.025659668316184603, 0.08656053164258712),\n",
    " 10: (0.02735828663817567, 0.08668217850176406),\n",
    " 11: (0.017586755354286762, 0.08720741485086381),\n",
    " 12: (0.02525546565357266, 0.08684229436066147),\n",
    " 13: (0.02807130569772679, 0.08633618549523715),\n",
    " 14: (0.028628388008765365, 0.08687862980101874),\n",
    " 15: (0.026855533552270845, 0.08679568973592808),\n",
    " 16: (0.02984744807433688, 0.08675564027847146),\n",
    " 17: (0.018379074075738504, 0.08712973760189913),\n",
    " 18: (0.01822848326372644, 0.08701101946919423),\n",
    " 19: (0.029283422526404743, 0.0867851953792014)}\n",
    "\n",
    "print(avgdict(dmil))\n"
   ],
   "metadata": {
    "collapsed": false
   }
  },
  {
   "cell_type": "code",
   "execution_count": 19,
   "outputs": [
    {
     "ename": "NameError",
     "evalue": "name 'theirTreeMatrix' is not defined",
     "output_type": "error",
     "traceback": [
      "\u001B[0;31m---------------------------------------------------------------------------\u001B[0m",
      "\u001B[0;31mNameError\u001B[0m                                 Traceback (most recent call last)",
      "Cell \u001B[0;32mIn[19], line 1\u001B[0m\n\u001B[0;32m----> 1\u001B[0m \u001B[43mtheirTreeMatrix\u001B[49m\n",
      "\u001B[0;31mNameError\u001B[0m: name 'theirTreeMatrix' is not defined"
     ]
    }
   ],
   "source": [],
   "metadata": {
    "collapsed": false
   }
  },
  {
   "cell_type": "code",
   "execution_count": null,
   "outputs": [],
   "source": [],
   "metadata": {
    "collapsed": false
   }
  }
 ],
 "metadata": {
  "kernelspec": {
   "display_name": "Python 3",
   "language": "python",
   "name": "python3"
  },
  "language_info": {
   "codemirror_mode": {
    "name": "ipython",
    "version": 3
   },
   "file_extension": ".py",
   "mimetype": "text/x-python",
   "name": "python",
   "nbconvert_exporter": "python",
   "pygments_lexer": "ipython3",
   "version": "3.8.8"
  }
 },
 "nbformat": 4,
 "nbformat_minor": 5
}
