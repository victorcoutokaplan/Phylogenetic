{
 "cells": [
  {
   "cell_type": "code",
   "execution_count": 1,
   "id": "c207ec48",
   "metadata": {},
   "outputs": [],
   "source": [
    "import dendropy.calculate.treecompare\n",
    "import MakingSequences\n",
    "import makingPairwiseDistancesOurMethod\n",
    "import makingFinalReconstructedTreeOurMethod\n",
    "import makingOtherMethodTree\n",
    "import comparingTrees\n",
    "import time\n",
    "import numpy as np\n",
    "import pandas as pd"
   ]
  },
  {
   "cell_type": "code",
   "execution_count": 2,
   "id": "b7744336",
   "metadata": {},
   "outputs": [],
   "source": [
    "seqLenInput = 1e7\n",
    "initial_size_Var=200\n",
    "mu_Var = 1e-8\n",
    "recombination_rate=1e-8"
   ]
  },
  {
   "cell_type": "code",
   "execution_count": 3,
   "id": "543bb39a",
   "metadata": {},
   "outputs": [],
   "source": [
    "birth_rate = 1000.0\n",
    "death_rate = 500.0\n",
    "n_populations = 5\n",
    "extra_populations = 5 # for \"GSA\" sampling scheme"
   ]
  },
  {
   "cell_type": "markdown",
   "id": "6019c04f",
   "metadata": {},
   "source": [
    "## Make Trees and Sequences"
   ]
  },
  {
   "cell_type": "code",
   "execution_count": null,
   "id": "0c2724f4",
   "metadata": {},
   "outputs": [],
   "source": [
    "st = time.time()\n",
    "seqs, tree = MakingSequences.makeSequencesFromScratch(birth_rate, death_rate, n_populations, extra_populations, seqLenInput, initial_size_Var, mu_Var, recombination_rate)\n",
    "print((time.time()-st)/60)"
   ]
  },
  {
   "cell_type": "markdown",
   "id": "5e09868f",
   "metadata": {},
   "source": [
    "## Our Matrix"
   ]
  },
  {
   "cell_type": "code",
   "execution_count": null,
   "id": "e33ef91a",
   "metadata": {},
   "outputs": [],
   "source": [
    "st = time.time()\n",
    "mats = makingFinalReconstructedTreeOurMethod.makeManyMatricesOfDistances(10, seqs)\n",
    "print((time.time()-st)/60)"
   ]
  },
  {
   "cell_type": "code",
   "execution_count": null,
   "id": "51a691fb",
   "metadata": {},
   "outputs": [],
   "source": [
    "finalDistMat = makingFinalReconstructedTreeOurMethod.makeFinalDistMatrixFromSmallerOnes(mats)\n",
    "\n",
    "print(finalDistMat)\n",
    "average = np.average(finalDistMat)\n",
    "for i in range(len(finalDistMat[0])):\n",
    "    for j in range(len(finalDistMat[0])):\n",
    "        if i != j:\n",
    "            if finalDistMat[i][j] == 0.0:\n",
    "                finalDistMat[i][j] += average\n",
    "finalDistMat"
   ]
  },
  {
   "cell_type": "markdown",
   "id": "b8ab5fb1",
   "metadata": {},
   "source": [
    "## Their Matrix"
   ]
  },
  {
   "cell_type": "code",
   "execution_count": null,
   "id": "941e4b7e",
   "metadata": {},
   "outputs": [],
   "source": [
    "theirTree = makingOtherMethodTree.inferTreeFromSeqs(seqs, mu_Var)\n",
    "theirTreeMatrix = np.array(pd.read_csv('otherMethodDistanceMatrix.csv').drop(columns='Unnamed: 0'))"
   ]
  },
  {
   "cell_type": "markdown",
   "id": "e6e8d5cb",
   "metadata": {},
   "source": [
    "## True Matrix"
   ]
  },
  {
   "cell_type": "code",
   "execution_count": null,
   "id": "ecbabce9",
   "metadata": {},
   "outputs": [],
   "source": [
    "trueDistDict = tree.phylogenetic_distance_matrix().as_data_table()._data\n",
    "trueDistMat = np.zeros((5,5))\n",
    "for pair1 in trueDistDict:\n",
    "    for pair2 in trueDistDict:\n",
    "        ind1 = list(seqs.keys()).index(pair1)\n",
    "        ind2 = list(seqs.keys()).index(pair2)  \n",
    "        trueDistMat[ind1][ind2]  = trueDistDict[pair1][pair2]\n",
    "\n",
    "import pandas as pd      \n",
    "print(pd.DataFrame(trueDistMat*mu_Var))"
   ]
  },
  {
   "cell_type": "markdown",
   "id": "8b98f403",
   "metadata": {},
   "source": [
    "## Compare"
   ]
  },
  {
   "cell_type": "code",
   "execution_count": null,
   "id": "aeedc59e",
   "metadata": {},
   "outputs": [],
   "source": [
    "print(np.linalg.norm(finalDistMat*2 - trueDistMat*mu_Var))\n",
    "print(np.linalg.norm(theirTreeMatrix - trueDistMat*mu_Var))"
   ]
  },
  {
   "cell_type": "code",
   "execution_count": null,
   "outputs": [],
   "source": [
    "def elt_wise_abs_error(X, Y):\n",
    "    X = np.array(X)\n",
    "    Y = np.array(Y)\n",
    "    return np.sum(np.absolute(X - Y))\n",
    "\n",
    "scale_factor = 20\n",
    "print(elt_wise_abs_error(finalDistMat*2, trueDistMat*mu_Var)/scale_factor, elt_wise_abs_error(theirTreeMatrix,  trueDistMat*mu_Var)/scale_factor)"
   ],
   "metadata": {
    "collapsed": false
   }
  },
  {
   "cell_type": "code",
   "execution_count": 4,
   "outputs": [],
   "source": [
    "def elt_wise_abs_error(X, Y):\n",
    "    X = np.array(X)\n",
    "    Y = np.array(Y)\n",
    "    return np.sum(np.absolute(X - Y))\n",
    "\n",
    "def experiment(size):\n",
    "    seqLenInput = 1e7\n",
    "    initial_size_Var=size\n",
    "    mu_Var = 1e-8\n",
    "    recombination_rate=1e-8\n",
    "\n",
    "    birth_rate = 1000.0\n",
    "    death_rate = 500.0\n",
    "    n_populations = 5\n",
    "    extra_populations = 5 # for \"GSA\" sampling scheme\n",
    "\n",
    "    seqs, tree = MakingSequences.makeSequencesFromScratch(birth_rate, death_rate, n_populations, extra_populations, seqLenInput, initial_size_Var, mu_Var, recombination_rate)\n",
    "\n",
    "    mats = makingFinalReconstructedTreeOurMethod.makeManyMatricesOfDistances(10, seqs)\n",
    "\n",
    "    finalDistMat = makingFinalReconstructedTreeOurMethod.makeFinalDistMatrixFromSmallerOnes(mats)\n",
    "\n",
    "    print(finalDistMat)\n",
    "    average = np.average(finalDistMat)\n",
    "    for i in range(len(finalDistMat[0])):\n",
    "        for j in range(len(finalDistMat[0])):\n",
    "            if i != j:\n",
    "                if finalDistMat[i][j] == 0.0:\n",
    "                    finalDistMat[i][j] += average\n",
    "\n",
    "    theirTree = makingOtherMethodTree.inferTreeFromSeqs(seqs, mu_Var)\n",
    "    theirTreeMatrix = np.array(pd.read_csv('otherMethodDistanceMatrix.csv').drop(columns='Unnamed: 0'))\n",
    "\n",
    "    trueDistDict = tree.phylogenetic_distance_matrix().as_data_table()._data\n",
    "    trueDistMat = np.zeros((5,5))\n",
    "    for pair1 in trueDistDict:\n",
    "        for pair2 in trueDistDict:\n",
    "            ind1 = list(seqs.keys()).index(pair1)\n",
    "            ind2 = list(seqs.keys()).index(pair2)\n",
    "            trueDistMat[ind1][ind2]  = trueDistDict[pair1][pair2]\n",
    "    scale_factor = n_populations*(n_populations - 1)\n",
    "    return elt_wise_abs_error(finalDistMat*2, trueDistMat*mu_Var)/scale_factor, elt_wise_abs_error(theirTreeMatrix,  trueDistMat*mu_Var)/scale_factor\n",
    "\n"
   ],
   "metadata": {
    "collapsed": false
   }
  },
  {
   "cell_type": "code",
   "execution_count": null,
   "outputs": [],
   "source": [
    "\n",
    "results = {}\n",
    "sizes = [1000, 10000, 100000, 1000000]\n",
    "for size in sizes:\n",
    "    for i in range(10):\n",
    "        try:\n",
    "            results[(size, i)] = experiment(size)\n",
    "        except:\n",
    "            print('something wrong')\n"
   ],
   "metadata": {
    "collapsed": false,
    "pycharm": {
     "is_executing": true
    }
   }
  },
  {
   "cell_type": "code",
   "execution_count": 8,
   "outputs": [
    {
     "data": {
      "text/plain": "{(1000, 0): (0.00035619459020910864, 8.549142612579875e-06),\n (1000, 1): (0.00020920992832054418, 2.9984396064715048e-05),\n (1000, 2): (0.0007750443125179252, 2.190992464274074e-05),\n (1000, 3): (0.0002779090235282911, 1.941172005101302e-05),\n (1000, 4): (0.00020902232773126333, 1.4395984758733754e-05),\n (1000, 5): (0.00030226258456940604, 8.541442827999191e-06),\n (1000, 6): (0.000986695461036352, 1.5012169022853152e-05),\n (1000, 7): (0.000163967988227894, 1.2156888211880515e-05),\n (1000, 8): (0.00034088740222716277, 2.086376956904998e-05),\n (1000, 9): (0.0005752483381987904, 1.228371821566004e-05),\n (10000, 0): (0.0005627266068707746, 0.0001923426091857371),\n (10000, 1): (0.00011323895458726328, 0.00020243125186152167),\n (10000, 2): (0.0002888598146499603, 0.00017405331432143435),\n (10000, 3): (0.00035850360153080296, 0.00020469797347921558),\n (10000, 4): (0.0004057968025926287, 0.00020417538732003926),\n (10000, 5): (0.0024379527560808795, 0.00019352074984190496),\n (10000, 6): (0.0004138482178257191, 0.00018694964530670857),\n (10000, 7): (0.0003518584092493322, 0.00018414097908999404),\n (10000, 8): (0.00013944597744893983, 0.0002155413367425074),\n (10000, 9): (0.00020920193917058522, 0.00019915133325296516),\n (100000, 0): (0.0019178045069480052, 0.0019604727416634394),\n (100000, 1): (0.00296015523028453, 0.0019574577992106596),\n (100000, 2): (0.0022458807121932068, 0.0019344564965959627),\n (100000, 3): (0.0015724189029826196, 0.0019749995818378017),\n (100000, 4): (0.0016192216611719608, 0.0019949564080097965),\n (100000, 5): (0.0015440437568310708, 0.0019618112913387456),\n (100000, 6): (0.0013107419625891098, 0.002001852415609582),\n (100000, 7): (0.00163204543436161, 0.0019855471770330053),\n (100000, 8): (0.0012583627913643816, 0.0019992491261600644),\n (100000, 9): (0.0014796341815695186, 0.0020075087462172792),\n (1000000, 0): (0.004433868482454886, 0.019398571833557365),\n (1000000, 1): (0.011701379284653132, 0.019482407962579336),\n (1000000, 2): (0.004751349243233928, 0.01928637862200628),\n (1000000, 3): (0.0048037334222323855, 0.019451419897397397),\n (1000000, 4): (0.006572386160532939, 0.019285502463140314),\n (1000000, 5): (0.005496582071851664, 0.019444073457518425),\n (1000000, 6): (0.005450496621720391, 0.019448844447940084),\n (1000000, 7): (0.005898000357987812, 0.019348581372110492),\n (1000000, 8): (0.0035093275760891703, 0.019447570453983945),\n (1000000, 9): (0.00466132516707835, 0.019401497007331642)}"
     },
     "execution_count": 8,
     "metadata": {},
     "output_type": "execute_result"
    }
   ],
   "source": [
    "results"
   ],
   "metadata": {
    "collapsed": false
   }
  },
  {
   "cell_type": "code",
   "execution_count": 10,
   "outputs": [
    {
     "name": "stdout",
     "output_type": "stream",
     "text": [
      "1000 0.00041964419565667375 0.00025887821297962773 1.6310915597722536e-05 6.388225340122438e-06\n",
      "10000 0.0005281433080006886 0.0006495125547131904 0.0001957004580402028 1.13950677413055e-05\n",
      "100000 0.0017540309140296015 0.00048488049555365294 0.001977831178367634 2.2653309088633314e-05\n",
      "1000000 0.005727844838783466 0.0021470189716394717 0.019399484751756527 6.685153749186054e-05\n"
     ]
    }
   ],
   "source": [
    "for size in sizes:\n",
    "    us = [results[(size, i)][0] for i in range(10)]\n",
    "    them = [results[(size, i)][1] for i in range(10)]\n",
    "    print(size, np.mean(us), np.std(us), np.mean(them), np.std(them))"
   ],
   "metadata": {
    "collapsed": false
   }
  },
  {
   "cell_type": "code",
   "execution_count": null,
   "outputs": [],
   "source": [
    "\n",
    "results2 = {}\n",
    "for i in range(10):\n",
    "    try:\n",
    "        results2[i] = experiment(1000000)\n",
    "    except:\n",
    "        print('somethingwrong')"
   ],
   "metadata": {
    "collapsed": false
   }
  },
  {
   "cell_type": "code",
   "execution_count": null,
   "outputs": [],
   "source": [
    "results2"
   ],
   "metadata": {
    "collapsed": false
   }
  },
  {
   "cell_type": "code",
   "execution_count": null,
   "outputs": [],
   "source": [
    "\n",
    "results3 = {}\n",
    "for i in range(10):\n",
    "    try:\n",
    "        results3[i] = experiment(1000000)\n",
    "    except:\n",
    "        print('somethingwrong')"
   ],
   "metadata": {
    "collapsed": false
   }
  },
  {
   "cell_type": "code",
   "execution_count": null,
   "outputs": [],
   "source": [
    "results3"
   ],
   "metadata": {
    "collapsed": false
   }
  },
  {
   "cell_type": "code",
   "execution_count": null,
   "outputs": [],
   "source": [],
   "metadata": {
    "collapsed": false
   }
  },
  {
   "cell_type": "markdown",
   "source": [
    "## -  - - - -------------- - - - - - - - - - - _+++ _ _ - - - -  - - - - - --  -"
   ],
   "metadata": {
    "collapsed": false
   }
  },
  {
   "cell_type": "code",
   "execution_count": null,
   "outputs": [],
   "source": [
    "def avgdict(dict):\n",
    "    our_vals = []\n",
    "    their_vals = []\n",
    "    for value in dict.values():\n",
    "        our_vals.append(value[0])\n",
    "        their_vals.append(value[1])\n",
    "    return np.mean(our_vals), np.mean(their_vals)\n"
   ],
   "metadata": {
    "collapsed": false
   }
  },
  {
   "cell_type": "code",
   "execution_count": null,
   "outputs": [],
   "source": [
    "d1000_1 = {0: (np.float64(0.0072956746878460425), np.float64(8.106343327633886e-05)),\n",
    " 1: (np.float64(0.0037892120816123676), np.float64(7.985369901892427e-05)),\n",
    " 2: (np.float64(0.0013088548916303827), np.float64(6.54995755060786e-05)),\n",
    " 3: (np.float64(0.0010928023774587337), np.float64(9.437238499449127e-05)),\n",
    " 4: (np.float64(0.001968801975997991), np.float64(7.686741055314288e-05)),\n",
    " 5: (np.float64(0.004000070991943198), np.float64(7.471702673402863e-05)),\n",
    " 6: (np.float64(0.0025642288707213748), np.float64(0.00011201956214235674)),\n",
    " 7: (np.float64(0.013526617415978442), np.float64(0.00011000760886221412)),\n",
    " 8: (np.float64(0.002497992412654914), np.float64(9.223234620616827e-05)),\n",
    " 9: (np.float64(0.003743490737692659), np.float64(8.165676843792145e-05))}\n",
    "\n",
    "d1000_2 = {0: (np.float64(0.002394688258899575), np.float64(7.246325423620166e-05)),\n",
    " 1: (np.float64(0.0020223760195531575), np.float64(0.00011077843116118284)),\n",
    " 2: (np.float64(0.004507331902750916), np.float64(9.226680129564171e-05)),\n",
    " 3: (np.float64(0.0007819824437654087), np.float64(7.878487303098268e-05)),\n",
    " 4: (np.float64(0.0027453341283392454), np.float64(4.4580046696738703e-05)),\n",
    " 5: (np.float64(0.0049625251644708455), np.float64(0.00010747149206845528)),\n",
    " 6: (np.float64(0.002426946271334538), np.float64(0.00013978934363452863)),\n",
    " 7: (np.float64(0.0012705684750678621), np.float64(7.130723244559439e-05)),\n",
    " 8: (np.float64(0.0022292005205396337), np.float64(3.383857661612712e-05)),\n",
    " 9: (np.float64(0.023206469878732035), np.float64(0.0004074187793847792))}\n",
    "\n",
    "avgs1 = avgdict(d1000_1)\n",
    "avgs2 = avgdict(d1000_2)\n",
    "\n",
    "print((avgs1[0] + avgs2[0])/2)\n",
    "print((avgs1[1] + avgs2[1])/2)"
   ],
   "metadata": {
    "collapsed": false
   }
  },
  {
   "cell_type": "code",
   "execution_count": null,
   "outputs": [],
   "source": [
    "dtenthousand = {0: (np.float64(0.0005639488770632573), np.float64(0.0008855862891029176)),\n",
    " 1: (np.float64(0.009665178605919922), np.float64(0.000795429360303737)),\n",
    " 2: (np.float64(0.002075437142961673), np.float64(0.0009121208581641586)),\n",
    " 3: (np.float64(0.0022228808032931924), np.float64(0.0008612728374948773)),\n",
    " 4: (np.float64(0.0024432541685518666), np.float64(0.000955607040310874)),\n",
    " 5: (np.float64(0.005497812566663653), np.float64(0.0008445739667645566)),\n",
    " 6: (np.float64(0.0014142533355465182), np.float64(0.0008756025801457163)),\n",
    " 7: (np.float64(0.002738974520786086), np.float64(0.0008501985161189472)),\n",
    " 8: (np.float64(0.001352858033824716), np.float64(0.0009162079518995649)),\n",
    " 9: (np.float64(0.0014527717730403891), np.float64(0.0008637804505029313))}\n",
    "\n",
    "print(avgdict(dtenthousand))"
   ],
   "metadata": {
    "collapsed": false
   }
  },
  {
   "cell_type": "code",
   "execution_count": null,
   "outputs": [],
   "source": [
    "dhundythou = {0: (np.float64(0.0067834809085216986), np.float64(0.008930895134462068)),\n",
    " 1: (np.float64(0.012690597058852969), np.float64(0.008899588116265527)),\n",
    " 2: (np.float64(0.006819978724350112), np.float64(0.0089130711367892)),\n",
    " 3: (np.float64(0.011389003169212661), np.float64(0.008856515330257206)),\n",
    " 4: (np.float64(0.0069707378920482056), np.float64(0.008953600999189498)),\n",
    " 5: (np.float64(0.008385401236296561), np.float64(0.008875532471105608)),\n",
    " 6: (np.float64(0.008305596000915867), np.float64(0.00887746480167748)),\n",
    " 7: (np.float64(0.009011752657450542), np.float64(0.00893951324862232)),\n",
    " 8: (np.float64(0.009028647099520726), np.float64(0.00880973889459681)),\n",
    " 10: (0.007093540282731658, 0.00894279980213061),\n",
    " 11: (0.008434958902552919, 0.008783735060882984),\n",
    " 12: (0.00785363750715936, 0.008694571124756526),\n",
    " 13: (0.011671405399010648, 0.008823480680129557),\n",
    " 14: (0.0057187061544893, 0.008945318205871695),\n",
    " 15: (0.008246644407113672, 0.008859394187270468),\n",
    " 16: (0.006945791002327476, 0.008945363660648676),\n",
    " 17: (0.017324904919648602, 0.008523907826669758),\n",
    " 18: (0.0074111729112624584, 0.009042999518191165),\n",
    " 19: (0.00862096270551277, 0.008965077501705943)}\n",
    "\n",
    "print(avgdict(dhundythou))"
   ],
   "metadata": {
    "collapsed": false
   }
  },
  {
   "cell_type": "code",
   "execution_count": null,
   "outputs": [],
   "source": [
    "dmil = {0: (0.02343770765944799, 0.08623312374314397),\n",
    " 1: (0.020541999859968525, 0.08691434189065886),\n",
    " 2: (0.021286372117691212, 0.08668502669606058),\n",
    " 3: (0.017164755083637174, 0.08715840591347267),\n",
    " 4: (0.02872498310909452, 0.08670059582072552),\n",
    " 5: (0.02444516715060222, 0.08700376364789376),\n",
    " 6: (0.03159574177052006, 0.08704149470037383),\n",
    " 7: (0.02031897618674083, 0.0866849296835355),\n",
    " 8: (0.024855262804444198, 0.08730188887543296),\n",
    " 9: (0.025659668316184603, 0.08656053164258712),\n",
    " 10: (0.02735828663817567, 0.08668217850176406),\n",
    " 11: (0.017586755354286762, 0.08720741485086381),\n",
    " 12: (0.02525546565357266, 0.08684229436066147),\n",
    " 13: (0.02807130569772679, 0.08633618549523715),\n",
    " 14: (0.028628388008765365, 0.08687862980101874),\n",
    " 15: (0.026855533552270845, 0.08679568973592808),\n",
    " 16: (0.02984744807433688, 0.08675564027847146),\n",
    " 17: (0.018379074075738504, 0.08712973760189913),\n",
    " 18: (0.01822848326372644, 0.08701101946919423),\n",
    " 19: (0.029283422526404743, 0.0867851953792014)}\n",
    "\n",
    "print(avgdict(dmil))\n"
   ],
   "metadata": {
    "collapsed": false
   }
  },
  {
   "cell_type": "code",
   "execution_count": null,
   "outputs": [],
   "source": [],
   "metadata": {
    "collapsed": false
   }
  },
  {
   "cell_type": "code",
   "execution_count": null,
   "outputs": [],
   "source": [],
   "metadata": {
    "collapsed": false
   }
  }
 ],
 "metadata": {
  "kernelspec": {
   "display_name": "Python 3",
   "language": "python",
   "name": "python3"
  },
  "language_info": {
   "codemirror_mode": {
    "name": "ipython",
    "version": 3
   },
   "file_extension": ".py",
   "mimetype": "text/x-python",
   "name": "python",
   "nbconvert_exporter": "python",
   "pygments_lexer": "ipython3",
   "version": "3.8.8"
  }
 },
 "nbformat": 4,
 "nbformat_minor": 5
}
